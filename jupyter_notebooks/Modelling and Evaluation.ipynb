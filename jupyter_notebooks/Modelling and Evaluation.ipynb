{
  "cells": [
    {
      "cell_type": "markdown",
      "metadata": {
        "id": "0aStgWSO0E0E"
      },
      "source": [
        "# Modelling and Evaluation Notebook"
      ]
    },
    {
      "cell_type": "markdown",
      "metadata": {
        "id": "1eLEkw5O0ECa"
      },
      "source": [
        "## Objectives\n",
        "\n",
        "*   Answer business requirement 2: \n",
        "    * The client is interested to tell whether a given cherry leaf contains mildew or not.\n",
        "\n",
        "\n",
        "## Inputs\n",
        "\n",
        "* inputs/cherry_leaves/cherry-leaves/train\n",
        "* inputs/cherry_leaves/cherry-leaves/test\n",
        "* inputs/cherry_leaves/cherry-leaves/validation\n",
        "* image shape embeddings.\n",
        "\n",
        "## Outputs\n",
        "* Images distribution plot in train, validation, and test set.\n",
        "* Image augmentation.\n",
        "* Class indices to change prediction inference in labels.\n",
        "* Machine learning model creation and training.\n",
        "* Save model.\n",
        "* Learning curve plot for model performance.\n",
        "* Model evaluation on pickle file.\n",
        "* Prediction on the random image file."
      ]
    },
    {
      "cell_type": "markdown",
      "metadata": {
        "id": "9uWZXH9LwoQg"
      },
      "source": [
        "---"
      ]
    },
    {
      "cell_type": "markdown",
      "metadata": {
        "id": "cqP-UeN-z3i2"
      },
      "source": [
        "# Import regular packages"
      ]
    },
    {
      "cell_type": "code",
      "execution_count": 1,
      "metadata": {},
      "outputs": [],
      "source": [
        "import os\n",
        "import pandas as pd\n",
        "import numpy as np\n",
        "import matplotlib.pyplot as plt\n",
        "import seaborn as sns\n",
        "from matplotlib.image import imread"
      ]
    },
    {
      "cell_type": "markdown",
      "metadata": {},
      "source": [
        "# Set Working Directory"
      ]
    },
    {
      "cell_type": "code",
      "execution_count": 2,
      "metadata": {
        "id": "wZfF_j-Bz3i4",
        "outputId": "66943449-1436-4c3d-85c7-b85f9f78349b"
      },
      "outputs": [
        {
          "name": "stdout",
          "output_type": "stream",
          "text": [
            "You set a new current directory\n"
          ]
        }
      ],
      "source": [
        "os.chdir('/workspace/Mildew-Detection-in-Cherry-Leaves')\n",
        "print(\"You set a new current directory\")"
      ]
    },
    {
      "cell_type": "code",
      "execution_count": 3,
      "metadata": {},
      "outputs": [
        {
          "data": {
            "text/plain": [
              "'/workspace/Mildew-Detection-in-Cherry-Leaves'"
            ]
          },
          "execution_count": 3,
          "metadata": {},
          "output_type": "execute_result"
        }
      ],
      "source": [
        "work_dir = os.getcwd()\n",
        "work_dir"
      ]
    },
    {
      "cell_type": "markdown",
      "metadata": {},
      "source": [
        "---"
      ]
    },
    {
      "cell_type": "markdown",
      "metadata": {},
      "source": [
        "## Set input directories"
      ]
    },
    {
      "cell_type": "markdown",
      "metadata": {},
      "source": [
        "Set train, validation and test paths"
      ]
    },
    {
      "cell_type": "code",
      "execution_count": 4,
      "metadata": {},
      "outputs": [],
      "source": [
        "my_data_dir = 'inputs/cherry_leaves/cherry-leaves'\n",
        "train_path = my_data_dir + '/train'\n",
        "val_path = my_data_dir + '/validation'\n",
        "test_path = my_data_dir + '/test'"
      ]
    },
    {
      "cell_type": "markdown",
      "metadata": {
        "id": "ZY3l0-AxO93d"
      },
      "source": [
        "---"
      ]
    },
    {
      "cell_type": "markdown",
      "metadata": {
        "id": "uFQo3ycuO-v6"
      },
      "source": [
        "## Set output directory"
      ]
    },
    {
      "cell_type": "code",
      "execution_count": 5,
      "metadata": {},
      "outputs": [
        {
          "name": "stdout",
          "output_type": "stream",
          "text": [
            "Old version is already available create a new version.\n"
          ]
        }
      ],
      "source": [
        "version = 'v1'\n",
        "file_path = f'outputs/{version}'\n",
        "\n",
        "if 'outputs' in os.listdir(work_dir) and version in os.listdir(work_dir + '/outputs'):\n",
        "    print('Old version is already available create a new version.')\n",
        "    pass\n",
        "else:\n",
        "    os.makedirs(name=file_path)"
      ]
    },
    {
      "cell_type": "markdown",
      "metadata": {},
      "source": [
        "## Set labels"
      ]
    },
    {
      "cell_type": "code",
      "execution_count": 6,
      "metadata": {},
      "outputs": [
        {
          "name": "stdout",
          "output_type": "stream",
          "text": [
            "Project Labels: ['healthy', 'powdery_mildew']\n"
          ]
        }
      ],
      "source": [
        "labels = os.listdir(train_path)\n",
        "\n",
        "print(\n",
        "    f\"Project Labels: {labels}\"\n",
        ")"
      ]
    },
    {
      "cell_type": "markdown",
      "metadata": {},
      "source": [
        "## Set image shape "
      ]
    },
    {
      "cell_type": "code",
      "execution_count": 7,
      "metadata": {},
      "outputs": [
        {
          "data": {
            "text/plain": [
              "(50, 50, 3)"
            ]
          },
          "execution_count": 7,
          "metadata": {},
          "output_type": "execute_result"
        }
      ],
      "source": [
        "## Import saved image shape embedding\n",
        "import joblib\n",
        "version = 'v1'\n",
        "image_shape = joblib.load(filename=f\"outputs/{version}/image_shape.pkl\")\n",
        "image_shape"
      ]
    },
    {
      "cell_type": "markdown",
      "metadata": {},
      "source": [
        "---"
      ]
    },
    {
      "cell_type": "markdown",
      "metadata": {},
      "source": [
        "# Number of images in train, test and validation data "
      ]
    },
    {
      "cell_type": "code",
      "execution_count": 8,
      "metadata": {},
      "outputs": [
        {
          "name": "stdout",
          "output_type": "stream",
          "text": [
            "* train - healthy: 1472 images\n",
            "* train - powdery_mildew: 1472 images\n",
            "* validation - healthy: 210 images\n",
            "* validation - powdery_mildew: 210 images\n",
            "* test - healthy: 422 images\n",
            "* test - powdery_mildew: 422 images\n",
            "\n",
            "\n"
          ]
        },
        {
          "data": {
            "image/png": "[encoded data removed]",
            "text/plain": [
              "<Figure size 800x500 with 1 Axes>"
            ]
          },
          "metadata": {},
          "output_type": "display_data"
        }
      ],
      "source": [
        "import pandas as pd\n",
        "\n",
        "# Create an empty dictionary\n",
        "data = {\n",
        "    'Set': [],\n",
        "    'Label': [],\n",
        "    'Frequency': []\n",
        "}\n",
        "\n",
        "# Define the number of rows you want to create\n",
        "folders = ['train', 'validation', 'test']\n",
        "\n",
        "# Loop to dynamically create and append rows to the dictionary\n",
        "for folder in folders:\n",
        "    for label in labels:\n",
        "        row = {\n",
        "            'Set': folder,\n",
        "            'Label': label,\n",
        "            'Frequency': int(len(os.listdir(my_data_dir + '/' + folder + '/' + label)))  \n",
        "        }\n",
        "        for key, value in row.items():\n",
        "            data[key].append(value)\n",
        "        print(\n",
        "            f\"* {folder} - {label}: {len(os.listdir(my_data_dir+'/'+ folder + '/' + label))} images\")\n",
        "\n",
        "# Convert the dictionary to a DataFrame\n",
        "df_freq = pd.DataFrame(data)\n",
        "\n",
        "print(\"\\n\")\n",
        "sns.set_style(\"whitegrid\")\n",
        "plt.figure(figsize=(8, 5))\n",
        "sns.barplot(data=df_freq, x='Set', y='Frequency', hue='Label')\n",
        "plt.savefig(f'{file_path}/labels_distribution.png',\n",
        "            bbox_inches='tight', dpi=150)\n",
        "plt.show()"
      ]
    },
    {
      "cell_type": "markdown",
      "metadata": {},
      "source": [
        "---"
      ]
    },
    {
      "cell_type": "markdown",
      "metadata": {},
      "source": [
        "# Image data augmentation "
      ]
    },
    {
      "cell_type": "markdown",
      "metadata": {},
      "source": [
        "---"
      ]
    },
    {
      "cell_type": "markdown",
      "metadata": {},
      "source": [
        "### ImageDataGenerator"
      ]
    },
    {
      "cell_type": "code",
      "execution_count": 9,
      "metadata": {},
      "outputs": [
        {
          "name": "stderr",
          "output_type": "stream",
          "text": [
            "2025-02-05 10:33:44.387926: I tensorflow/core/platform/cpu_feature_guard.cc:210] This TensorFlow binary is optimized to use available CPU instructions in performance-critical operations.\n",
            "To enable the following instructions: AVX2 FMA, in other operations, rebuild TensorFlow with the appropriate compiler flags.\n"
          ]
        }
      ],
      "source": [
        "from tensorflow.keras.preprocessing.image import ImageDataGenerator "
      ]
    },
    {
      "cell_type": "markdown",
      "metadata": {},
      "source": [
        "## Initialize ImageDataGenerator"
      ]
    },
    {
      "cell_type": "code",
      "execution_count": 10,
      "metadata": {},
      "outputs": [],
      "source": [
        "augmented_image_data = ImageDataGenerator(rotation_range=20,\n",
        "                                          width_shift_range=0.10,\n",
        "                                          height_shift_range=0.10,\n",
        "                                          shear_range=0.1,\n",
        "                                          zoom_range=0.1,\n",
        "                                          horizontal_flip=True,\n",
        "                                          vertical_flip=True,\n",
        "                                          fill_mode='nearest',\n",
        "                                          rescale=1./255\n",
        "                                          )"
      ]
    },
    {
      "cell_type": "markdown",
      "metadata": {},
      "source": [
        "### Augment training image dataset"
      ]
    },
    {
      "cell_type": "code",
      "execution_count": 11,
      "metadata": {},
      "outputs": [
        {
          "name": "stdout",
          "output_type": "stream",
          "text": [
            "Found 2944 images belonging to 2 classes.\n"
          ]
        },
        {
          "data": {
            "text/plain": [
              "{'healthy': 0, 'powdery_mildew': 1}"
            ]
          },
          "execution_count": 11,
          "metadata": {},
          "output_type": "execute_result"
        }
      ],
      "source": [
        "batch_size = 20  # Set batch size\n",
        "train_set = augmented_image_data.flow_from_directory(train_path,\n",
        "                                                     target_size=image_shape[:2],\n",
        "                                                     color_mode='rgb',\n",
        "                                                     batch_size=batch_size,\n",
        "                                                     class_mode='binary',\n",
        "                                                     shuffle=True\n",
        "                                                     )\n",
        "\n",
        "train_set.class_indices"
      ]
    },
    {
      "cell_type": "markdown",
      "metadata": {},
      "source": [
        "* ### Augment validation image dataset "
      ]
    },
    {
      "cell_type": "code",
      "execution_count": 12,
      "metadata": {},
      "outputs": [
        {
          "name": "stdout",
          "output_type": "stream",
          "text": [
            "Found 420 images belonging to 2 classes.\n"
          ]
        },
        {
          "data": {
            "text/plain": [
              "{'healthy': 0, 'powdery_mildew': 1}"
            ]
          },
          "execution_count": 12,
          "metadata": {},
          "output_type": "execute_result"
        }
      ],
      "source": [
        "validation_set = ImageDataGenerator(rescale=1./255).flow_from_directory(val_path,\n",
        "                                                                        target_size=image_shape[:2],\n",
        "                                                                        color_mode='rgb',\n",
        "                                                                        batch_size=batch_size,\n",
        "                                                                        class_mode='binary',\n",
        "                                                                        shuffle=False\n",
        "                                                                        )\n",
        "\n",
        "validation_set.class_indices"
      ]
    },
    {
      "cell_type": "markdown",
      "metadata": {},
      "source": [
        "* ### Augment test image dataset "
      ]
    },
    {
      "cell_type": "code",
      "execution_count": 13,
      "metadata": {},
      "outputs": [
        {
          "name": "stdout",
          "output_type": "stream",
          "text": [
            "Found 844 images belonging to 2 classes.\n"
          ]
        },
        {
          "data": {
            "text/plain": [
              "{'healthy': 0, 'powdery_mildew': 1}"
            ]
          },
          "execution_count": 13,
          "metadata": {},
          "output_type": "execute_result"
        }
      ],
      "source": [
        "test_set = ImageDataGenerator(rescale=1./255).flow_from_directory(test_path,\n",
        "                                                                  target_size=image_shape[:2],\n",
        "                                                                  color_mode='rgb',\n",
        "                                                                  batch_size=batch_size,\n",
        "                                                                  class_mode='binary',\n",
        "                                                                  shuffle=False\n",
        "                                                                  )\n",
        "\n",
        "test_set.class_indices"
      ]
    },
    {
      "cell_type": "code",
      "execution_count": 14,
      "metadata": {},
      "outputs": [
        {
          "name": "stdout",
          "output_type": "stream",
          "text": [
            "(20, 50, 50, 3)\n"
          ]
        },
        {
          "data": {
            "image/png": "[encoded data removed]",
            "text/plain": [
              "<Figure size 640x480 with 1 Axes>"
            ]
          },
          "metadata": {},
          "output_type": "display_data"
        },
        {
          "name": "stdout",
          "output_type": "stream",
          "text": [
            "(20, 50, 50, 3)\n"
          ]
        },
        {
          "data": {
            "image/png": "[encoded data removed]",
            "text/plain": [
              "<Figure size 640x480 with 1 Axes>"
            ]
          },
          "metadata": {},
          "output_type": "display_data"
        },
        {
          "name": "stdout",
          "output_type": "stream",
          "text": [
            "(20, 50, 50, 3)\n"
          ]
        },
        {
          "data": {
            "image/png": "[encoded data removed]",
            "text/plain": [
              "<Figure size 640x480 with 1 Axes>"
            ]
          },
          "metadata": {},
          "output_type": "display_data"
        }
      ],
      "source": [
        "for _ in range(3):\n",
        "    img, label = next(train_set)\n",
        "    print(img.shape) \n",
        "    plt.imshow(img[0])\n",
        "    plt.show()"
      ]
    },
    {
      "cell_type": "markdown",
      "metadata": {},
      "source": [
        "## Plot augmented validation and test images"
      ]
    },
    {
      "cell_type": "code",
      "execution_count": 15,
      "metadata": {},
      "outputs": [
        {
          "name": "stdout",
          "output_type": "stream",
          "text": [
            "(20, 50, 50, 3)\n"
          ]
        },
        {
          "data": {
            "image/png": "[encoded data removed]",
            "text/plain": [
              "<Figure size 640x480 with 1 Axes>"
            ]
          },
          "metadata": {},
          "output_type": "display_data"
        },
        {
          "name": "stdout",
          "output_type": "stream",
          "text": [
            "(20, 50, 50, 3)\n"
          ]
        },
        {
          "data": {
            "image/png": "[encoded data removed]",
            "text/plain": [
              "<Figure size 640x480 with 1 Axes>"
            ]
          },
          "metadata": {},
          "output_type": "display_data"
        },
        {
          "name": "stdout",
          "output_type": "stream",
          "text": [
            "(20, 50, 50, 3)\n"
          ]
        },
        {
          "data": {
            "image/png": "[encoded data removed]",
            "text/plain": [
              "<Figure size 640x480 with 1 Axes>"
            ]
          },
          "metadata": {},
          "output_type": "display_data"
        }
      ],
      "source": [
        "for _ in range(3):\n",
        "    img, label = next(validation_set)\n",
        "    print(img.shape)\n",
        "    plt.imshow(img[0])\n",
        "    plt.show()"
      ]
    },
    {
      "cell_type": "markdown",
      "metadata": {},
      "source": [
        "## Save class_indices "
      ]
    },
    {
      "cell_type": "code",
      "execution_count": 16,
      "metadata": {},
      "outputs": [
        {
          "data": {
            "text/plain": [
              "['outputs/v1/class_indices.pkl']"
            ]
          },
          "execution_count": 16,
          "metadata": {},
          "output_type": "execute_result"
        }
      ],
      "source": [
        "joblib.dump(value=train_set.class_indices,\n",
        "            filename=f\"{file_path}/class_indices.pkl\")"
      ]
    },
    {
      "cell_type": "markdown",
      "metadata": {},
      "source": [
        "---"
      ]
    },
    {
      "cell_type": "markdown",
      "metadata": {},
      "source": [
        "# Model creation "
      ]
    },
    {
      "cell_type": "markdown",
      "metadata": {},
      "source": [
        "---"
      ]
    },
    {
      "cell_type": "markdown",
      "metadata": {},
      "source": [
        "## ML model "
      ]
    },
    {
      "cell_type": "markdown",
      "metadata": {},
      "source": [
        "* ### Import model packages "
      ]
    },
    {
      "cell_type": "code",
      "execution_count": 17,
      "metadata": {},
      "outputs": [],
      "source": [
        "from tensorflow.keras.models import Sequential\n",
        "from tensorflow.keras.layers import Activation, Dropout, Flatten, Dense, Conv2D, MaxPooling2D\n",
        "from tensorflow.keras.optimizers import Adam"
      ]
    },
    {
      "cell_type": "markdown",
      "metadata": {},
      "source": [
        "* ### Model"
      ]
    },
    {
      "cell_type": "code",
      "execution_count": 18,
      "metadata": {},
      "outputs": [],
      "source": [
        "def create_tf_model():\n",
        "    model = Sequential()\n",
        "\n",
        "    model.add(Conv2D(filters=32, kernel_size=(3, 3),\n",
        "              input_shape=image_shape, activation='relu', ))\n",
        "    model.add(MaxPooling2D(pool_size=(2, 2)))\n",
        "\n",
        "    model.add(Conv2D(filters=64, kernel_size=(3, 3),\n",
        "              input_shape=image_shape, activation='relu', ))\n",
        "    model.add(MaxPooling2D(pool_size=(2, 2)))\n",
        "\n",
        "    model.add(Conv2D(filters=64, kernel_size=(3, 3),\n",
        "              input_shape=image_shape, activation='relu', ))\n",
        "    model.add(MaxPooling2D(pool_size=(2, 2)))\n",
        "    \n",
        "    model.add(Flatten())\n",
        "    model.add(Dense(128, activation='relu'))\n",
        "\n",
        "    model.add(Dropout(0.5))\n",
        "    model.add(Dense(1, activation='sigmoid'))\n",
        "    \n",
        "    model.compile(loss='binary_crossentropy',\n",
        "                  optimizer='adam',\n",
        "                  metrics=['accuracy'])\n",
        "\n",
        "    return model"
      ]
    },
    {
      "cell_type": "markdown",
      "metadata": {},
      "source": [
        "* ### Model Summary"
      ]
    },
    {
      "cell_type": "code",
      "execution_count": 19,
      "metadata": {},
      "outputs": [
        {
          "name": "stderr",
          "output_type": "stream",
          "text": [
            "/workspace/.pip-modules/lib/python3.12/site-packages/keras/src/layers/convolutional/base_conv.py:107: UserWarning: Do not pass an `input_shape`/`input_dim` argument to a layer. When using Sequential models, prefer using an `Input(shape)` object as the first layer in the model instead.\n",
            "  super().__init__(activity_regularizer=activity_regularizer, **kwargs)\n"
          ]
        },
        {
          "data": {
            "text/html": [
              "<pre style=\"white-space:pre;overflow-x:auto;line-height:normal;font-family:Menlo,'DejaVu Sans Mono',consolas,'Courier New',monospace\"><span style=\"font-weight: bold\">Model: \"sequential\"</span>\n",
              "</pre>\n"
            ],
            "text/plain": [
              "\u001b[1mModel: \"sequential\"\u001b[0m\n"
            ]
          },
          "metadata": {},
          "output_type": "display_data"
        },
        {
          "data": {
            "text/html": [
              "<pre style=\"white-space:pre;overflow-x:auto;line-height:normal;font-family:Menlo,'DejaVu Sans Mono',consolas,'Courier New',monospace\">┏━━━━━━━━━━━━━━━━━━━━━━━━━━━━━━━━━┳━━━━━━━━━━━━━━━━━━━━━━━━┳━━━━━━━━━━━━━━━┓\n",
              "┃<span style=\"font-weight: bold\"> Layer (type)                    </span>┃<span style=\"font-weight: bold\"> Output Shape           </span>┃<span style=\"font-weight: bold\">       Param # </span>┃\n",
              "┡━━━━━━━━━━━━━━━━━━━━━━━━━━━━━━━━━╇━━━━━━━━━━━━━━━━━━━━━━━━╇━━━━━━━━━━━━━━━┩\n",
              "│ conv2d (<span style=\"color: #0087ff; text-decoration-color: #0087ff\">Conv2D</span>)                 │ (<span style=\"color: #00d7ff; text-decoration-color: #00d7ff\">None</span>, <span style=\"color: #00af00; text-decoration-color: #00af00\">48</span>, <span style=\"color: #00af00; text-decoration-color: #00af00\">48</span>, <span style=\"color: #00af00; text-decoration-color: #00af00\">32</span>)     │           <span style=\"color: #00af00; text-decoration-color: #00af00\">896</span> │\n",
              "├─────────────────────────────────┼────────────────────────┼───────────────┤\n",
              "│ max_pooling2d (<span style=\"color: #0087ff; text-decoration-color: #0087ff\">MaxPooling2D</span>)    │ (<span style=\"color: #00d7ff; text-decoration-color: #00d7ff\">None</span>, <span style=\"color: #00af00; text-decoration-color: #00af00\">24</span>, <span style=\"color: #00af00; text-decoration-color: #00af00\">24</span>, <span style=\"color: #00af00; text-decoration-color: #00af00\">32</span>)     │             <span style=\"color: #00af00; text-decoration-color: #00af00\">0</span> │\n",
              "├─────────────────────────────────┼────────────────────────┼───────────────┤\n",
              "│ conv2d_1 (<span style=\"color: #0087ff; text-decoration-color: #0087ff\">Conv2D</span>)               │ (<span style=\"color: #00d7ff; text-decoration-color: #00d7ff\">None</span>, <span style=\"color: #00af00; text-decoration-color: #00af00\">22</span>, <span style=\"color: #00af00; text-decoration-color: #00af00\">22</span>, <span style=\"color: #00af00; text-decoration-color: #00af00\">64</span>)     │        <span style=\"color: #00af00; text-decoration-color: #00af00\">18,496</span> │\n",
              "├─────────────────────────────────┼────────────────────────┼───────────────┤\n",
              "│ max_pooling2d_1 (<span style=\"color: #0087ff; text-decoration-color: #0087ff\">MaxPooling2D</span>)  │ (<span style=\"color: #00d7ff; text-decoration-color: #00d7ff\">None</span>, <span style=\"color: #00af00; text-decoration-color: #00af00\">11</span>, <span style=\"color: #00af00; text-decoration-color: #00af00\">11</span>, <span style=\"color: #00af00; text-decoration-color: #00af00\">64</span>)     │             <span style=\"color: #00af00; text-decoration-color: #00af00\">0</span> │\n",
              "├─────────────────────────────────┼────────────────────────┼───────────────┤\n",
              "│ conv2d_2 (<span style=\"color: #0087ff; text-decoration-color: #0087ff\">Conv2D</span>)               │ (<span style=\"color: #00d7ff; text-decoration-color: #00d7ff\">None</span>, <span style=\"color: #00af00; text-decoration-color: #00af00\">9</span>, <span style=\"color: #00af00; text-decoration-color: #00af00\">9</span>, <span style=\"color: #00af00; text-decoration-color: #00af00\">64</span>)       │        <span style=\"color: #00af00; text-decoration-color: #00af00\">36,928</span> │\n",
              "├─────────────────────────────────┼────────────────────────┼───────────────┤\n",
              "│ max_pooling2d_2 (<span style=\"color: #0087ff; text-decoration-color: #0087ff\">MaxPooling2D</span>)  │ (<span style=\"color: #00d7ff; text-decoration-color: #00d7ff\">None</span>, <span style=\"color: #00af00; text-decoration-color: #00af00\">4</span>, <span style=\"color: #00af00; text-decoration-color: #00af00\">4</span>, <span style=\"color: #00af00; text-decoration-color: #00af00\">64</span>)       │             <span style=\"color: #00af00; text-decoration-color: #00af00\">0</span> │\n",
              "├─────────────────────────────────┼────────────────────────┼───────────────┤\n",
              "│ flatten (<span style=\"color: #0087ff; text-decoration-color: #0087ff\">Flatten</span>)               │ (<span style=\"color: #00d7ff; text-decoration-color: #00d7ff\">None</span>, <span style=\"color: #00af00; text-decoration-color: #00af00\">1024</span>)           │             <span style=\"color: #00af00; text-decoration-color: #00af00\">0</span> │\n",
              "├─────────────────────────────────┼────────────────────────┼───────────────┤\n",
              "│ dense (<span style=\"color: #0087ff; text-decoration-color: #0087ff\">Dense</span>)                   │ (<span style=\"color: #00d7ff; text-decoration-color: #00d7ff\">None</span>, <span style=\"color: #00af00; text-decoration-color: #00af00\">128</span>)            │       <span style=\"color: #00af00; text-decoration-color: #00af00\">131,200</span> │\n",
              "├─────────────────────────────────┼────────────────────────┼───────────────┤\n",
              "│ dropout (<span style=\"color: #0087ff; text-decoration-color: #0087ff\">Dropout</span>)               │ (<span style=\"color: #00d7ff; text-decoration-color: #00d7ff\">None</span>, <span style=\"color: #00af00; text-decoration-color: #00af00\">128</span>)            │             <span style=\"color: #00af00; text-decoration-color: #00af00\">0</span> │\n",
              "├─────────────────────────────────┼────────────────────────┼───────────────┤\n",
              "│ dense_1 (<span style=\"color: #0087ff; text-decoration-color: #0087ff\">Dense</span>)                 │ (<span style=\"color: #00d7ff; text-decoration-color: #00d7ff\">None</span>, <span style=\"color: #00af00; text-decoration-color: #00af00\">1</span>)              │           <span style=\"color: #00af00; text-decoration-color: #00af00\">129</span> │\n",
              "└─────────────────────────────────┴────────────────────────┴───────────────┘\n",
              "</pre>\n"
            ],
            "text/plain": [
              "┏━━━━━━━━━━━━━━━━━━━━━━━━━━━━━━━━━┳━━━━━━━━━━━━━━━━━━━━━━━━┳━━━━━━━━━━━━━━━┓\n",
              "┃\u001b[1m \u001b[0m\u001b[1mLayer (type)                   \u001b[0m\u001b[1m \u001b[0m┃\u001b[1m \u001b[0m\u001b[1mOutput Shape          \u001b[0m\u001b[1m \u001b[0m┃\u001b[1m \u001b[0m\u001b[1m      Param #\u001b[0m\u001b[1m \u001b[0m┃\n",
              "┡━━━━━━━━━━━━━━━━━━━━━━━━━━━━━━━━━╇━━━━━━━━━━━━━━━━━━━━━━━━╇━━━━━━━━━━━━━━━┩\n",
              "│ conv2d (\u001b[38;5;33mConv2D\u001b[0m)                 │ (\u001b[38;5;45mNone\u001b[0m, \u001b[38;5;34m48\u001b[0m, \u001b[38;5;34m48\u001b[0m, \u001b[38;5;34m32\u001b[0m)     │           \u001b[38;5;34m896\u001b[0m │\n",
              "├─────────────────────────────────┼────────────────────────┼───────────────┤\n",
              "│ max_pooling2d (\u001b[38;5;33mMaxPooling2D\u001b[0m)    │ (\u001b[38;5;45mNone\u001b[0m, \u001b[38;5;34m24\u001b[0m, \u001b[38;5;34m24\u001b[0m, \u001b[38;5;34m32\u001b[0m)     │             \u001b[38;5;34m0\u001b[0m │\n",
              "├─────────────────────────────────┼────────────────────────┼───────────────┤\n",
              "│ conv2d_1 (\u001b[38;5;33mConv2D\u001b[0m)               │ (\u001b[38;5;45mNone\u001b[0m, \u001b[38;5;34m22\u001b[0m, \u001b[38;5;34m22\u001b[0m, \u001b[38;5;34m64\u001b[0m)     │        \u001b[38;5;34m18,496\u001b[0m │\n",
              "├─────────────────────────────────┼────────────────────────┼───────────────┤\n",
              "│ max_pooling2d_1 (\u001b[38;5;33mMaxPooling2D\u001b[0m)  │ (\u001b[38;5;45mNone\u001b[0m, \u001b[38;5;34m11\u001b[0m, \u001b[38;5;34m11\u001b[0m, \u001b[38;5;34m64\u001b[0m)     │             \u001b[38;5;34m0\u001b[0m │\n",
              "├─────────────────────────────────┼────────────────────────┼───────────────┤\n",
              "│ conv2d_2 (\u001b[38;5;33mConv2D\u001b[0m)               │ (\u001b[38;5;45mNone\u001b[0m, \u001b[38;5;34m9\u001b[0m, \u001b[38;5;34m9\u001b[0m, \u001b[38;5;34m64\u001b[0m)       │        \u001b[38;5;34m36,928\u001b[0m │\n",
              "├─────────────────────────────────┼────────────────────────┼───────────────┤\n",
              "│ max_pooling2d_2 (\u001b[38;5;33mMaxPooling2D\u001b[0m)  │ (\u001b[38;5;45mNone\u001b[0m, \u001b[38;5;34m4\u001b[0m, \u001b[38;5;34m4\u001b[0m, \u001b[38;5;34m64\u001b[0m)       │             \u001b[38;5;34m0\u001b[0m │\n",
              "├─────────────────────────────────┼────────────────────────┼───────────────┤\n",
              "│ flatten (\u001b[38;5;33mFlatten\u001b[0m)               │ (\u001b[38;5;45mNone\u001b[0m, \u001b[38;5;34m1024\u001b[0m)           │             \u001b[38;5;34m0\u001b[0m │\n",
              "├─────────────────────────────────┼────────────────────────┼───────────────┤\n",
              "│ dense (\u001b[38;5;33mDense\u001b[0m)                   │ (\u001b[38;5;45mNone\u001b[0m, \u001b[38;5;34m128\u001b[0m)            │       \u001b[38;5;34m131,200\u001b[0m │\n",
              "├─────────────────────────────────┼────────────────────────┼───────────────┤\n",
              "│ dropout (\u001b[38;5;33mDropout\u001b[0m)               │ (\u001b[38;5;45mNone\u001b[0m, \u001b[38;5;34m128\u001b[0m)            │             \u001b[38;5;34m0\u001b[0m │\n",
              "├─────────────────────────────────┼────────────────────────┼───────────────┤\n",
              "│ dense_1 (\u001b[38;5;33mDense\u001b[0m)                 │ (\u001b[38;5;45mNone\u001b[0m, \u001b[38;5;34m1\u001b[0m)              │           \u001b[38;5;34m129\u001b[0m │\n",
              "└─────────────────────────────────┴────────────────────────┴───────────────┘\n"
            ]
          },
          "metadata": {},
          "output_type": "display_data"
        },
        {
          "data": {
            "text/html": [
              "<pre style=\"white-space:pre;overflow-x:auto;line-height:normal;font-family:Menlo,'DejaVu Sans Mono',consolas,'Courier New',monospace\"><span style=\"font-weight: bold\"> Total params: </span><span style=\"color: #00af00; text-decoration-color: #00af00\">187,649</span> (733.00 KB)\n",
              "</pre>\n"
            ],
            "text/plain": [
              "\u001b[1m Total params: \u001b[0m\u001b[38;5;34m187,649\u001b[0m (733.00 KB)\n"
            ]
          },
          "metadata": {},
          "output_type": "display_data"
        },
        {
          "data": {
            "text/html": [
              "<pre style=\"white-space:pre;overflow-x:auto;line-height:normal;font-family:Menlo,'DejaVu Sans Mono',consolas,'Courier New',monospace\"><span style=\"font-weight: bold\"> Trainable params: </span><span style=\"color: #00af00; text-decoration-color: #00af00\">187,649</span> (733.00 KB)\n",
              "</pre>\n"
            ],
            "text/plain": [
              "\u001b[1m Trainable params: \u001b[0m\u001b[38;5;34m187,649\u001b[0m (733.00 KB)\n"
            ]
          },
          "metadata": {},
          "output_type": "display_data"
        },
        {
          "data": {
            "text/html": [
              "<pre style=\"white-space:pre;overflow-x:auto;line-height:normal;font-family:Menlo,'DejaVu Sans Mono',consolas,'Courier New',monospace\"><span style=\"font-weight: bold\"> Non-trainable params: </span><span style=\"color: #00af00; text-decoration-color: #00af00\">0</span> (0.00 B)\n",
              "</pre>\n"
            ],
            "text/plain": [
              "\u001b[1m Non-trainable params: \u001b[0m\u001b[38;5;34m0\u001b[0m (0.00 B)\n"
            ]
          },
          "metadata": {},
          "output_type": "display_data"
        }
      ],
      "source": [
        "create_tf_model().summary() "
      ]
    },
    {
      "cell_type": "markdown",
      "metadata": {},
      "source": [
        "* ### Early Stopping"
      ]
    },
    {
      "cell_type": "code",
      "execution_count": 20,
      "metadata": {},
      "outputs": [],
      "source": [
        "from tensorflow.keras.callbacks import EarlyStopping\n",
        "early_stop = EarlyStopping(monitor='val_loss', patience=3)  "
      ]
    },
    {
      "cell_type": "markdown",
      "metadata": {},
      "source": [
        "## Fit model for model training "
      ]
    },
    {
      "cell_type": "code",
      "execution_count": 21,
      "metadata": {},
      "outputs": [
        {
          "name": "stderr",
          "output_type": "stream",
          "text": [
            "/workspace/.pip-modules/lib/python3.12/site-packages/keras/src/trainers/data_adapters/py_dataset_adapter.py:121: UserWarning: Your `PyDataset` class should call `super().__init__(**kwargs)` in its constructor. `**kwargs` can include `workers`, `use_multiprocessing`, `max_queue_size`. Do not pass these arguments to `fit()`, as they will be ignored.\n",
            "  self._warn_if_super_not_called()\n"
          ]
        },
        {
          "name": "stdout",
          "output_type": "stream",
          "text": [
            "Epoch 1/25\n",
            "\u001b[1m147/147\u001b[0m \u001b[32m━━━━━━━━━━━━━━━━━━━━\u001b[0m\u001b[37m\u001b[0m \u001b[1m7s\u001b[0m 36ms/step - accuracy: 0.7001 - loss: 0.5304 - val_accuracy: 0.9571 - val_loss: 0.1182\n",
            "Epoch 2/25\n",
            "\u001b[1m  1/147\u001b[0m \u001b[37m━━━━━━━━━━━━━━━━━━━━\u001b[0m \u001b[1m2s\u001b[0m 15ms/step - accuracy: 0.7500 - loss: 0.4419"
          ]
        },
        {
          "name": "stderr",
          "output_type": "stream",
          "text": [
            "/workspace/.pip-modules/lib/python3.12/site-packages/keras/src/trainers/epoch_iterator.py:107: UserWarning: Your input ran out of data; interrupting training. Make sure that your dataset or generator can generate at least `steps_per_epoch * epochs` batches. You may need to use the `.repeat()` function when building your dataset.\n",
            "  self._interrupted_warning()\n"
          ]
        },
        {
          "name": "stdout",
          "output_type": "stream",
          "text": [
            "\u001b[1m147/147\u001b[0m \u001b[32m━━━━━━━━━━━━━━━━━━━━\u001b[0m\u001b[37m\u001b[0m \u001b[1m0s\u001b[0m 2ms/step - accuracy: 0.7500 - loss: 0.4419 - val_accuracy: 0.9595 - val_loss: 0.1164\n",
            "Epoch 3/25\n",
            "\u001b[1m147/147\u001b[0m \u001b[32m━━━━━━━━━━━━━━━━━━━━\u001b[0m\u001b[37m\u001b[0m \u001b[1m5s\u001b[0m 33ms/step - accuracy: 0.9265 - loss: 0.1898 - val_accuracy: 0.9857 - val_loss: 0.0377\n",
            "Epoch 4/25\n",
            "\u001b[1m147/147\u001b[0m \u001b[32m━━━━━━━━━━━━━━━━━━━━\u001b[0m\u001b[37m\u001b[0m \u001b[1m0s\u001b[0m 2ms/step - accuracy: 1.0000 - loss: 0.0351 - val_accuracy: 0.9857 - val_loss: 0.0382\n",
            "Epoch 5/25\n",
            "\u001b[1m147/147\u001b[0m \u001b[32m━━━━━━━━━━━━━━━━━━━━\u001b[0m\u001b[37m\u001b[0m \u001b[1m5s\u001b[0m 32ms/step - accuracy: 0.9685 - loss: 0.0930 - val_accuracy: 0.9905 - val_loss: 0.0210\n",
            "Epoch 6/25\n",
            "\u001b[1m147/147\u001b[0m \u001b[32m━━━━━━━━━━━━━━━━━━━━\u001b[0m\u001b[37m\u001b[0m \u001b[1m0s\u001b[0m 2ms/step - accuracy: 1.0000 - loss: 0.0081 - val_accuracy: 0.9905 - val_loss: 0.0213\n",
            "Epoch 7/25\n",
            "\u001b[1m147/147\u001b[0m \u001b[32m━━━━━━━━━━━━━━━━━━━━\u001b[0m\u001b[37m\u001b[0m \u001b[1m5s\u001b[0m 33ms/step - accuracy: 0.9778 - loss: 0.0790 - val_accuracy: 0.9881 - val_loss: 0.0298\n",
            "Epoch 8/25\n",
            "\u001b[1m147/147\u001b[0m \u001b[32m━━━━━━━━━━━━━━━━━━━━\u001b[0m\u001b[37m\u001b[0m \u001b[1m0s\u001b[0m 2ms/step - accuracy: 1.0000 - loss: 0.0084 - val_accuracy: 0.9905 - val_loss: 0.0270\n"
          ]
        },
        {
          "data": {
            "text/plain": [
              "<keras.src.callbacks.history.History at 0x7fc5b06d4b60>"
            ]
          },
          "execution_count": 21,
          "metadata": {},
          "output_type": "execute_result"
        }
      ],
      "source": [
        "model = create_tf_model()\n",
        "model.fit(train_set,\n",
        "          epochs=25,\n",
        "          steps_per_epoch=len(train_set.classes) // batch_size,\n",
        "          validation_data=validation_set,\n",
        "          callbacks=[early_stop],\n",
        "          verbose=1\n",
        "          )"
      ]
    },
    {
      "cell_type": "markdown",
      "metadata": {},
      "source": [
        "## Save model "
      ]
    },
    {
      "cell_type": "code",
      "execution_count": 22,
      "metadata": {},
      "outputs": [
        {
          "name": "stderr",
          "output_type": "stream",
          "text": [
            "WARNING:absl:You are saving your model as an HDF5 file via `model.save()` or `keras.saving.save_model(model)`. This file format is considered legacy. We recommend using instead the native Keras format, e.g. `model.save('my_model.keras')` or `keras.saving.save_model(model, 'my_model.keras')`. \n"
          ]
        }
      ],
      "source": [
        "model.save('outputs/v1/cherry_leaves_model.h5')"
      ]
    },
    {
      "cell_type": "markdown",
      "metadata": {},
      "source": [
        "---"
      ]
    },
    {
      "cell_type": "markdown",
      "metadata": {},
      "source": [
        "# Model Performace"
      ]
    },
    {
      "cell_type": "markdown",
      "metadata": {},
      "source": [
        "---"
      ]
    },
    {
      "cell_type": "markdown",
      "metadata": {},
      "source": [
        "## Model learning curve"
      ]
    },
    {
      "cell_type": "code",
      "execution_count": 23,
      "metadata": {},
      "outputs": [
        {
          "data": {
            "image/png": "[encoded data removed]",
            "text/plain": [
              "<Figure size 640x480 with 1 Axes>"
            ]
          },
          "metadata": {},
          "output_type": "display_data"
        },
        {
          "name": "stdout",
          "output_type": "stream",
          "text": [
            "\n",
            "\n"
          ]
        },
        {
          "data": {
            "image/png": "[encoded data removed]",
            "text/plain": [
              "<Figure size 640x480 with 1 Axes>"
            ]
          },
          "metadata": {},
          "output_type": "display_data"
        }
      ],
      "source": [
        "losses = pd.DataFrame(model.history.history)\n",
        "\n",
        "sns.set_style(\"whitegrid\")\n",
        "losses[['loss', 'val_loss']].plot(style='.-')\n",
        "plt.title(\"Loss\")\n",
        "plt.savefig(f'{file_path}/model_training_losses.png',\n",
        "            bbox_inches='tight', dpi=150)\n",
        "plt.show()\n",
        "\n",
        "print(\"\\n\")\n",
        "losses[['accuracy', 'val_accuracy']].plot(style='.-')\n",
        "plt.title(\"Accuracy\")\n",
        "plt.savefig(f'{file_path}/model_training_acc.png',\n",
        "            bbox_inches='tight', dpi=150)\n",
        "plt.show()"
      ]
    },
    {
      "cell_type": "markdown",
      "metadata": {},
      "source": [
        "## Model Evaluation"
      ]
    },
    {
      "cell_type": "markdown",
      "metadata": {},
      "source": [
        "Load saved model"
      ]
    },
    {
      "cell_type": "code",
      "execution_count": 25,
      "metadata": {},
      "outputs": [
        {
          "name": "stderr",
          "output_type": "stream",
          "text": [
            "WARNING:absl:Compiled the loaded model, but the compiled metrics have yet to be built. `model.compile_metrics` will be empty until you train or evaluate the model.\n"
          ]
        }
      ],
      "source": [
        "from keras.models import load_model\n",
        "model = load_model('outputs/v1/cherry_leaves_model.h5')"
      ]
    },
    {
      "cell_type": "markdown",
      "metadata": {},
      "source": [
        "Evaluate model on test set"
      ]
    },
    {
      "cell_type": "code",
      "execution_count": 26,
      "metadata": {},
      "outputs": [
        {
          "name": "stderr",
          "output_type": "stream",
          "text": [
            "/workspace/.pip-modules/lib/python3.12/site-packages/keras/src/trainers/data_adapters/py_dataset_adapter.py:121: UserWarning: Your `PyDataset` class should call `super().__init__(**kwargs)` in its constructor. `**kwargs` can include `workers`, `use_multiprocessing`, `max_queue_size`. Do not pass these arguments to `fit()`, as they will be ignored.\n",
            "  self._warn_if_super_not_called()\n"
          ]
        },
        {
          "name": "stdout",
          "output_type": "stream",
          "text": [
            "\u001b[1m43/43\u001b[0m \u001b[32m━━━━━━━━━━━━━━━━━━━━\u001b[0m\u001b[37m\u001b[0m \u001b[1m1s\u001b[0m 22ms/step - accuracy: 0.9936 - loss: 0.0380\n"
          ]
        }
      ],
      "source": [
        "evaluation = model.evaluate(test_set)"
      ]
    },
    {
      "cell_type": "markdown",
      "metadata": {},
      "source": [
        "### Save evaluation pickle"
      ]
    },
    {
      "cell_type": "code",
      "execution_count": 28,
      "metadata": {},
      "outputs": [
        {
          "data": {
            "text/plain": [
              "['outputs/v1/evaluation.pkl']"
            ]
          },
          "execution_count": 28,
          "metadata": {},
          "output_type": "execute_result"
        }
      ],
      "source": [
        "joblib.dump(value=evaluation,\n",
        "            filename=f\"outputs/v1/evaluation.pkl\")"
      ]
    },
    {
      "cell_type": "markdown",
      "metadata": {},
      "source": [
        "## Predict on new data"
      ]
    },
    {
      "cell_type": "markdown",
      "metadata": {},
      "source": [
        "Load a random image as PIL"
      ]
    },
    {
      "cell_type": "code",
      "execution_count": 29,
      "metadata": {},
      "outputs": [
        {
          "name": "stdout",
          "output_type": "stream",
          "text": [
            "Image shape: (50, 50), Image mode: RGB\n"
          ]
        },
        {
          "data": {
            "image/jpeg": "[encoded data removed]",
            "image/png": "[encoded data removed]",
            "text/plain": [
              "<PIL.Image.Image image mode=RGB size=50x50>"
            ]
          },
          "execution_count": 29,
          "metadata": {},
          "output_type": "execute_result"
        }
      ],
      "source": [
        "from tensorflow.keras.preprocessing import image\n",
        "\n",
        "pointer = 66\n",
        "label = labels[0]  # select Uninfected or Parasitised\n",
        "\n",
        "pil_image = image.load_img(test_path + '/' + label + '/' + os.listdir(test_path+'/' + label)[pointer],\n",
        "                           target_size=image_shape, color_mode='rgb')\n",
        "print(f'Image shape: {pil_image.size}, Image mode: {pil_image.mode}')\n",
        "pil_image"
      ]
    },
    {
      "cell_type": "markdown",
      "metadata": {},
      "source": [
        "Convert image to array and prepare for prediction"
      ]
    },
    {
      "cell_type": "code",
      "execution_count": 30,
      "metadata": {},
      "outputs": [
        {
          "name": "stdout",
          "output_type": "stream",
          "text": [
            "(1, 50, 50, 3)\n"
          ]
        }
      ],
      "source": [
        "my_image = image.img_to_array(pil_image)\n",
        "my_image = np.expand_dims(my_image, axis=0)/255\n",
        "print(my_image.shape)"
      ]
    },
    {
      "cell_type": "markdown",
      "metadata": {},
      "source": [
        "Predict class probabilities"
      ]
    },
    {
      "cell_type": "code",
      "execution_count": 31,
      "metadata": {},
      "outputs": [
        {
          "name": "stdout",
          "output_type": "stream",
          "text": [
            "\u001b[1m1/1\u001b[0m \u001b[32m━━━━━━━━━━━━━━━━━━━━\u001b[0m\u001b[37m\u001b[0m \u001b[1m0s\u001b[0m 82ms/step\n",
            "0.999940098310617\n",
            "healthy\n"
          ]
        }
      ],
      "source": [
        "pred_proba = model.predict(my_image)[0, 0]\n",
        "\n",
        "target_map = {v: k for k, v in train_set.class_indices.items()}\n",
        "pred_class = target_map[pred_proba > 0.5]\n",
        "\n",
        "if pred_class == target_map[0]:\n",
        "    pred_proba = 1 - pred_proba\n",
        "\n",
        "print(pred_proba)\n",
        "print(pred_class)"
      ]
    },
    {
      "cell_type": "markdown",
      "metadata": {},
      "source": [
        "---"
      ]
    },
    {
      "cell_type": "markdown",
      "metadata": {},
      "source": [
        "# Push files to Repo"
      ]
    },
    {
      "cell_type": "markdown",
      "metadata": {},
      "source": [
        "---"
      ]
    },
    {
      "cell_type": "markdown",
      "metadata": {
        "id": "ltNetd085qHf"
      },
      "source": [
        "# Push files to Repo"
      ]
    },
    {
      "cell_type": "markdown",
      "metadata": {},
      "source": [
        "## Push generated/new files from this Session to your GitHub repo"
      ]
    },
    {
      "cell_type": "markdown",
      "metadata": {},
      "source": [
        "* .gitignore"
      ]
    },
    {
      "cell_type": "code",
      "execution_count": 32,
      "metadata": {
        "id": "aKlnIozA4eQO",
        "outputId": "fd09bc1f-adb1-4511-f6ce-492a6af570c0"
      },
      "outputs": [
        {
          "name": "stdout",
          "output_type": "stream",
          "text": [
            "core.Microsoft*\n",
            "core.mongo*\n",
            "core.python*\n",
            "env.py\n",
            "__pycache__/\n",
            "*.py[cod]f\n",
            "node_modules/\n",
            ".github/\n",
            "cloudinary_python.txt\n",
            "kaggle.json\n",
            "inputs/cherry_leaves/cherry-leaves/test\n",
            "inputs/cherry_leaves/cherry-leaves/train"
          ]
        }
      ],
      "source": [
        "!cat .gitignore\n"
      ]
    },
    {
      "cell_type": "markdown",
      "metadata": {},
      "source": [
        "* Git status"
      ]
    },
    {
      "cell_type": "code",
      "execution_count": 33,
      "metadata": {},
      "outputs": [
        {
          "name": "stdout",
          "output_type": "stream",
          "text": [
            "On branch main\n",
            "Your branch is up to date with 'origin/main'.\n",
            "\n",
            "Changes not staged for commit:\n",
            "  (use \"git add/rm <file>...\" to update what will be committed)\n",
            "  (use \"git restore <file>...\" to discard changes in working directory)\n",
            "\t\u001b[31mdeleted:    inputs/cherry_leaves/cherry-leaves/validation/healthy/02b90e70-80a6-415d-b6a8-07e22dead5c4___JR_HL 9892.JPG\u001b[m\n",
            "\t\u001b[31mdeleted:    inputs/cherry_leaves/cherry-leaves/validation/healthy/0438b691-45f8-4251-83bd-8344656716a1___JR_HL 4152_180deg.JPG\u001b[m\n",
            "\t\u001b[31mdeleted:    inputs/cherry_leaves/cherry-leaves/validation/healthy/04585023-ef52-4b9d-9763-50318773c5d7___JR_HL 9791_flipTB.JPG\u001b[m\n",
            "\t\u001b[31mdeleted:    inputs/cherry_leaves/cherry-leaves/validation/healthy/077273c0-4325-45d9-995e-20b060eab6bf___JR_HL 9494_flipTB.JPG\u001b[m\n",
            "\t\u001b[31mdeleted:    inputs/cherry_leaves/cherry-leaves/validation/healthy/0a1319ef-0cbb-4fcc-8126-9c18813f3bac___JR_HL 4012.JPG\u001b[m\n",
            "\t\u001b[31mdeleted:    inputs/cherry_leaves/cherry-leaves/validation/healthy/0c104a65-d734-45f5-98a1-621825705add___JR_HL 9478.JPG\u001b[m\n",
            "\t\u001b[31mdeleted:    inputs/cherry_leaves/cherry-leaves/validation/healthy/11c2887d-1fea-4cf8-8696-325de8aad74a___JR_HL 9890_180deg.JPG\u001b[m\n",
            "\t\u001b[31mdeleted:    inputs/cherry_leaves/cherry-leaves/validation/healthy/124e5b7b-dc6a-4b5a-8f4e-b22ed738b5fc___JR_HL 9455_flipTB.JPG\u001b[m\n",
            "\t\u001b[31mdeleted:    inputs/cherry_leaves/cherry-leaves/validation/healthy/1323484b-3af9-4ef3-bd2d-a26360c77a49___JR_HL 4032.JPG\u001b[m\n",
            "\t\u001b[31mdeleted:    inputs/cherry_leaves/cherry-leaves/validation/healthy/141d550c-95f0-45eb-8196-8886f0b1acd6___JR_HL 4000.JPG\u001b[m\n",
            "\t\u001b[31mdeleted:    inputs/cherry_leaves/cherry-leaves/validation/healthy/14a76290-53c4-46ab-a171-7f2dbf2b13aa___JR_HL 9685.JPG\u001b[m\n",
            "\t\u001b[31mdeleted:    inputs/cherry_leaves/cherry-leaves/validation/healthy/166c5514-2f57-49f6-be88-944016164241___JR_HL 9717_180deg.JPG\u001b[m\n",
            "\t\u001b[31mdeleted:    inputs/cherry_leaves/cherry-leaves/validation/healthy/16952b2d-daf9-47c6-b15e-c2c465bd5cf0___JR_HL 9882.JPG\u001b[m\n",
            "\t\u001b[31mdeleted:    inputs/cherry_leaves/cherry-leaves/validation/healthy/16952b2d-daf9-47c6-b15e-c2c465bd5cf0___JR_HL 9882_180deg.JPG\u001b[m\n",
            "\t\u001b[31mdeleted:    inputs/cherry_leaves/cherry-leaves/validation/healthy/17ced140-3575-471d-9a52-9d37a9e4fccd___JR_HL 4266_flipTB.JPG\u001b[m\n",
            "\t\u001b[31mdeleted:    inputs/cherry_leaves/cherry-leaves/validation/healthy/17d3b0b7-b847-4510-a2e0-30b9314284f3___JR_HL 9556_flipTB.JPG\u001b[m\n",
            "\t\u001b[31mdeleted:    inputs/cherry_leaves/cherry-leaves/validation/healthy/18854838-ea2e-4b85-8d17-ec1165f0bc36___JR_HL 3985.JPG\u001b[m\n",
            "\t\u001b[31mdeleted:    inputs/cherry_leaves/cherry-leaves/validation/healthy/18e3c122-617d-4eea-abe5-81e910e58a3c___JR_HL 9830_flipTB.JPG\u001b[m\n",
            "\t\u001b[31mdeleted:    inputs/cherry_leaves/cherry-leaves/validation/healthy/190c64b8-b621-4b74-b5f3-f6576fd46cf5___JR_HL 4315.JPG\u001b[m\n",
            "\t\u001b[31mdeleted:    inputs/cherry_leaves/cherry-leaves/validation/healthy/190c64b8-b621-4b74-b5f3-f6576fd46cf5___JR_HL 4315_180deg.JPG\u001b[m\n",
            "\t\u001b[31mdeleted:    inputs/cherry_leaves/cherry-leaves/validation/healthy/198c3d64-e955-404c-9f95-8a19f7cb5f33___JR_HL 9527_flipTB.JPG\u001b[m\n",
            "\t\u001b[31mdeleted:    inputs/cherry_leaves/cherry-leaves/validation/healthy/1b4b8772-493c-4dfb-ac02-d46b97a96b6a___JR_HL 4080.JPG\u001b[m\n",
            "\t\u001b[31mdeleted:    inputs/cherry_leaves/cherry-leaves/validation/healthy/1d981f31-74e1-4903-9e08-0475f632a5e3___JR_HL 9458.JPG\u001b[m\n",
            "\t\u001b[31mdeleted:    inputs/cherry_leaves/cherry-leaves/validation/healthy/220a359f-3d06-41fe-9c8d-e5da7d5c426f___JR_HL 4308.JPG\u001b[m\n",
            "\t\u001b[31mdeleted:    inputs/cherry_leaves/cherry-leaves/validation/healthy/22cbfe56-85b9-4e13-8a75-faaddd496d26___JR_HL 4197.JPG\u001b[m\n",
            "\t\u001b[31mdeleted:    inputs/cherry_leaves/cherry-leaves/validation/healthy/23066177-8deb-44c9-8180-d38348f63c18___JR_HL 9492_180deg.JPG\u001b[m\n",
            "\t\u001b[31mdeleted:    inputs/cherry_leaves/cherry-leaves/validation/healthy/24cff2cf-14e7-4c20-929a-ea2001d8de38___JR_HL 9639_flipTB.JPG\u001b[m\n",
            "\t\u001b[31mdeleted:    inputs/cherry_leaves/cherry-leaves/validation/healthy/255be8f3-8c41-4b23-a4c2-138f9bf79f39___JR_HL 9706.JPG\u001b[m\n",
            "\t\u001b[31mdeleted:    inputs/cherry_leaves/cherry-leaves/validation/healthy/263c668e-176b-4e17-8065-37083fb8607b___JR_HL 4146_flipTB.JPG\u001b[m\n",
            "\t\u001b[31mdeleted:    inputs/cherry_leaves/cherry-leaves/validation/healthy/286e7fe9-9df9-4876-9fdf-107a06da6eea___JR_HL 9605.JPG\u001b[m\n",
            "\t\u001b[31mdeleted:    inputs/cherry_leaves/cherry-leaves/validation/healthy/2ef7d568-64dd-432c-8a73-5a0029c13897___JR_HL 9711.JPG\u001b[m\n",
            "\t\u001b[31mdeleted:    inputs/cherry_leaves/cherry-leaves/validation/healthy/3174d49f-1233-40f0-a0cd-e90abaea175f___JR_HL 9890 copy_180deg.JPG\u001b[m\n",
            "\t\u001b[31mdeleted:    inputs/cherry_leaves/cherry-leaves/validation/healthy/319abe40-ce3e-485c-8651-6c98f5f06e69___JR_HL 4069.JPG\u001b[m\n",
            "\t\u001b[31mdeleted:    inputs/cherry_leaves/cherry-leaves/validation/healthy/31ca812a-76c6-4010-953a-ebb96d705b74___JR_HL 4005.JPG\u001b[m\n",
            "\t\u001b[31mdeleted:    inputs/cherry_leaves/cherry-leaves/validation/healthy/31ca812a-76c6-4010-953a-ebb96d705b74___JR_HL 4005_180deg.JPG\u001b[m\n",
            "\t\u001b[31mdeleted:    inputs/cherry_leaves/cherry-leaves/validation/healthy/33641b67-ce5a-475d-bc5d-50d276c5b9f3___JR_HL 9742_flipTB.JPG\u001b[m\n",
            "\t\u001b[31mdeleted:    inputs/cherry_leaves/cherry-leaves/validation/healthy/34f94b3b-3485-4252-99e5-c5daad6da83f___JR_HL 9803_180deg.JPG\u001b[m\n",
            "\t\u001b[31mdeleted:    inputs/cherry_leaves/cherry-leaves/validation/healthy/35457722-0a92-4019-906e-5f7933f326d7___JR_HL 4056_180deg.JPG\u001b[m\n",
            "\t\u001b[31mdeleted:    inputs/cherry_leaves/cherry-leaves/validation/healthy/37031cef-9105-4a23-9282-86bcdbdbb4ac___JR_HL 4151_180deg.JPG\u001b[m\n",
            "\t\u001b[31mdeleted:    inputs/cherry_leaves/cherry-leaves/validation/healthy/376a2a7e-8e4f-42ac-a961-3bffb4d37d53___JR_HL 4237_180deg.JPG\u001b[m\n",
            "\t\u001b[31mdeleted:    inputs/cherry_leaves/cherry-leaves/validation/healthy/37aa9cca-5c9e-4fd7-b668-c4df93c26b17___JR_HL 9720_flipTB.JPG\u001b[m\n",
            "\t\u001b[31mdeleted:    inputs/cherry_leaves/cherry-leaves/validation/healthy/3b32151e-5a15-4ca5-a5c2-025bda5bbd81___JR_HL 4292.JPG\u001b[m\n",
            "\t\u001b[31mdeleted:    inputs/cherry_leaves/cherry-leaves/validation/healthy/3c3e26f4-6a9e-4d98-9e4c-1bed9d51e7b3___JR_HL 4225.JPG\u001b[m\n",
            "\t\u001b[31mdeleted:    inputs/cherry_leaves/cherry-leaves/validation/healthy/3d0f1419-3735-45f6-83c9-2db22c2d97f8___JR_HL 9731.JPG\u001b[m\n",
            "\t\u001b[31mdeleted:    inputs/cherry_leaves/cherry-leaves/validation/healthy/3db46705-0539-42b1-86e3-7e1fe4dd5393___JR_HL 4067.JPG\u001b[m\n",
            "\t\u001b[31mdeleted:    inputs/cherry_leaves/cherry-leaves/validation/healthy/3ff5632a-e0bd-4247-a6d6-7684984c430a___JR_HL 4055.JPG\u001b[m\n",
            "\t\u001b[31mdeleted:    inputs/cherry_leaves/cherry-leaves/validation/healthy/413329b7-e47e-415e-95c7-64525ebf4109___JR_HL 9866_flipTB.JPG\u001b[m\n",
            "\t\u001b[31mdeleted:    inputs/cherry_leaves/cherry-leaves/validation/healthy/418fb46a-4ace-4f51-b85b-a3885275fe96___JR_HL 9837_flipTB.JPG\u001b[m\n",
            "\t\u001b[31mdeleted:    inputs/cherry_leaves/cherry-leaves/validation/healthy/41bc3cc1-3d62-4829-ae39-0cf0efb5b1dd___JR_HL 3969_flipTB.JPG\u001b[m\n",
            "\t\u001b[31mdeleted:    inputs/cherry_leaves/cherry-leaves/validation/healthy/457ae174-5064-4736-a52b-0f78110c12eb___JR_HL 9824.JPG\u001b[m\n",
            "\t\u001b[31mdeleted:    inputs/cherry_leaves/cherry-leaves/validation/healthy/457ae174-5064-4736-a52b-0f78110c12eb___JR_HL 9824_180deg.JPG\u001b[m\n",
            "\t\u001b[31mdeleted:    inputs/cherry_leaves/cherry-leaves/validation/healthy/465c6766-6de2-4923-8560-ce0e265e88b2___JR_HL 9766.JPG\u001b[m\n",
            "\t\u001b[31mdeleted:    inputs/cherry_leaves/cherry-leaves/validation/healthy/48476597-1b5c-4d55-bd30-80059a2356bf___JR_HL 9674.JPG\u001b[m\n",
            "\t\u001b[31mdeleted:    inputs/cherry_leaves/cherry-leaves/validation/healthy/484ade57-5dd0-4764-b379-5a0e684afd81___JR_HL 9580.JPG\u001b[m\n",
            "\t\u001b[31mdeleted:    inputs/cherry_leaves/cherry-leaves/validation/healthy/493e0085-4c40-42a4-b580-32e81f0585fa___JR_HL 9851_180deg.JPG\u001b[m\n",
            "\t\u001b[31mdeleted:    inputs/cherry_leaves/cherry-leaves/validation/healthy/4e8ba6af-7f3a-4a1a-9209-20bf45c8ea18___JR_HL 3989.JPG\u001b[m\n",
            "\t\u001b[31mdeleted:    inputs/cherry_leaves/cherry-leaves/validation/healthy/5148b411-12e9-4e96-b6b7-f1820ab1f9c4___JR_HL 9557_180deg.JPG\u001b[m\n",
            "\t\u001b[31mdeleted:    inputs/cherry_leaves/cherry-leaves/validation/healthy/517b275d-ef1e-49b1-be9e-c7dcc95dab00___JR_HL 3988_180deg.JPG\u001b[m\n",
            "\t\u001b[31mdeleted:    inputs/cherry_leaves/cherry-leaves/validation/healthy/517b275d-ef1e-49b1-be9e-c7dcc95dab00___JR_HL 3988_flipTB.JPG\u001b[m\n",
            "\t\u001b[31mdeleted:    inputs/cherry_leaves/cherry-leaves/validation/healthy/5248fd97-c794-4d16-b797-957d851da129___JR_HL 9892 copy_flipTB.JPG\u001b[m\n",
            "\t\u001b[31mdeleted:    inputs/cherry_leaves/cherry-leaves/validation/healthy/546768e6-1a6b-4489-85e7-1fa6e87072d3___JR_HL 3931_180deg.JPG\u001b[m\n",
            "\t\u001b[31mdeleted:    inputs/cherry_leaves/cherry-leaves/validation/healthy/5532a755-1cdd-4257-a188-aa8444e79f06___JR_HL 4305.JPG\u001b[m\n",
            "\t\u001b[31mdeleted:    inputs/cherry_leaves/cherry-leaves/validation/healthy/5719c279-f11c-49ff-8937-a0e5ce7ed537___JR_HL 9880 copy.JPG\u001b[m\n",
            "\t\u001b[31mdeleted:    inputs/cherry_leaves/cherry-leaves/validation/healthy/58a35a59-b63b-446e-a405-8e2e50f28b14___JR_HL 3930_180deg.JPG\u001b[m\n",
            "\t\u001b[31mdeleted:    inputs/cherry_leaves/cherry-leaves/validation/healthy/58ee2770-35f5-42e8-95b4-123896328f1b___JR_HL 9684_180deg.JPG\u001b[m\n",
            "\t\u001b[31mdeleted:    inputs/cherry_leaves/cherry-leaves/validation/healthy/5e30c4df-ee7c-4771-9cb9-29cf2917df78___JR_HL 9737.JPG\u001b[m\n",
            "\t\u001b[31mdeleted:    inputs/cherry_leaves/cherry-leaves/validation/healthy/64860b72-8644-4d3b-ad89-ad7f5fbcff90___JR_HL 4057.JPG\u001b[m\n",
            "\t\u001b[31mdeleted:    inputs/cherry_leaves/cherry-leaves/validation/healthy/68a06d43-ca39-431a-bd8b-d7b6e716d734___JR_HL 9522.JPG\u001b[m\n",
            "\t\u001b[31mdeleted:    inputs/cherry_leaves/cherry-leaves/validation/healthy/68a06d43-ca39-431a-bd8b-d7b6e716d734___JR_HL 9522_flipTB.JPG\u001b[m\n",
            "\t\u001b[31mdeleted:    inputs/cherry_leaves/cherry-leaves/validation/healthy/6be7d4c3-bd76-4d4d-b22a-59d3095384e9___JR_HL 4122.JPG\u001b[m\n",
            "\t\u001b[31mdeleted:    inputs/cherry_leaves/cherry-leaves/validation/healthy/6e6b6a39-e952-428f-9b86-06b4c4b587a1___JR_HL 3921_flipTB.JPG\u001b[m\n",
            "\t\u001b[31mdeleted:    inputs/cherry_leaves/cherry-leaves/validation/healthy/6f7e749d-006a-47a8-94d0-66292e2279fb___JR_HL 9722_180deg.JPG\u001b[m\n",
            "\t\u001b[31mdeleted:    inputs/cherry_leaves/cherry-leaves/validation/healthy/6f7e749d-006a-47a8-94d0-66292e2279fb___JR_HL 9722_flipTB.JPG\u001b[m\n",
            "\t\u001b[31mdeleted:    inputs/cherry_leaves/cherry-leaves/validation/healthy/6fd45eba-b725-4df2-95d0-910968d17afd___JR_HL 9449_180deg.JPG\u001b[m\n",
            "\t\u001b[31mdeleted:    inputs/cherry_leaves/cherry-leaves/validation/healthy/72e6c2ef-5908-4be8-a26e-0261a9627466___JR_HL 4283_180deg.JPG\u001b[m\n",
            "\t\u001b[31mdeleted:    inputs/cherry_leaves/cherry-leaves/validation/healthy/743fc494-32e8-4729-af9c-679a3870922e___JR_HL 9540.JPG\u001b[m\n",
            "\t\u001b[31mdeleted:    inputs/cherry_leaves/cherry-leaves/validation/healthy/754be5a5-dba1-4abb-afe8-c2e75edcf883___JR_HL 3929.JPG\u001b[m\n",
            "\t\u001b[31mdeleted:    inputs/cherry_leaves/cherry-leaves/validation/healthy/76e3298c-998d-4bce-956a-f8812315e1d6___JR_HL 3979_180deg.JPG\u001b[m\n",
            "\t\u001b[31mdeleted:    inputs/cherry_leaves/cherry-leaves/validation/healthy/771c7c63-38bb-4d7a-8db1-fda6c5d91076___JR_HL 9882 copy_flipTB.JPG\u001b[m\n",
            "\t\u001b[31mdeleted:    inputs/cherry_leaves/cherry-leaves/validation/healthy/77ce070f-fe40-432e-b675-157e2d61bb43___JR_HL 4050_180deg.JPG\u001b[m\n",
            "\t\u001b[31mdeleted:    inputs/cherry_leaves/cherry-leaves/validation/healthy/78b2463c-63d5-42f9-b0fa-935d72b6e77f___JR_HL 9750_flipTB.JPG\u001b[m\n",
            "\t\u001b[31mdeleted:    inputs/cherry_leaves/cherry-leaves/validation/healthy/790ba57a-4f9d-461f-99ce-88019ffc60ed___JR_HL 4015_flipTB.JPG\u001b[m\n",
            "\t\u001b[31mdeleted:    inputs/cherry_leaves/cherry-leaves/validation/healthy/7b805302-a137-4917-9805-48532140ea73___JR_HL 4104_180deg.JPG\u001b[m\n",
            "\t\u001b[31mdeleted:    inputs/cherry_leaves/cherry-leaves/validation/healthy/7da69e80-87cd-4f4b-8a9b-2bf4cd6f1c8d___JR_HL 9751.JPG\u001b[m\n",
            "\t\u001b[31mdeleted:    inputs/cherry_leaves/cherry-leaves/validation/healthy/801b35a7-86f6-4b0e-a5f0-dfc4d8031004___JR_HL 9790_flipTB.JPG\u001b[m\n",
            "\t\u001b[31mdeleted:    inputs/cherry_leaves/cherry-leaves/validation/healthy/803bd9cd-93bc-4431-9b9b-e8980a45d350___JR_HL 9748_180deg.JPG\u001b[m\n",
            "\t\u001b[31mdeleted:    inputs/cherry_leaves/cherry-leaves/validation/healthy/810b4077-aceb-4dbc-afad-9abf732ea00b___JR_HL 9457_180deg.JPG\u001b[m\n",
            "\t\u001b[31mdeleted:    inputs/cherry_leaves/cherry-leaves/validation/healthy/81bb1547-9da2-4754-8829-3690422f46bd___JR_HL 9519.JPG\u001b[m\n",
            "\t\u001b[31mdeleted:    inputs/cherry_leaves/cherry-leaves/validation/healthy/83b7e714-c245-47ae-819d-9ab8dc1b170f___JR_HL 9477_180deg.JPG\u001b[m\n",
            "\t\u001b[31mdeleted:    inputs/cherry_leaves/cherry-leaves/validation/healthy/84807b4a-f76a-4ebf-a78a-ec9444197c55___JR_HL 9786.JPG\u001b[m\n",
            "\t\u001b[31mdeleted:    inputs/cherry_leaves/cherry-leaves/validation/healthy/84c23631-9763-4f3e-8b3c-775ac54bd557___JR_HL 9853_flipTB.JPG\u001b[m\n",
            "\t\u001b[31mdeleted:    inputs/cherry_leaves/cherry-leaves/validation/healthy/8afb6bdf-203d-44f9-bea7-0d7648505c50___JR_HL 4215_flipTB.JPG\u001b[m\n",
            "\t\u001b[31mdeleted:    inputs/cherry_leaves/cherry-leaves/validation/healthy/917ccab2-935b-4eba-9f97-f81b24cbb523___JR_HL 4176_180deg.JPG\u001b[m\n",
            "\t\u001b[31mdeleted:    inputs/cherry_leaves/cherry-leaves/validation/healthy/92cd65f0-9866-4985-b706-733e8c53ed83___JR_HL 4007.JPG\u001b[m\n",
            "\t\u001b[31mdeleted:    inputs/cherry_leaves/cherry-leaves/validation/healthy/92cd65f0-9866-4985-b706-733e8c53ed83___JR_HL 4007_flipTB.JPG\u001b[m\n",
            "\t\u001b[31mdeleted:    inputs/cherry_leaves/cherry-leaves/validation/healthy/930752b3-ce70-40c3-8183-ed444e2cae17___JR_HL 3999.JPG\u001b[m\n",
            "\t\u001b[31mdeleted:    inputs/cherry_leaves/cherry-leaves/validation/healthy/930dcafe-e657-48a0-a4d5-78b145b63287___JR_HL 9521_180deg.JPG\u001b[m\n",
            "\t\u001b[31mdeleted:    inputs/cherry_leaves/cherry-leaves/validation/healthy/9362fc4a-ac87-489d-8572-f15335af1387___JR_HL 9875_180deg.JPG\u001b[m\n",
            "\t\u001b[31mdeleted:    inputs/cherry_leaves/cherry-leaves/validation/healthy/94070a24-1b16-4696-b051-b01d4ca0b59a___JR_HL 4022_flipTB.JPG\u001b[m\n",
            "\t\u001b[31mdeleted:    inputs/cherry_leaves/cherry-leaves/validation/healthy/960f86c8-9080-4342-b916-2e924e078b56___JR_HL 4033.JPG\u001b[m\n",
            "\t\u001b[31mdeleted:    inputs/cherry_leaves/cherry-leaves/validation/healthy/9705f45b-e0e3-4d0e-a0f0-ad1c9b3b32a0___JR_HL 4311_flipTB.JPG\u001b[m\n",
            "\t\u001b[31mdeleted:    inputs/cherry_leaves/cherry-leaves/validation/healthy/97df0152-e34f-4b34-bb2e-b2d9aadb19ee___JR_HL 4209.JPG\u001b[m\n",
            "\t\u001b[31mdeleted:    inputs/cherry_leaves/cherry-leaves/validation/healthy/97df0152-e34f-4b34-bb2e-b2d9aadb19ee___JR_HL 4209_180deg.JPG\u001b[m\n",
            "\t\u001b[31mdeleted:    inputs/cherry_leaves/cherry-leaves/validation/healthy/988cce2b-7897-489d-b796-9a170e815785___JR_HL 9550.JPG\u001b[m\n",
            "\t\u001b[31mdeleted:    inputs/cherry_leaves/cherry-leaves/validation/healthy/9efc5503-0ec7-4426-9adc-3842b9a19dca___JR_HL 3980_180deg.JPG\u001b[m\n",
            "\t\u001b[31mdeleted:    inputs/cherry_leaves/cherry-leaves/validation/healthy/a0a86f32-2fa9-4364-b637-5f0a2844a3b3___JR_HL 9819_180deg.JPG\u001b[m\n",
            "\t\u001b[31mdeleted:    inputs/cherry_leaves/cherry-leaves/validation/healthy/a34f6c1e-7e15-4988-906d-47aa21d341c2___JR_HL 9822_flipTB.JPG\u001b[m\n",
            "\t\u001b[31mdeleted:    inputs/cherry_leaves/cherry-leaves/validation/healthy/a3e1c4a1-22b9-4167-89c7-9a7889ad2c15___JR_HL 3922_flipTB.JPG\u001b[m\n",
            "\t\u001b[31mdeleted:    inputs/cherry_leaves/cherry-leaves/validation/healthy/a433544e-7479-4587-82c7-5fdb07f37e59___JR_HL 4203_180deg.JPG\u001b[m\n",
            "\t\u001b[31mdeleted:    inputs/cherry_leaves/cherry-leaves/validation/healthy/a46afcb8-ce3a-4583-aa94-ad5ea4c66ab0___JR_HL 4102.JPG\u001b[m\n",
            "\t\u001b[31mdeleted:    inputs/cherry_leaves/cherry-leaves/validation/healthy/a55d7cbf-498c-4392-b6a0-14f7f0f74a3b___JR_HL 9578.JPG\u001b[m\n",
            "\t\u001b[31mdeleted:    inputs/cherry_leaves/cherry-leaves/validation/healthy/a57b87e2-574d-401a-aa1e-6ce2a1339599___JR_HL 4319.JPG\u001b[m\n",
            "\t\u001b[31mdeleted:    inputs/cherry_leaves/cherry-leaves/validation/healthy/a57b87e2-574d-401a-aa1e-6ce2a1339599___JR_HL 4319_180deg.JPG\u001b[m\n",
            "\t\u001b[31mdeleted:    inputs/cherry_leaves/cherry-leaves/validation/healthy/a6562ee2-b37b-4734-9bf4-75da24f34bd1___JR_HL 4153_flipTB.JPG\u001b[m\n",
            "\t\u001b[31mdeleted:    inputs/cherry_leaves/cherry-leaves/validation/healthy/a6f2b377-2668-4f0d-98a3-cbb67f20c867___JR_HL 4013.JPG\u001b[m\n",
            "\t\u001b[31mdeleted:    inputs/cherry_leaves/cherry-leaves/validation/healthy/a8132ff0-9786-4cdb-9832-c2c5adff9a91___JR_HL 4262_180deg.JPG\u001b[m\n",
            "\t\u001b[31mdeleted:    inputs/cherry_leaves/cherry-leaves/validation/healthy/a88cb1e2-0b5b-43ea-9a20-c09951e0a67c___JR_HL 9620.JPG\u001b[m\n",
            "\t\u001b[31mdeleted:    inputs/cherry_leaves/cherry-leaves/validation/healthy/aac1e835-defb-45dd-b439-986ad949f684___JR_HL 9442_180deg.JPG\u001b[m\n",
            "\t\u001b[31mdeleted:    inputs/cherry_leaves/cherry-leaves/validation/healthy/ab72c1fa-5d40-4bc9-a384-a99fab121811___JR_HL 9510.JPG\u001b[m\n",
            "\t\u001b[31mdeleted:    inputs/cherry_leaves/cherry-leaves/validation/healthy/ac896cd9-60ec-4d64-a4c6-fc9b3d8f1ca9___JR_HL 9884_flipTB.JPG\u001b[m\n",
            "\t\u001b[31mdeleted:    inputs/cherry_leaves/cherry-leaves/validation/healthy/aed890d7-234c-4f7b-a9f4-7e30c1275467___JR_HL 3975.JPG\u001b[m\n",
            "\t\u001b[31mdeleted:    inputs/cherry_leaves/cherry-leaves/validation/healthy/b02424c2-23b8-49f2-bf9d-6ebb2589457a___JR_HL 9606_180deg.JPG\u001b[m\n",
            "\t\u001b[31mdeleted:    inputs/cherry_leaves/cherry-leaves/validation/healthy/b13a43b6-a7f4-4922-9315-12398bb130fe___JR_HL 4270_180deg.JPG\u001b[m\n",
            "\t\u001b[31mdeleted:    inputs/cherry_leaves/cherry-leaves/validation/healthy/b13a43b6-a7f4-4922-9315-12398bb130fe___JR_HL 4270_flipTB.JPG\u001b[m\n",
            "\t\u001b[31mdeleted:    inputs/cherry_leaves/cherry-leaves/validation/healthy/b4c4f75b-032e-4034-8525-26844cc6bff5___JR_HL 4211.JPG\u001b[m\n",
            "\t\u001b[31mdeleted:    inputs/cherry_leaves/cherry-leaves/validation/healthy/b56db96a-1581-4432-8d44-0d1884912a47___JR_HL 9894_180deg.JPG\u001b[m\n",
            "\t\u001b[31mdeleted:    inputs/cherry_leaves/cherry-leaves/validation/healthy/b6366199-b01d-439a-a457-25901712cad2___JR_HL 9812_180deg.JPG\u001b[m\n",
            "\t\u001b[31mdeleted:    inputs/cherry_leaves/cherry-leaves/validation/healthy/b6a8a1a7-2222-497c-b892-87d8085ab675___JR_HL 9485.JPG\u001b[m\n",
            "\t\u001b[31mdeleted:    inputs/cherry_leaves/cherry-leaves/validation/healthy/b76ae033-ddb2-4052-9ed8-af7d18c2fee8___JR_HL 9823_flipTB.JPG\u001b[m\n",
            "\t\u001b[31mdeleted:    inputs/cherry_leaves/cherry-leaves/validation/healthy/b7b1918d-d608-4aa0-9990-f0ff9a90b414___JR_HL 4144.JPG\u001b[m\n",
            "\t\u001b[31mdeleted:    inputs/cherry_leaves/cherry-leaves/validation/healthy/b9d61fe1-5b84-405b-a7ea-b3babaa5f516___JR_HL 3943_180deg.JPG\u001b[m\n",
            "\t\u001b[31mdeleted:    inputs/cherry_leaves/cherry-leaves/validation/healthy/b9d61fe1-5b84-405b-a7ea-b3babaa5f516___JR_HL 3943_flipTB.JPG\u001b[m\n",
            "\t\u001b[31mdeleted:    inputs/cherry_leaves/cherry-leaves/validation/healthy/ba608f02-a6ab-4944-86a6-3ef5b2d4aa1b___JR_HL 9502_flipTB.JPG\u001b[m\n",
            "\t\u001b[31mdeleted:    inputs/cherry_leaves/cherry-leaves/validation/healthy/bcd808e6-917b-45e5-8aa9-c91f51c7a8b8___JR_HL 9826_flipTB.JPG\u001b[m\n",
            "\t\u001b[31mdeleted:    inputs/cherry_leaves/cherry-leaves/validation/healthy/bd7c0e0a-394c-43a6-8c8d-9b0c5fb05416___JR_HL 9427_180deg.JPG\u001b[m\n",
            "\t\u001b[31mdeleted:    inputs/cherry_leaves/cherry-leaves/validation/healthy/bf769ea1-b993-43bb-9f24-07e1d9270d5a___JR_HL 9440.JPG\u001b[m\n",
            "\t\u001b[31mdeleted:    inputs/cherry_leaves/cherry-leaves/validation/healthy/bfed28c4-5ef8-4a35-b826-612875cc6b86___JR_HL 4099_180deg.JPG\u001b[m\n",
            "\t\u001b[31mdeleted:    inputs/cherry_leaves/cherry-leaves/validation/healthy/c09a1ad6-e9f5-47cb-ad0c-8ce3a1966073___JR_HL 9710.JPG\u001b[m\n",
            "\t\u001b[31mdeleted:    inputs/cherry_leaves/cherry-leaves/validation/healthy/c0ef1466-26c8-460c-a2b8-d72c5caf0792___JR_HL 4275_flipTB.JPG\u001b[m\n",
            "\t\u001b[31mdeleted:    inputs/cherry_leaves/cherry-leaves/validation/healthy/c30fb5bc-2fc0-42cd-a5db-5b4b774b9f7e___JR_HL 9574_flipTB.JPG\u001b[m\n",
            "\t\u001b[31mdeleted:    inputs/cherry_leaves/cherry-leaves/validation/healthy/c3101d4e-19b3-4959-92a4-b1b8c88d0bec___JR_HL 3994_180deg.JPG\u001b[m\n",
            "\t\u001b[31mdeleted:    inputs/cherry_leaves/cherry-leaves/validation/healthy/c4d080c7-e9be-4be6-a91c-290992c2cac0___JR_HL 9801_flipTB.JPG\u001b[m\n",
            "\t\u001b[31mdeleted:    inputs/cherry_leaves/cherry-leaves/validation/healthy/c62f98cf-7344-4e43-b31a-9b91f361acf9___JR_HL 4239.JPG\u001b[m\n",
            "\t\u001b[31mdeleted:    inputs/cherry_leaves/cherry-leaves/validation/healthy/c64db855-ec89-47dd-bde3-245b122387d4___JR_HL 4170_180deg.JPG\u001b[m\n",
            "\t\u001b[31mdeleted:    inputs/cherry_leaves/cherry-leaves/validation/healthy/c889dabb-e9dc-448c-80f3-791fea97fafd___JR_HL 9501_180deg.JPG\u001b[m\n",
            "\t\u001b[31mdeleted:    inputs/cherry_leaves/cherry-leaves/validation/healthy/cbb4bd24-9572-4235-a9c1-e6b73118b7d5___JR_HL 4120.JPG\u001b[m\n",
            "\t\u001b[31mdeleted:    inputs/cherry_leaves/cherry-leaves/validation/healthy/cde3b72e-90ff-4d6f-8b2d-7db83c08167a___JR_HL 3940_flipTB.JPG\u001b[m\n",
            "\t\u001b[31mdeleted:    inputs/cherry_leaves/cherry-leaves/validation/healthy/cf4c72b5-0d99-4bc8-a6df-ff734cf5ba02___JR_HL 9509.JPG\u001b[m\n",
            "\t\u001b[31mdeleted:    inputs/cherry_leaves/cherry-leaves/validation/healthy/d0afde99-1940-4a55-94da-dfbba13d20f6___JR_HL 4249.JPG\u001b[m\n",
            "\t\u001b[31mdeleted:    inputs/cherry_leaves/cherry-leaves/validation/healthy/d0ce3993-5ee6-4745-97de-eaf810eec402___JR_HL 9784_flipTB.JPG\u001b[m\n",
            "\t\u001b[31mdeleted:    inputs/cherry_leaves/cherry-leaves/validation/healthy/d1783f85-5cb9-4683-b493-4e9112749f23___JR_HL 9507_flipTB.JPG\u001b[m\n",
            "\t\u001b[31mdeleted:    inputs/cherry_leaves/cherry-leaves/validation/healthy/d2e9b08e-3fb6-43f8-83ae-6e917f13dcd5___JR_HL 4272_180deg.JPG\u001b[m\n",
            "\t\u001b[31mdeleted:    inputs/cherry_leaves/cherry-leaves/validation/healthy/d2e9b08e-3fb6-43f8-83ae-6e917f13dcd5___JR_HL 4272_flipTB.JPG\u001b[m\n",
            "\t\u001b[31mdeleted:    inputs/cherry_leaves/cherry-leaves/validation/healthy/d2fad1d0-4bcc-4617-8be6-5d07a56e1483___JR_HL 9747.JPG\u001b[m\n",
            "\t\u001b[31mdeleted:    inputs/cherry_leaves/cherry-leaves/validation/healthy/d5f88826-21b5-47ec-83bc-930de228ffc8___JR_HL 9808_flipTB.JPG\u001b[m\n",
            "\t\u001b[31mdeleted:    inputs/cherry_leaves/cherry-leaves/validation/healthy/db4be210-a2e9-449e-b618-64707d8ad2cf___JR_HL 9789.JPG\u001b[m\n",
            "\t\u001b[31mdeleted:    inputs/cherry_leaves/cherry-leaves/validation/healthy/dc8ada8f-338c-4428-8878-b3d91f038374___JR_HL 9545_180deg.JPG\u001b[m\n",
            "\t\u001b[31mdeleted:    inputs/cherry_leaves/cherry-leaves/validation/healthy/ddf48541-2606-4096-96a0-75bde5f60e2e___JR_HL 9590.JPG\u001b[m\n",
            "\t\u001b[31mdeleted:    inputs/cherry_leaves/cherry-leaves/validation/healthy/ded8ae3a-2f72-4ee5-a7d2-c682bfd59d6b___JR_HL 9875 copy_180deg.JPG\u001b[m\n",
            "\t\u001b[31mdeleted:    inputs/cherry_leaves/cherry-leaves/validation/healthy/df171611-2cad-4afb-bfe6-74497903addb___JR_HL 9856_flipTB.JPG\u001b[m\n",
            "\t\u001b[31mdeleted:    inputs/cherry_leaves/cherry-leaves/validation/healthy/e018791f-7887-4420-a1e3-174e43ed9085___JR_HL 9716.JPG\u001b[m\n",
            "\t\u001b[31mdeleted:    inputs/cherry_leaves/cherry-leaves/validation/healthy/e0f4ea8e-63d9-4440-8330-82ac0e34f881___JR_HL 9799_180deg.JPG\u001b[m\n",
            "\t\u001b[31mdeleted:    inputs/cherry_leaves/cherry-leaves/validation/healthy/e46636be-33bd-465b-9301-5d671facb0ba___JR_HL 9692_180deg.JPG\u001b[m\n",
            "\t\u001b[31mdeleted:    inputs/cherry_leaves/cherry-leaves/validation/healthy/e488b116-6b54-43e7-8b4e-232eb434941b___JR_HL 9425_180deg.JPG\u001b[m\n",
            "\t\u001b[31mdeleted:    inputs/cherry_leaves/cherry-leaves/validation/healthy/e4c7c7dc-cf01-41cc-86e6-d68552194785___JR_HL 4293_180deg.JPG\u001b[m\n",
            "\t\u001b[31mdeleted:    inputs/cherry_leaves/cherry-leaves/validation/healthy/e4d55b79-aba3-4d8b-97ac-a2122132a2aa___JR_HL 9597.JPG\u001b[m\n",
            "\t\u001b[31mdeleted:    inputs/cherry_leaves/cherry-leaves/validation/healthy/e4d55b79-aba3-4d8b-97ac-a2122132a2aa___JR_HL 9597_180deg.JPG\u001b[m\n",
            "\t\u001b[31mdeleted:    inputs/cherry_leaves/cherry-leaves/validation/healthy/e7a46a0f-64f9-47a5-aecd-655cca1d4559___JR_HL 3923_180deg.JPG\u001b[m\n",
            "\t\u001b[31mdeleted:    inputs/cherry_leaves/cherry-leaves/validation/healthy/e8982035-5247-4ff7-838f-24a9455894af___JR_HL 4242.JPG\u001b[m\n",
            "\t\u001b[31mdeleted:    inputs/cherry_leaves/cherry-leaves/validation/healthy/e9608c30-5177-4a98-82b9-9acd685c6673___JR_HL 9768_180deg.JPG\u001b[m\n",
            "\t\u001b[31mdeleted:    inputs/cherry_leaves/cherry-leaves/validation/healthy/ea21a07c-746b-4c40-b9dd-bed17b367f3c___JR_HL 4082_180deg.JPG\u001b[m\n",
            "\t\u001b[31mdeleted:    inputs/cherry_leaves/cherry-leaves/validation/healthy/ea80c972-f1d3-43d5-86e1-8782988c6d02___JR_HL 9695_180deg.JPG\u001b[m\n",
            "\t\u001b[31mdeleted:    inputs/cherry_leaves/cherry-leaves/validation/healthy/eaf3b9b2-6372-4333-b1ff-297485cd3656___JR_HL 9565.JPG\u001b[m\n",
            "\t\u001b[31mdeleted:    inputs/cherry_leaves/cherry-leaves/validation/healthy/eafefde7-3a21-4a76-bd73-1d20d6eee535___JR_HL 9628.JPG\u001b[m\n",
            "\t\u001b[31mdeleted:    inputs/cherry_leaves/cherry-leaves/validation/healthy/eafefde7-3a21-4a76-bd73-1d20d6eee535___JR_HL 9628_flipTB.JPG\u001b[m\n",
            "\t\u001b[31mdeleted:    inputs/cherry_leaves/cherry-leaves/validation/healthy/eb6f5271-4fbb-4343-91f8-a9f530970909___JR_HL 4066_flipTB.JPG\u001b[m\n",
            "\t\u001b[31mdeleted:    inputs/cherry_leaves/cherry-leaves/validation/healthy/ece7b2cf-6c7f-4616-a1d1-eb4061ae9a45___JR_HL 4119_180deg.JPG\u001b[m\n",
            "\t\u001b[31mdeleted:    inputs/cherry_leaves/cherry-leaves/validation/healthy/ece7b2cf-6c7f-4616-a1d1-eb4061ae9a45___JR_HL 4119_flipTB.JPG\u001b[m\n",
            "\t\u001b[31mdeleted:    inputs/cherry_leaves/cherry-leaves/validation/powdery_mildew/02ecd449-7b27-44d7-b59e-7e31813f0c18___FREC_Pwd.M 0450.JPG\u001b[m\n",
            "\t\u001b[31mdeleted:    inputs/cherry_leaves/cherry-leaves/validation/powdery_mildew/0325a93a-4fa1-4eae-a6a9-fc6baa82ca7f___FREC_Pwd.M 0434.JPG\u001b[m\n",
            "\t\u001b[31mdeleted:    inputs/cherry_leaves/cherry-leaves/validation/powdery_mildew/04a35542-f567-4ad4-a97f-f472d21d30dd___FREC_Pwd.M 4471.JPG\u001b[m\n",
            "\t\u001b[31mdeleted:    inputs/cherry_leaves/cherry-leaves/validation/powdery_mildew/0711a85e-1e8f-47a3-a9ce-841af3f77544___FREC_Pwd.M 0497_flipLR.JPG\u001b[m\n",
            "\t\u001b[31mdeleted:    inputs/cherry_leaves/cherry-leaves/validation/powdery_mildew/0a283423-3a6d-43a4-92e5-267c8153ca45___FREC_Pwd.M 4921_flipLR.JPG\u001b[m\n",
            "\t\u001b[31mdeleted:    inputs/cherry_leaves/cherry-leaves/validation/powdery_mildew/0a5aacba-0363-4b71-9beb-30183982d415___FREC_Pwd.M 4919.JPG\u001b[m\n",
            "\t\u001b[31mdeleted:    inputs/cherry_leaves/cherry-leaves/validation/powdery_mildew/0ab4bd76-19fb-4372-9ac0-9582843c4008___FREC_Pwd.M 0263_flipLR.JPG\u001b[m\n",
            "\t\u001b[31mdeleted:    inputs/cherry_leaves/cherry-leaves/validation/powdery_mildew/0ac12d2d-a98c-4e25-b715-94e7579a98f1___FREC_Pwd.M 4887_flipLR.JPG\u001b[m\n",
            "\t\u001b[31mdeleted:    inputs/cherry_leaves/cherry-leaves/validation/powdery_mildew/0b1da03f-3c6e-4977-96b7-6460433168b8___FREC_Pwd.M 5137_flipLR.JPG\u001b[m\n",
            "\t\u001b[31mdeleted:    inputs/cherry_leaves/cherry-leaves/validation/powdery_mildew/0be76485-a2bd-4f71-9735-ccec7d440de9___FREC_Pwd.M 0295.JPG\u001b[m\n",
            "\t\u001b[31mdeleted:    inputs/cherry_leaves/cherry-leaves/validation/powdery_mildew/105aa4f9-1ff7-43a4-b350-d1f7916cdc6f___FREC_Pwd.M 4963_flipLR.JPG\u001b[m\n",
            "\t\u001b[31mdeleted:    inputs/cherry_leaves/cherry-leaves/validation/powdery_mildew/11134918-12d8-465d-a7a3-20f0b3966979___FREC_Pwd.M 4957_flipLR.JPG\u001b[m\n",
            "\t\u001b[31mdeleted:    inputs/cherry_leaves/cherry-leaves/validation/powdery_mildew/11257939-ac71-4448-a9b1-939c2200a3a5___FREC_Pwd.M 4682_flipLR.JPG\u001b[m\n",
            "\t\u001b[31mdeleted:    inputs/cherry_leaves/cherry-leaves/validation/powdery_mildew/118fc556-d623-4ac9-95e3-e42052930df4___FREC_Pwd.M 5040.JPG\u001b[m\n",
            "\t\u001b[31mdeleted:    inputs/cherry_leaves/cherry-leaves/validation/powdery_mildew/16ad247c-119d-421b-82ed-cca95da6b5e1___FREC_Pwd.M 4494_flipLR.JPG\u001b[m\n",
            "\t\u001b[31mdeleted:    inputs/cherry_leaves/cherry-leaves/validation/powdery_mildew/1877b54d-3240-4f43-a441-fb3a50514b5b___FREC_Pwd.M 4876.JPG\u001b[m\n",
            "\t\u001b[31mdeleted:    inputs/cherry_leaves/cherry-leaves/validation/powdery_mildew/1935522e-77d1-4fc2-a84f-5f32835cf0d0___FREC_Pwd.M 4792.JPG\u001b[m\n",
            "\t\u001b[31mdeleted:    inputs/cherry_leaves/cherry-leaves/validation/powdery_mildew/1ca9be51-dea4-4075-8907-e583f85254b2___FREC_Pwd.M 4850_flipLR.JPG\u001b[m\n",
            "\t\u001b[31mdeleted:    inputs/cherry_leaves/cherry-leaves/validation/powdery_mildew/1cc8262f-97fa-4259-9c87-d2abd7b284a2___FREC_Pwd.M 0443_flipLR.JPG\u001b[m\n",
            "\t\u001b[31mdeleted:    inputs/cherry_leaves/cherry-leaves/validation/powdery_mildew/1ec4000c-0a5a-4a9c-8af8-986421967119___FREC_Pwd.M 4529_flipLR.JPG\u001b[m\n",
            "\t\u001b[31mdeleted:    inputs/cherry_leaves/cherry-leaves/validation/powdery_mildew/2030c843-fee8-4b7d-b784-faac863a658f___FREC_Pwd.M 4606_flipLR.JPG\u001b[m\n",
            "\t\u001b[31mdeleted:    inputs/cherry_leaves/cherry-leaves/validation/powdery_mildew/2098320d-1c84-4513-9deb-1b95a48b4a73___FREC_Pwd.M 0243.JPG\u001b[m\n",
            "\t\u001b[31mdeleted:    inputs/cherry_leaves/cherry-leaves/validation/powdery_mildew/21b85757-b8ee-4165-9380-ebeade7f3ab7___FREC_Pwd.M 4978_flipLR.JPG\u001b[m\n",
            "\t\u001b[31mdeleted:    inputs/cherry_leaves/cherry-leaves/validation/powdery_mildew/22259775-b4b5-4e64-a56f-b2be4260346d___FREC_Pwd.M 5133_flipLR.JPG\u001b[m\n",
            "\t\u001b[31mdeleted:    inputs/cherry_leaves/cherry-leaves/validation/powdery_mildew/26fb02d8-2009-475e-8a92-ec576e757205___FREC_Pwd.M 4736.JPG\u001b[m\n",
            "\t\u001b[31mdeleted:    inputs/cherry_leaves/cherry-leaves/validation/powdery_mildew/298721d3-169b-46d0-bf19-c54f7c07e0c9___FREC_Pwd.M 5148_flipLR.JPG\u001b[m\n",
            "\t\u001b[31mdeleted:    inputs/cherry_leaves/cherry-leaves/validation/powdery_mildew/2a4aa38d-38dc-4e3d-8584-e248d9f1349d___FREC_Pwd.M 0502_flipLR.JPG\u001b[m\n",
            "\t\u001b[31mdeleted:    inputs/cherry_leaves/cherry-leaves/validation/powdery_mildew/2ad49112-96a3-42df-a00f-72df73f8efaa___FREC_Pwd.M 4610.JPG\u001b[m\n",
            "\t\u001b[31mdeleted:    inputs/cherry_leaves/cherry-leaves/validation/powdery_mildew/2b61ad8d-5292-4ac0-aced-1c295a38e2d0___FREC_Pwd.M 0427_flipLR.JPG\u001b[m\n",
            "\t\u001b[31mdeleted:    inputs/cherry_leaves/cherry-leaves/validation/powdery_mildew/2d3bb91c-e8c9-4c1f-8823-645c3eaf9ec5___FREC_Pwd.M 4544.JPG\u001b[m\n",
            "\t\u001b[31mdeleted:    inputs/cherry_leaves/cherry-leaves/validation/powdery_mildew/2e013069-b7c5-4fa1-a425-4a8ec53f6e07___FREC_Pwd.M 4886.JPG\u001b[m\n",
            "\t\u001b[31mdeleted:    inputs/cherry_leaves/cherry-leaves/validation/powdery_mildew/31f275aa-0701-4a56-b9df-16e5ee852b4a___FREC_Pwd.M 4674_flipLR.JPG\u001b[m\n",
            "\t\u001b[31mdeleted:    inputs/cherry_leaves/cherry-leaves/validation/powdery_mildew/341d8850-26e0-4ac5-a560-da2be3fc4b24___FREC_Pwd.M 0349_flipLR.JPG\u001b[m\n",
            "\t\u001b[31mdeleted:    inputs/cherry_leaves/cherry-leaves/validation/powdery_mildew/34689f90-5a67-4241-a9ef-631279bde67a___FREC_Pwd.M 4543_flipLR.JPG\u001b[m\n",
            "\t\u001b[31mdeleted:    inputs/cherry_leaves/cherry-leaves/validation/powdery_mildew/3494b335-17d6-437c-9bd2-cf43202f8576___FREC_Pwd.M 4903.JPG\u001b[m\n",
            "\t\u001b[31mdeleted:    inputs/cherry_leaves/cherry-leaves/validation/powdery_mildew/34db0ad3-64b1-4369-a52f-04641800a4c9___FREC_Pwd.M 0316_flipLR.JPG\u001b[m\n",
            "\t\u001b[31mdeleted:    inputs/cherry_leaves/cherry-leaves/validation/powdery_mildew/34ef9fe3-385a-49a0-981d-483175edfcd1___FREC_Pwd.M 5161.JPG\u001b[m\n",
            "\t\u001b[31mdeleted:    inputs/cherry_leaves/cherry-leaves/validation/powdery_mildew/3531b280-cdf5-4983-b83e-21259674d575___FREC_Pwd.M 4907.JPG\u001b[m\n",
            "\t\u001b[31mdeleted:    inputs/cherry_leaves/cherry-leaves/validation/powdery_mildew/356ef788-2518-4519-8df0-c92c41cb8249___FREC_Pwd.M 5104_flipLR.JPG\u001b[m\n",
            "\t\u001b[31mdeleted:    inputs/cherry_leaves/cherry-leaves/validation/powdery_mildew/36ac8741-4a25-4c69-9158-93ec279974fa___FREC_Pwd.M 4528.JPG\u001b[m\n",
            "\t\u001b[31mdeleted:    inputs/cherry_leaves/cherry-leaves/validation/powdery_mildew/3928d15a-b841-4524-a5be-b34546c358f2___FREC_Pwd.M 0324_flipLR.JPG\u001b[m\n",
            "\t\u001b[31mdeleted:    inputs/cherry_leaves/cherry-leaves/validation/powdery_mildew/3983b22e-b3b0-464f-b623-bf9131cb513a___FREC_Pwd.M 4741.JPG\u001b[m\n",
            "\t\u001b[31mdeleted:    inputs/cherry_leaves/cherry-leaves/validation/powdery_mildew/3a15932f-38c1-4728-ac2f-fa067662c8e3___FREC_Pwd.M 0563_flipLR.JPG\u001b[m\n",
            "\t\u001b[31mdeleted:    inputs/cherry_leaves/cherry-leaves/validation/powdery_mildew/3b9e2d81-4659-4771-8210-eea9f4500b44___FREC_Pwd.M 4483_flipLR.JPG\u001b[m\n",
            "\t\u001b[31mdeleted:    inputs/cherry_leaves/cherry-leaves/validation/powdery_mildew/3bfa3406-fb45-4b15-ab2c-5a7cb8d41794___FREC_Pwd.M 0489_flipLR.JPG\u001b[m\n",
            "\t\u001b[31mdeleted:    inputs/cherry_leaves/cherry-leaves/validation/powdery_mildew/3c51251b-482f-4753-adff-c0049bcb9a6a___FREC_Pwd.M 5118_flipLR.JPG\u001b[m\n",
            "\t\u001b[31mdeleted:    inputs/cherry_leaves/cherry-leaves/validation/powdery_mildew/3e259f31-d7a8-4999-b0e6-12c74e98687a___FREC_Pwd.M 4791_flipLR.JPG\u001b[m\n",
            "\t\u001b[31mdeleted:    inputs/cherry_leaves/cherry-leaves/validation/powdery_mildew/3e888774-5b36-4346-8627-484de167ea88___FREC_Pwd.M 4982.JPG\u001b[m\n",
            "\t\u001b[31mdeleted:    inputs/cherry_leaves/cherry-leaves/validation/powdery_mildew/3ec67b8f-007a-4e49-9e5f-0ce292ea0675___FREC_Pwd.M 5138_flipLR.JPG\u001b[m\n",
            "\t\u001b[31mdeleted:    inputs/cherry_leaves/cherry-leaves/validation/powdery_mildew/42ce6a15-e155-4865-b71b-2516e462dfe6___FREC_Pwd.M 4882_flipLR.JPG\u001b[m\n",
            "\t\u001b[31mdeleted:    inputs/cherry_leaves/cherry-leaves/validation/powdery_mildew/430e75b3-d67e-429a-936e-e64610dc0aa3___FREC_Pwd.M 0268_flipLR.JPG\u001b[m\n",
            "\t\u001b[31mdeleted:    inputs/cherry_leaves/cherry-leaves/validation/powdery_mildew/441b415a-197a-4880-a373-6821f5a14725___FREC_Pwd.M 4880.JPG\u001b[m\n",
            "\t\u001b[31mdeleted:    inputs/cherry_leaves/cherry-leaves/validation/powdery_mildew/460f7421-98c2-4477-b10b-88341b71f4f8___FREC_Pwd.M 0579_flipLR.JPG\u001b[m\n",
            "\t\u001b[31mdeleted:    inputs/cherry_leaves/cherry-leaves/validation/powdery_mildew/4c46150b-476c-470b-963e-9dd64296200c___FREC_Pwd.M 0246_flipLR.JPG\u001b[m\n",
            "\t\u001b[31mdeleted:    inputs/cherry_leaves/cherry-leaves/validation/powdery_mildew/4e25945a-6555-4546-b605-414bd68a7fe0___FREC_Pwd.M 4628_flipLR.JPG\u001b[m\n",
            "\t\u001b[31mdeleted:    inputs/cherry_leaves/cherry-leaves/validation/powdery_mildew/4ea0cb8a-6b0a-4aec-8b8d-0dc973f28878___FREC_Pwd.M 0280.JPG\u001b[m\n",
            "\t\u001b[31mdeleted:    inputs/cherry_leaves/cherry-leaves/validation/powdery_mildew/503409a9-1a72-4cbf-98ab-421139942fd9___FREC_Pwd.M 0296_flipLR.JPG\u001b[m\n",
            "\t\u001b[31mdeleted:    inputs/cherry_leaves/cherry-leaves/validation/powdery_mildew/52acb15f-d454-40b0-97c9-70078a6f86a1___FREC_Pwd.M 4739_flipLR.JPG\u001b[m\n",
            "\t\u001b[31mdeleted:    inputs/cherry_leaves/cherry-leaves/validation/powdery_mildew/540f2fd6-9295-4bf3-a75b-acab1b641cb0___FREC_Pwd.M 4646.JPG\u001b[m\n",
            "\t\u001b[31mdeleted:    inputs/cherry_leaves/cherry-leaves/validation/powdery_mildew/5588e2ce-bc1e-4ce0-8392-6bfa40d334d5___FREC_Pwd.M 4671_flipLR.JPG\u001b[m\n",
            "\t\u001b[31mdeleted:    inputs/cherry_leaves/cherry-leaves/validation/powdery_mildew/55aba0f4-a57d-49ed-b2d4-4e5c783dc25d___FREC_Pwd.M 0393_flipLR.JPG\u001b[m\n",
            "\t\u001b[31mdeleted:    inputs/cherry_leaves/cherry-leaves/validation/powdery_mildew/5666b4ed-32ac-4db9-a07c-230fb75b7413___FREC_Pwd.M 0524_flipLR.JPG\u001b[m\n",
            "\t\u001b[31mdeleted:    inputs/cherry_leaves/cherry-leaves/validation/powdery_mildew/5932814d-63f8-4dc4-b7e3-6b8d17d7a2e2___FREC_Pwd.M 5117_flipLR.JPG\u001b[m\n",
            "\t\u001b[31mdeleted:    inputs/cherry_leaves/cherry-leaves/validation/powdery_mildew/59ba7560-f218-44c0-bf46-2019757ec591___FREC_Pwd.M 4923.JPG\u001b[m\n",
            "\t\u001b[31mdeleted:    inputs/cherry_leaves/cherry-leaves/validation/powdery_mildew/5b860b1a-a09f-4445-8c8a-f5c11865abab___FREC_Pwd.M 4879.JPG\u001b[m\n",
            "\t\u001b[31mdeleted:    inputs/cherry_leaves/cherry-leaves/validation/powdery_mildew/5be6f819-7f95-4078-bc8a-320b79dd5bee___FREC_Pwd.M 4706_flipLR.JPG\u001b[m\n",
            "\t\u001b[31mdeleted:    inputs/cherry_leaves/cherry-leaves/validation/powdery_mildew/5c889ff2-b516-4333-ba98-d6f31b95efa8___FREC_Pwd.M 4620_flipLR.JPG\u001b[m\n",
            "\t\u001b[31mdeleted:    inputs/cherry_leaves/cherry-leaves/validation/powdery_mildew/5e603aba-8668-44fd-8b33-f6dd7686606e___FREC_Pwd.M 0245.JPG\u001b[m\n",
            "\t\u001b[31mdeleted:    inputs/cherry_leaves/cherry-leaves/validation/powdery_mildew/61705ba4-f43e-48f6-afd2-d62fe6f3922e___FREC_Pwd.M 5139_flipLR.JPG\u001b[m\n",
            "\t\u001b[31mdeleted:    inputs/cherry_leaves/cherry-leaves/validation/powdery_mildew/63a78c82-6708-4324-9ea4-d2f51e83565f___FREC_Pwd.M 4763.JPG\u001b[m\n",
            "\t\u001b[31mdeleted:    inputs/cherry_leaves/cherry-leaves/validation/powdery_mildew/63ca2f3f-c6aa-463e-b74a-23e328637043___FREC_Pwd.M 5109.JPG\u001b[m\n",
            "\t\u001b[31mdeleted:    inputs/cherry_leaves/cherry-leaves/validation/powdery_mildew/6521f6d7-05fd-4144-b2e3-a20f0a7e6f7d___FREC_Pwd.M 5010.JPG\u001b[m\n",
            "\t\u001b[31mdeleted:    inputs/cherry_leaves/cherry-leaves/validation/powdery_mildew/6549d4d7-4649-4059-8f94-e106f268119c___FREC_Pwd.M 0458.JPG\u001b[m\n",
            "\t\u001b[31mdeleted:    inputs/cherry_leaves/cherry-leaves/validation/powdery_mildew/6710752c-a488-412e-b02d-1392b4a77e99___FREC_Pwd.M 4752_flipLR.JPG\u001b[m\n",
            "\t\u001b[31mdeleted:    inputs/cherry_leaves/cherry-leaves/validation/powdery_mildew/67b901db-8183-40fe-8195-c986c44a64dc___FREC_Pwd.M 4643_flipLR.JPG\u001b[m\n",
            "\t\u001b[31mdeleted:    inputs/cherry_leaves/cherry-leaves/validation/powdery_mildew/68ae9ec5-0f6e-42f9-90ad-c620230e5f03___FREC_Pwd.M 0485.JPG\u001b[m\n",
            "\t\u001b[31mdeleted:    inputs/cherry_leaves/cherry-leaves/validation/powdery_mildew/6915b42c-598c-4a75-b9bc-096ded10b120___FREC_Pwd.M 0562.JPG\u001b[m\n",
            "\t\u001b[31mdeleted:    inputs/cherry_leaves/cherry-leaves/validation/powdery_mildew/6eb582da-cba3-44e1-832b-d8ef8526851a___FREC_Pwd.M 4774_flipLR.JPG\u001b[m\n",
            "\t\u001b[31mdeleted:    inputs/cherry_leaves/cherry-leaves/validation/powdery_mildew/6f1c8a5e-7df4-46cf-9cbf-3f5588512393___FREC_Pwd.M 0564.JPG\u001b[m\n",
            "\t\u001b[31mdeleted:    inputs/cherry_leaves/cherry-leaves/validation/powdery_mildew/6f54b2ab-ab60-49a6-a203-bc273bbfc17e___FREC_Pwd.M 4733_flipLR.JPG\u001b[m\n",
            "\t\u001b[31mdeleted:    inputs/cherry_leaves/cherry-leaves/validation/powdery_mildew/70408f47-c49b-44d5-8ced-f3d7d02d8b68___FREC_Pwd.M 4503_flipLR.JPG\u001b[m\n",
            "\t\u001b[31mdeleted:    inputs/cherry_leaves/cherry-leaves/validation/powdery_mildew/722fc94f-8b5b-47cc-9a9a-63c874a814b4___FREC_Pwd.M 4906_flipLR.JPG\u001b[m\n",
            "\t\u001b[31mdeleted:    inputs/cherry_leaves/cherry-leaves/validation/powdery_mildew/763ede8b-c6f1-4e82-8326-1b240c17103f___FREC_Pwd.M 5106.JPG\u001b[m\n",
            "\t\u001b[31mdeleted:    inputs/cherry_leaves/cherry-leaves/validation/powdery_mildew/7665ae36-28ec-4350-9798-89b4a32e32a8___FREC_Pwd.M 5124.JPG\u001b[m\n",
            "\t\u001b[31mdeleted:    inputs/cherry_leaves/cherry-leaves/validation/powdery_mildew/769cf206-744b-4850-8c29-2ba3c9f3c0a1___FREC_Pwd.M 0495.JPG\u001b[m\n",
            "\t\u001b[31mdeleted:    inputs/cherry_leaves/cherry-leaves/validation/powdery_mildew/76ec8385-dfe2-46fd-bb01-9c29e0c6a310___FREC_Pwd.M 4567.JPG\u001b[m\n",
            "\t\u001b[31mdeleted:    inputs/cherry_leaves/cherry-leaves/validation/powdery_mildew/77627584-80d1-4b90-ba73-1d7c57f37da7___FREC_Pwd.M 0568_flipLR.JPG\u001b[m\n",
            "\t\u001b[31mdeleted:    inputs/cherry_leaves/cherry-leaves/validation/powdery_mildew/7c2e785f-36d4-4ce9-84a8-2b5a278ffa6a___FREC_Pwd.M 4710.JPG\u001b[m\n",
            "\t\u001b[31mdeleted:    inputs/cherry_leaves/cherry-leaves/validation/powdery_mildew/7c954648-9427-4785-bc21-2bf92256da2a___FREC_Pwd.M 4657_flipLR.JPG\u001b[m\n",
            "\t\u001b[31mdeleted:    inputs/cherry_leaves/cherry-leaves/validation/powdery_mildew/7ce9d6bf-c6c3-4be4-a5f1-b6f133691f4a___FREC_Pwd.M 4572.JPG\u001b[m\n",
            "\t\u001b[31mdeleted:    inputs/cherry_leaves/cherry-leaves/validation/powdery_mildew/82cad357-576b-4e8f-9d46-8db17d592d4d___FREC_Pwd.M 0411_flipLR.JPG\u001b[m\n",
            "\t\u001b[31mdeleted:    inputs/cherry_leaves/cherry-leaves/validation/powdery_mildew/84270d70-0871-497f-9f9c-dc496d6c8640___FREC_Pwd.M 0454_flipLR.JPG\u001b[m\n",
            "\t\u001b[31mdeleted:    inputs/cherry_leaves/cherry-leaves/validation/powdery_mildew/849459ae-9c96-47da-875b-f79860c8e51b___FREC_Pwd.M 0320.JPG\u001b[m\n",
            "\t\u001b[31mdeleted:    inputs/cherry_leaves/cherry-leaves/validation/powdery_mildew/854a1985-0856-41a9-9f9a-2e1a5822e07c___FREC_Pwd.M 5079_flipLR.JPG\u001b[m\n",
            "\t\u001b[31mdeleted:    inputs/cherry_leaves/cherry-leaves/validation/powdery_mildew/87e0db60-4830-436a-ab50-5e5bfa10028f___FREC_Pwd.M 5080_flipLR.JPG\u001b[m\n",
            "\t\u001b[31mdeleted:    inputs/cherry_leaves/cherry-leaves/validation/powdery_mildew/898cc60e-bae8-41c9-9695-cfafff82bce6___FREC_Pwd.M 5091_flipLR.JPG\u001b[m\n",
            "\t\u001b[31mdeleted:    inputs/cherry_leaves/cherry-leaves/validation/powdery_mildew/8ad6e23a-7ad5-47a7-a2e3-55655ef64ccd___FREC_Pwd.M 4461_flipLR.JPG\u001b[m\n",
            "\t\u001b[31mdeleted:    inputs/cherry_leaves/cherry-leaves/validation/powdery_mildew/8af0a449-b266-4e80-822e-af6033fc537b___FREC_Pwd.M 0545_flipLR.JPG\u001b[m\n",
            "\t\u001b[31mdeleted:    inputs/cherry_leaves/cherry-leaves/validation/powdery_mildew/8af92c46-f8c4-4b63-a9db-8718f2ac1dd4___FREC_Pwd.M 0438_flipLR.JPG\u001b[m\n",
            "\t\u001b[31mdeleted:    inputs/cherry_leaves/cherry-leaves/validation/powdery_mildew/8d6db97d-d955-4847-abcb-f31c213599da___FREC_Pwd.M 4591_flipLR.JPG\u001b[m\n",
            "\t\u001b[31mdeleted:    inputs/cherry_leaves/cherry-leaves/validation/powdery_mildew/8e48b58c-cc17-4fb1-97bb-6c0d056ab4dc___FREC_Pwd.M 5031_flipLR.JPG\u001b[m\n",
            "\t\u001b[31mdeleted:    inputs/cherry_leaves/cherry-leaves/validation/powdery_mildew/908003f7-4b82-4be9-9d9d-e2e8debb230e___FREC_Pwd.M 0453.JPG\u001b[m\n",
            "\t\u001b[31mdeleted:    inputs/cherry_leaves/cherry-leaves/validation/powdery_mildew/9141ec65-e550-4f45-92e7-3c078a5f17ca___FREC_Pwd.M 0265.JPG\u001b[m\n",
            "\t\u001b[31mdeleted:    inputs/cherry_leaves/cherry-leaves/validation/powdery_mildew/91d667f6-de17-48fe-9d42-f7dd3edfb622___FREC_Pwd.M 0357.JPG\u001b[m\n",
            "\t\u001b[31mdeleted:    inputs/cherry_leaves/cherry-leaves/validation/powdery_mildew/91f27d9d-080a-4590-b72f-a85053f02d22___FREC_Pwd.M 0336.JPG\u001b[m\n",
            "\t\u001b[31mdeleted:    inputs/cherry_leaves/cherry-leaves/validation/powdery_mildew/930823eb-ada1-49cf-873b-49574680c1f5___FREC_Pwd.M 4601_flipLR.JPG\u001b[m\n",
            "\t\u001b[31mdeleted:    inputs/cherry_leaves/cherry-leaves/validation/powdery_mildew/937668de-0516-4a8a-870b-9cbaaf83d0fa___FREC_Pwd.M 0437.JPG\u001b[m\n",
            "\t\u001b[31mdeleted:    inputs/cherry_leaves/cherry-leaves/validation/powdery_mildew/9606fef7-31e2-439d-93e1-f2d860844cad___FREC_Pwd.M 4613.JPG\u001b[m\n",
            "\t\u001b[31mdeleted:    inputs/cherry_leaves/cherry-leaves/validation/powdery_mildew/9874295e-fe0f-4408-88b0-0402a272041a___FREC_Pwd.M 0292.JPG\u001b[m\n",
            "\t\u001b[31mdeleted:    inputs/cherry_leaves/cherry-leaves/validation/powdery_mildew/994dde28-a70f-4fd9-86db-49151166eb1d___FREC_Pwd.M 4477.JPG\u001b[m\n",
            "\t\u001b[31mdeleted:    inputs/cherry_leaves/cherry-leaves/validation/powdery_mildew/994dde28-a70f-4fd9-86db-49151166eb1d___FREC_Pwd.M 4477_flipLR.JPG\u001b[m\n",
            "\t\u001b[31mdeleted:    inputs/cherry_leaves/cherry-leaves/validation/powdery_mildew/9a190630-f11a-4e5b-9495-3c4535bb4144___FREC_Pwd.M 0367.JPG\u001b[m\n",
            "\t\u001b[31mdeleted:    inputs/cherry_leaves/cherry-leaves/validation/powdery_mildew/9d9c0c1a-fd2b-4563-b5c6-e393e4fd8b09___FREC_Pwd.M 4803.JPG\u001b[m\n",
            "\t\u001b[31mdeleted:    inputs/cherry_leaves/cherry-leaves/validation/powdery_mildew/9d9c0c1a-fd2b-4563-b5c6-e393e4fd8b09___FREC_Pwd.M 4803_flipLR.JPG\u001b[m\n",
            "\t\u001b[31mdeleted:    inputs/cherry_leaves/cherry-leaves/validation/powdery_mildew/9f1837a8-5fe3-429a-acaa-2f851be4cbc9___FREC_Pwd.M 4843.JPG\u001b[m\n",
            "\t\u001b[31mdeleted:    inputs/cherry_leaves/cherry-leaves/validation/powdery_mildew/a0a675ac-fc10-45a9-879c-60ede3c69df9___FREC_Pwd.M 4851_flipLR.JPG\u001b[m\n",
            "\t\u001b[31mdeleted:    inputs/cherry_leaves/cherry-leaves/validation/powdery_mildew/a311fa97-e506-4f95-85ee-eb23c01f8cfd___FREC_Pwd.M 4795.JPG\u001b[m\n",
            "\t\u001b[31mdeleted:    inputs/cherry_leaves/cherry-leaves/validation/powdery_mildew/a3e55d23-0e8e-4653-b037-0ee783a5ca84___FREC_Pwd.M 4905_flipLR.JPG\u001b[m\n",
            "\t\u001b[31mdeleted:    inputs/cherry_leaves/cherry-leaves/validation/powdery_mildew/a6d1f85a-bb21-40d2-822e-aa603d8b2a65___FREC_Pwd.M 4541_flipLR.JPG\u001b[m\n",
            "\t\u001b[31mdeleted:    inputs/cherry_leaves/cherry-leaves/validation/powdery_mildew/a80d12ff-1263-4196-87eb-1634495fc7a7___FREC_Pwd.M 0382.JPG\u001b[m\n",
            "\t\u001b[31mdeleted:    inputs/cherry_leaves/cherry-leaves/validation/powdery_mildew/a92ff182-8a3f-486f-81dd-8c866b28e0a6___FREC_Pwd.M 4902_flipLR.JPG\u001b[m\n",
            "\t\u001b[31mdeleted:    inputs/cherry_leaves/cherry-leaves/validation/powdery_mildew/aa04b9b8-28e8-4dcb-bbff-8d86ec6168a1___FREC_Pwd.M 4782_flipLR.JPG\u001b[m\n",
            "\t\u001b[31mdeleted:    inputs/cherry_leaves/cherry-leaves/validation/powdery_mildew/ab269e53-f834-4f28-a175-c24de184f407___FREC_Pwd.M 0511_flipLR.JPG\u001b[m\n",
            "\t\u001b[31mdeleted:    inputs/cherry_leaves/cherry-leaves/validation/powdery_mildew/ac3e6824-a60e-4c8f-a844-4e97abc983a7___FREC_Pwd.M 4801.JPG\u001b[m\n",
            "\t\u001b[31mdeleted:    inputs/cherry_leaves/cherry-leaves/validation/powdery_mildew/ac4e6f2c-b2f6-4a21-a42a-b51ae78b38a4___FREC_Pwd.M 0255_flipLR.JPG\u001b[m\n",
            "\t\u001b[31mdeleted:    inputs/cherry_leaves/cherry-leaves/validation/powdery_mildew/ae11d51c-80f9-45bf-9cff-5bc6843b6404___FREC_Pwd.M 4560_flipLR.JPG\u001b[m\n",
            "\t\u001b[31mdeleted:    inputs/cherry_leaves/cherry-leaves/validation/powdery_mildew/af36d4bf-c90e-4bbb-b800-575f1dfed7e5___FREC_Pwd.M 4677_flipLR.JPG\u001b[m\n",
            "\t\u001b[31mdeleted:    inputs/cherry_leaves/cherry-leaves/validation/powdery_mildew/b24c156d-6183-49a7-86ad-3b90c943d470___FREC_Pwd.M 4889.JPG\u001b[m\n",
            "\t\u001b[31mdeleted:    inputs/cherry_leaves/cherry-leaves/validation/powdery_mildew/b3e33cf2-c3ab-4ad1-9194-6e394554a340___FREC_Pwd.M 4614_flipLR.JPG\u001b[m\n",
            "\t\u001b[31mdeleted:    inputs/cherry_leaves/cherry-leaves/validation/powdery_mildew/b46f4b1a-1ee5-4f1c-bc0a-b6409df369b7___FREC_Pwd.M 4584.JPG\u001b[m\n",
            "\t\u001b[31mdeleted:    inputs/cherry_leaves/cherry-leaves/validation/powdery_mildew/b51db6d6-b492-487f-a9a0-9661a556f60f___FREC_Pwd.M 4520.JPG\u001b[m\n",
            "\t\u001b[31mdeleted:    inputs/cherry_leaves/cherry-leaves/validation/powdery_mildew/b748047a-d6ed-49b4-8fa3-16fea0a76115___FREC_Pwd.M 0395.JPG\u001b[m\n",
            "\t\u001b[31mdeleted:    inputs/cherry_leaves/cherry-leaves/validation/powdery_mildew/b8ff7b14-e3b8-4bdc-821e-39fa9736de9c___FREC_Pwd.M 0261_flipLR.JPG\u001b[m\n",
            "\t\u001b[31mdeleted:    inputs/cherry_leaves/cherry-leaves/validation/powdery_mildew/b94ee91a-27c4-4eca-ab18-f1f6f7a0c495___FREC_Pwd.M 0335.JPG\u001b[m\n",
            "\t\u001b[31mdeleted:    inputs/cherry_leaves/cherry-leaves/validation/powdery_mildew/bcf29f97-4079-4c53-af05-a7bda7372c3b___FREC_Pwd.M 4744_flipLR.JPG\u001b[m\n",
            "\t\u001b[31mdeleted:    inputs/cherry_leaves/cherry-leaves/validation/powdery_mildew/bdb92bce-9638-4d5b-ab73-daad834b5427___FREC_Pwd.M 0368_flipLR.JPG\u001b[m\n",
            "\t\u001b[31mdeleted:    inputs/cherry_leaves/cherry-leaves/validation/powdery_mildew/bf5d1d44-32b5-4e50-8bac-a2db6855ab61___FREC_Pwd.M 5129_flipLR.JPG\u001b[m\n",
            "\t\u001b[31mdeleted:    inputs/cherry_leaves/cherry-leaves/validation/powdery_mildew/bfa31d21-d4c2-4c74-b543-4df0d2e0494a___FREC_Pwd.M 4730_flipLR.JPG\u001b[m\n",
            "\t\u001b[31mdeleted:    inputs/cherry_leaves/cherry-leaves/validation/powdery_mildew/bfc76298-a208-4a0a-88b0-580218720055___FREC_Pwd.M 4904.JPG\u001b[m\n",
            "\t\u001b[31mdeleted:    inputs/cherry_leaves/cherry-leaves/validation/powdery_mildew/c20cdaa2-54fc-4bed-9f9e-a82495f889ea___FREC_Pwd.M 4559.JPG\u001b[m\n",
            "\t\u001b[31mdeleted:    inputs/cherry_leaves/cherry-leaves/validation/powdery_mildew/c46dfc73-a21b-4542-a4a1-18c15792d700___FREC_Pwd.M 4996_flipLR.JPG\u001b[m\n",
            "\t\u001b[31mdeleted:    inputs/cherry_leaves/cherry-leaves/validation/powdery_mildew/c48bbceb-9d7d-4793-a520-d40142ea1705___FREC_Pwd.M 0429.JPG\u001b[m\n",
            "\t\u001b[31mdeleted:    inputs/cherry_leaves/cherry-leaves/validation/powdery_mildew/c6d3f6f6-479f-41f0-adb2-6674181932f2___FREC_Pwd.M 0330_flipLR.JPG\u001b[m\n",
            "\t\u001b[31mdeleted:    inputs/cherry_leaves/cherry-leaves/validation/powdery_mildew/c820f802-f07d-4a7e-b9fd-183dacec6f0f___FREC_Pwd.M 0505_flipLR.JPG\u001b[m\n",
            "\t\u001b[31mdeleted:    inputs/cherry_leaves/cherry-leaves/validation/powdery_mildew/c8c3b247-8cec-4103-8acb-0ae5d6655cee___FREC_Pwd.M 4659.JPG\u001b[m\n",
            "\t\u001b[31mdeleted:    inputs/cherry_leaves/cherry-leaves/validation/powdery_mildew/c98fe18a-cac1-4956-8fa5-a5bac2c5c268___FREC_Pwd.M 4793_flipLR.JPG\u001b[m\n",
            "\t\u001b[31mdeleted:    inputs/cherry_leaves/cherry-leaves/validation/powdery_mildew/ca4cf94b-c1ac-494e-871a-8b9970af3ac1___FREC_Pwd.M 4835_flipLR.JPG\u001b[m\n",
            "\t\u001b[31mdeleted:    inputs/cherry_leaves/cherry-leaves/validation/powdery_mildew/ca96a7a3-f34e-4796-86b7-b2826b760002___FREC_Pwd.M 0338.JPG\u001b[m\n",
            "\t\u001b[31mdeleted:    inputs/cherry_leaves/cherry-leaves/validation/powdery_mildew/cc0b027a-d0e9-489c-97fa-017a94efd300___FREC_Pwd.M 0510_flipLR.JPG\u001b[m\n",
            "\t\u001b[31mdeleted:    inputs/cherry_leaves/cherry-leaves/validation/powdery_mildew/cda8f219-224d-4da2-a829-05384c1bb53a___FREC_Pwd.M 5012.JPG\u001b[m\n",
            "\t\u001b[31mdeleted:    inputs/cherry_leaves/cherry-leaves/validation/powdery_mildew/cda8f219-224d-4da2-a829-05384c1bb53a___FREC_Pwd.M 5012_flipLR.JPG\u001b[m\n",
            "\t\u001b[31mdeleted:    inputs/cherry_leaves/cherry-leaves/validation/powdery_mildew/cfa004d4-fb53-4ad8-ab21-9e478a2d309b___FREC_Pwd.M 5111_flipLR.JPG\u001b[m\n",
            "\t\u001b[31mdeleted:    inputs/cherry_leaves/cherry-leaves/validation/powdery_mildew/cfafb471-f8ce-4887-97c6-28363fa5164b___FREC_Pwd.M 4571_flipLR.JPG\u001b[m\n",
            "\t\u001b[31mdeleted:    inputs/cherry_leaves/cherry-leaves/validation/powdery_mildew/cfe1fe90-4871-461c-b5b3-68df83336004___FREC_Pwd.M 4918.JPG\u001b[m\n",
            "\t\u001b[31mdeleted:    inputs/cherry_leaves/cherry-leaves/validation/powdery_mildew/d016bc3b-b8e8-4012-8403-3b5cd92a91bf___FREC_Pwd.M 5023_flipLR.JPG\u001b[m\n",
            "\t\u001b[31mdeleted:    inputs/cherry_leaves/cherry-leaves/validation/powdery_mildew/d12701d9-e2d8-4647-aad4-e09f34117cc3___FREC_Pwd.M 0364_flipLR.JPG\u001b[m\n",
            "\t\u001b[31mdeleted:    inputs/cherry_leaves/cherry-leaves/validation/powdery_mildew/d1ba4536-2485-4096-a4a9-b29ee62d05d6___FREC_Pwd.M 0344.JPG\u001b[m\n",
            "\t\u001b[31mdeleted:    inputs/cherry_leaves/cherry-leaves/validation/powdery_mildew/d4433120-16d3-48da-84eb-76a8cdb2436a___FREC_Pwd.M 4875.JPG\u001b[m\n",
            "\t\u001b[31mdeleted:    inputs/cherry_leaves/cherry-leaves/validation/powdery_mildew/d5dea1b0-527d-445a-9a7c-2eae850beadc___FREC_Pwd.M 4516_flipLR.JPG\u001b[m\n",
            "\t\u001b[31mdeleted:    inputs/cherry_leaves/cherry-leaves/validation/powdery_mildew/da493dd2-8ffd-4d42-8601-621e62616683___FREC_Pwd.M 4480.JPG\u001b[m\n",
            "\t\u001b[31mdeleted:    inputs/cherry_leaves/cherry-leaves/validation/powdery_mildew/dd6a34da-d476-471e-ad72-f7ac94236416___FREC_Pwd.M 0365_flipLR.JPG\u001b[m\n",
            "\t\u001b[31mdeleted:    inputs/cherry_leaves/cherry-leaves/validation/powdery_mildew/e2858a3b-47c2-4989-b4f3-eea39e9195c3___FREC_Pwd.M 4633.JPG\u001b[m\n",
            "\t\u001b[31mdeleted:    inputs/cherry_leaves/cherry-leaves/validation/powdery_mildew/e308c527-a0a9-4c33-b469-ac05a2059b7b___FREC_Pwd.M 0552.JPG\u001b[m\n",
            "\t\u001b[31mdeleted:    inputs/cherry_leaves/cherry-leaves/validation/powdery_mildew/e394c1ec-ade0-4481-a0ae-17fea0f9a8b3___FREC_Pwd.M 4962.JPG\u001b[m\n",
            "\t\u001b[31mdeleted:    inputs/cherry_leaves/cherry-leaves/validation/powdery_mildew/e567184a-cee1-4eb4-be59-429da00b17d8___FREC_Pwd.M 4465.JPG\u001b[m\n",
            "\t\u001b[31mdeleted:    inputs/cherry_leaves/cherry-leaves/validation/powdery_mildew/e79eda22-9c31-4e34-87e1-e1c9ae2d6449___FREC_Pwd.M 4988_flipLR.JPG\u001b[m\n",
            "\t\u001b[31mdeleted:    inputs/cherry_leaves/cherry-leaves/validation/powdery_mildew/e7fe2094-95a1-40fe-ba1d-687ab0756edb___FREC_Pwd.M 0541.JPG\u001b[m\n",
            "\t\u001b[31mdeleted:    inputs/cherry_leaves/cherry-leaves/validation/powdery_mildew/e85d24e4-9a7b-42cb-95fe-d76ca9d86180___FREC_Pwd.M 4930.JPG\u001b[m\n",
            "\t\u001b[31mdeleted:    inputs/cherry_leaves/cherry-leaves/validation/powdery_mildew/ec5335a1-204b-4db7-86b2-1dec53bc4be8___FREC_Pwd.M 4638_flipLR.JPG\u001b[m\n",
            "\t\u001b[31mdeleted:    inputs/cherry_leaves/cherry-leaves/validation/powdery_mildew/ecc4e38e-409c-4495-8cb2-1efd711fc162___FREC_Pwd.M 5146.JPG\u001b[m\n",
            "\t\u001b[31mdeleted:    inputs/cherry_leaves/cherry-leaves/validation/powdery_mildew/edbf37ef-ad85-444e-81ad-e35f45282342___FREC_Pwd.M 4545_flipLR.JPG\u001b[m\n",
            "\t\u001b[31mdeleted:    inputs/cherry_leaves/cherry-leaves/validation/powdery_mildew/edfe5673-2ddd-4908-ba5f-692bf590952c___FREC_Pwd.M 4693.JPG\u001b[m\n",
            "\t\u001b[31mdeleted:    inputs/cherry_leaves/cherry-leaves/validation/powdery_mildew/ef0039cb-e261-4019-86a1-db6287829885___FREC_Pwd.M 0276_flipLR.JPG\u001b[m\n",
            "\t\u001b[31mdeleted:    inputs/cherry_leaves/cherry-leaves/validation/powdery_mildew/f05c24da-e97c-4749-afc3-cd9832428f60___FREC_Pwd.M 5028_flipLR.JPG\u001b[m\n",
            "\t\u001b[31mdeleted:    inputs/cherry_leaves/cherry-leaves/validation/powdery_mildew/f0bd1b72-eaaa-4a37-b84f-ff62bb1214f4___FREC_Pwd.M 4540.JPG\u001b[m\n",
            "\t\u001b[31mdeleted:    inputs/cherry_leaves/cherry-leaves/validation/powdery_mildew/f38f68c9-d944-4308-89f3-d77eae66da95___FREC_Pwd.M 4692.JPG\u001b[m\n",
            "\t\u001b[31mdeleted:    inputs/cherry_leaves/cherry-leaves/validation/powdery_mildew/f50f0410-32ed-4012-85ed-9a1124cf6014___FREC_Pwd.M 4688.JPG\u001b[m\n",
            "\t\u001b[31mdeleted:    inputs/cherry_leaves/cherry-leaves/validation/powdery_mildew/f5984d40-8f9d-4947-999e-7e146441e9c9___FREC_Pwd.M 4703.JPG\u001b[m\n",
            "\t\u001b[31mdeleted:    inputs/cherry_leaves/cherry-leaves/validation/powdery_mildew/f5e8d671-c487-4253-993f-42bd260e615c___FREC_Pwd.M 4958.JPG\u001b[m\n",
            "\t\u001b[31mdeleted:    inputs/cherry_leaves/cherry-leaves/validation/powdery_mildew/f7d72dfe-0b0c-44a2-96b3-fd588eb10b12___FREC_Pwd.M 0500.JPG\u001b[m\n",
            "\t\u001b[31mdeleted:    inputs/cherry_leaves/cherry-leaves/validation/powdery_mildew/f7f22a1d-718d-4b6d-ac7a-e0121d97d55e___FREC_Pwd.M 4533.JPG\u001b[m\n",
            "\t\u001b[31mdeleted:    inputs/cherry_leaves/cherry-leaves/validation/powdery_mildew/f9dfbedf-66b4-4493-9ce9-6f6aca0cb152___FREC_Pwd.M 4926_flipLR.JPG\u001b[m\n",
            "\t\u001b[31mdeleted:    inputs/cherry_leaves/cherry-leaves/validation/powdery_mildew/f9ecca4f-e052-40e9-8d79-dc04ba579ff0___FREC_Pwd.M 0404_flipLR.JPG\u001b[m\n",
            "\t\u001b[31mdeleted:    inputs/cherry_leaves/cherry-leaves/validation/powdery_mildew/fbc52151-4c04-430b-a188-a03b17d93d0d___FREC_Pwd.M 0266.JPG\u001b[m\n",
            "\t\u001b[31mdeleted:    inputs/cherry_leaves/cherry-leaves/validation/powdery_mildew/fc970b2a-101f-46d8-ba74-72fc03d0c85c___FREC_Pwd.M 4634.JPG\u001b[m\n",
            "\t\u001b[31mdeleted:    inputs/cherry_leaves/cherry-leaves/validation/powdery_mildew/fd437fb9-f319-4f40-9142-b8800bccd21e___FREC_Pwd.M 5142_flipLR.JPG\u001b[m\n",
            "\t\u001b[31mdeleted:    inputs/cherry_leaves/cherry-leaves/validation/powdery_mildew/fd8d4072-e0b3-4936-95c2-e2d6dc6d22b0___FREC_Pwd.M 0250.JPG\u001b[m\n",
            "\t\u001b[31mdeleted:    inputs/cherry_leaves/cherry-leaves/validation/powdery_mildew/fdfada36-240c-4274-afd3-fc159f236d36___FREC_Pwd.M 4831.JPG\u001b[m\n",
            "\t\u001b[31mdeleted:    inputs/cherry_leaves/cherry-leaves/validation/powdery_mildew/fe4079cc-20c7-4c71-bd2f-a07e97c8e392___FREC_Pwd.M 4511.JPG\u001b[m\n",
            "\t\u001b[31mmodified:   jupyter_notebooks/DataCollection.ipynb\u001b[m\n",
            "\t\u001b[31mdeleted:    jupyter_notebooks/Notebook_Template.ipynb\u001b[m\n",
            "\n",
            "Untracked files:\n",
            "  (use \"git add <file>...\" to include in what will be committed)\n",
            "\t\u001b[31minputs/cherry_leaves/cherry-leaves/validation/healthy/005f183c-0a73-4738-91f7-c0a0e02cd9e3___JR_HL 9679.JPG\u001b[m\n",
            "\t\u001b[31minputs/cherry_leaves/cherry-leaves/validation/healthy/02d14b15-897d-4081-8953-e7d83189cff4___JR_HL 9723.JPG\u001b[m\n",
            "\t\u001b[31minputs/cherry_leaves/cherry-leaves/validation/healthy/04585023-ef52-4b9d-9763-50318773c5d7___JR_HL 9791_180deg.JPG\u001b[m\n",
            "\t\u001b[31minputs/cherry_leaves/cherry-leaves/validation/healthy/050b598c-9105-4838-8996-101568d6941e___JR_HL 9732.JPG\u001b[m\n",
            "\t\u001b[31minputs/cherry_leaves/cherry-leaves/validation/healthy/0580bdc7-e60e-4ba9-87dc-1202e57b94aa___JR_HL 4159_flipTB.JPG\u001b[m\n",
            "\t\u001b[31minputs/cherry_leaves/cherry-leaves/validation/healthy/1075f5f1-8cfe-420a-a65d-7c3399b63f39___JR_HL 9827.JPG\u001b[m\n",
            "\t\u001b[31minputs/cherry_leaves/cherry-leaves/validation/healthy/14a60696-ce0e-4180-840e-3e7e5ebe3d48___JR_HL 4150_180deg.JPG\u001b[m\n",
            "\t\u001b[31minputs/cherry_leaves/cherry-leaves/validation/healthy/18e3c122-617d-4eea-abe5-81e910e58a3c___JR_HL 9830_180deg.JPG\u001b[m\n",
            "\t\u001b[31minputs/cherry_leaves/cherry-leaves/validation/healthy/1958f859-69e4-4360-be0f-13e5be717a2d___JR_HL 4202_180deg.JPG\u001b[m\n",
            "\t\u001b[31minputs/cherry_leaves/cherry-leaves/validation/healthy/198c3d64-e955-404c-9f95-8a19f7cb5f33___JR_HL 9527.JPG\u001b[m\n",
            "\t\u001b[31minputs/cherry_leaves/cherry-leaves/validation/healthy/1a6504f0-c1ee-40be-a789-c9399fb90eee___JR_HL 9549.JPG\u001b[m\n",
            "\t\u001b[31minputs/cherry_leaves/cherry-leaves/validation/healthy/1d191615-46d9-4aa2-92c8-781e01bfb5f5___JR_HL 3936.JPG\u001b[m\n",
            "\t\u001b[31minputs/cherry_leaves/cherry-leaves/validation/healthy/1df46278-9217-49d4-979f-a74ac2ab7d52___JR_HL 9563.JPG\u001b[m\n",
            "\t\u001b[31minputs/cherry_leaves/cherry-leaves/validation/healthy/26f3d1b1-10a5-4e25-875c-e64b391e11bc___JR_HL 4068.JPG\u001b[m\n",
            "\t\u001b[31minputs/cherry_leaves/cherry-leaves/validation/healthy/276ae5a6-460d-4a22-af95-0a4f8182610e___JR_HL 4222.JPG\u001b[m\n",
            "\t\u001b[31minputs/cherry_leaves/cherry-leaves/validation/healthy/27e87eee-b10f-4eee-a4fe-3f30561636d0___JR_HL 9577.JPG\u001b[m\n",
            "\t\u001b[31minputs/cherry_leaves/cherry-leaves/validation/healthy/2861b3da-c5e4-4aeb-8f1e-0d1861bf50c1___JR_HL 9829_flipTB.JPG\u001b[m\n",
            "\t\u001b[31minputs/cherry_leaves/cherry-leaves/validation/healthy/28dcd2d6-3ce5-447b-ac11-ef86f4e1a2f7___JR_HL 9660_180deg.JPG\u001b[m\n",
            "\t\u001b[31minputs/cherry_leaves/cherry-leaves/validation/healthy/2cf85c16-5aa1-41c8-a26d-10c7e410ccd9___JR_HL 9726.JPG\u001b[m\n",
            "\t\u001b[31minputs/cherry_leaves/cherry-leaves/validation/healthy/2ec85830-0180-46fa-878e-836da1d0d0c2___JR_HL 4322.JPG\u001b[m\n",
            "\t\u001b[31minputs/cherry_leaves/cherry-leaves/validation/healthy/2fcace57-26cb-485b-aff6-dbf4bae23ceb___JR_HL 9583.JPG\u001b[m\n",
            "\t\u001b[31minputs/cherry_leaves/cherry-leaves/validation/healthy/3234e174-67e1-47ed-9240-0d0091b5378d___JR_HL 9567_180deg.JPG\u001b[m\n",
            "\t\u001b[31minputs/cherry_leaves/cherry-leaves/validation/healthy/328813fb-93bc-4673-9eaf-dc4e243d0418___JR_HL 3933_flipTB.JPG\u001b[m\n",
            "\t\u001b[31minputs/cherry_leaves/cherry-leaves/validation/healthy/33fa5349-1348-4b48-9677-f1dfdff20474___JR_HL 3951_flipTB.JPG\u001b[m\n",
            "\t\u001b[31minputs/cherry_leaves/cherry-leaves/validation/healthy/3465ffb4-8097-454b-a471-f572fdc1da00___JR_HL 9664_180deg.JPG\u001b[m\n",
            "\t\u001b[31minputs/cherry_leaves/cherry-leaves/validation/healthy/35457722-0a92-4019-906e-5f7933f326d7___JR_HL 4056.JPG\u001b[m\n",
            "\t\u001b[31minputs/cherry_leaves/cherry-leaves/validation/healthy/36d00ba4-ce07-4c30-b5cf-416c13d22a47___JR_HL 9804.JPG\u001b[m\n",
            "\t\u001b[31minputs/cherry_leaves/cherry-leaves/validation/healthy/39d6a038-a6f1-4bff-934c-dabb4496e691___JR_HL 4008_180deg.JPG\u001b[m\n",
            "\t\u001b[31minputs/cherry_leaves/cherry-leaves/validation/healthy/3da5f01f-af6f-4e63-894c-bf135dbf6c66___JR_HL 9673.JPG\u001b[m\n",
            "\t\u001b[31minputs/cherry_leaves/cherry-leaves/validation/healthy/3f9425db-2ce5-4167-b20c-b824b0432686___JR_HL 4274.JPG\u001b[m\n",
            "\t\u001b[31minputs/cherry_leaves/cherry-leaves/validation/healthy/41f17695-d346-4824-a76d-a0f22cf6cb05___JR_HL 9700.JPG\u001b[m\n",
            "\t\u001b[31minputs/cherry_leaves/cherry-leaves/validation/healthy/41f17695-d346-4824-a76d-a0f22cf6cb05___JR_HL 9700_flipTB.JPG\u001b[m\n",
            "\t\u001b[31minputs/cherry_leaves/cherry-leaves/validation/healthy/441cc99c-82de-4529-a41b-98af64d30f01___JR_HL 9437.JPG\u001b[m\n",
            "\t\u001b[31minputs/cherry_leaves/cherry-leaves/validation/healthy/472fd482-aec7-4e73-86d1-7161f6a5024b___JR_HL 4178_180deg.JPG\u001b[m\n",
            "\t\u001b[31minputs/cherry_leaves/cherry-leaves/validation/healthy/472fd482-aec7-4e73-86d1-7161f6a5024b___JR_HL 4178_flipTB.JPG\u001b[m\n",
            "\t\u001b[31minputs/cherry_leaves/cherry-leaves/validation/healthy/484ade57-5dd0-4764-b379-5a0e684afd81___JR_HL 9580_180deg.JPG\u001b[m\n",
            "\t\u001b[31minputs/cherry_leaves/cherry-leaves/validation/healthy/484ade57-5dd0-4764-b379-5a0e684afd81___JR_HL 9580_flipTB.JPG\u001b[m\n",
            "\t\u001b[31minputs/cherry_leaves/cherry-leaves/validation/healthy/49547074-60cf-4924-b6a3-4c70baf60186___JR_HL 4189_flipTB.JPG\u001b[m\n",
            "\t\u001b[31minputs/cherry_leaves/cherry-leaves/validation/healthy/4a4c92aa-54e7-4a06-a18c-a399fcc4a649___JR_HL 4064.JPG\u001b[m\n",
            "\t\u001b[31minputs/cherry_leaves/cherry-leaves/validation/healthy/5248fd97-c794-4d16-b797-957d851da129___JR_HL 9892 copy_180deg.JPG\u001b[m\n",
            "\t\u001b[31minputs/cherry_leaves/cherry-leaves/validation/healthy/53e48eeb-608e-4660-9297-a5ff6f193e48___JR_HL 9792.JPG\u001b[m\n",
            "\t\u001b[31minputs/cherry_leaves/cherry-leaves/validation/healthy/546e460b-681e-48a3-b05f-4c9aa3a3b2b1___JR_HL 9604.JPG\u001b[m\n",
            "\t\u001b[31minputs/cherry_leaves/cherry-leaves/validation/healthy/5532a755-1cdd-4257-a188-aa8444e79f06___JR_HL 4305_180deg.JPG\u001b[m\n",
            "\t\u001b[31minputs/cherry_leaves/cherry-leaves/validation/healthy/55df59e1-73fb-4feb-8099-0b832bb3fb81___JR_HL 9754.JPG\u001b[m\n",
            "\t\u001b[31minputs/cherry_leaves/cherry-leaves/validation/healthy/55df59e1-73fb-4feb-8099-0b832bb3fb81___JR_HL 9754_180deg.JPG\u001b[m\n",
            "\t\u001b[31minputs/cherry_leaves/cherry-leaves/validation/healthy/576e04b9-0ff4-483e-bbd0-185645136964___JR_HL 9429_flipTB.JPG\u001b[m\n",
            "\t\u001b[31minputs/cherry_leaves/cherry-leaves/validation/healthy/59022c11-f4f9-425c-a5c4-3b00407a4d4b___JR_HL 4304_180deg.JPG\u001b[m\n",
            "\t\u001b[31minputs/cherry_leaves/cherry-leaves/validation/healthy/5ad606ab-2585-4e23-9f8d-bb8e6cb02a5c___JR_HL 9528.JPG\u001b[m\n",
            "\t\u001b[31minputs/cherry_leaves/cherry-leaves/validation/healthy/5f3d0eae-f30c-46b6-8611-1b524b087186___JR_HL 9602.JPG\u001b[m\n",
            "\t\u001b[31minputs/cherry_leaves/cherry-leaves/validation/healthy/601299ca-bbd1-4c0d-b9a5-f70a03803729___JR_HL 9713_180deg.JPG\u001b[m\n",
            "\t\u001b[31minputs/cherry_leaves/cherry-leaves/validation/healthy/68efa134-12ed-4417-add7-d1bd13f9f780___JR_HL 4137.JPG\u001b[m\n",
            "\t\u001b[31minputs/cherry_leaves/cherry-leaves/validation/healthy/68f0e459-0938-4988-862f-893afb413d57___JR_HL 4268_flipTB.JPG\u001b[m\n",
            "\t\u001b[31minputs/cherry_leaves/cherry-leaves/validation/healthy/69de380a-4fd8-4c50-bdff-a983495dcd8c___JR_HL 4175.JPG\u001b[m\n",
            "\t\u001b[31minputs/cherry_leaves/cherry-leaves/validation/healthy/6b986cad-78b2-4aad-a713-5dc2e87a2d1a___JR_HL 9614_180deg.JPG\u001b[m\n",
            "\t\u001b[31minputs/cherry_leaves/cherry-leaves/validation/healthy/6e146211-ac9a-4d39-bb85-1f8eb596c57d___JR_HL 4186_flipTB.JPG\u001b[m\n",
            "\t\u001b[31minputs/cherry_leaves/cherry-leaves/validation/healthy/6e825c91-1907-4ad8-8ae4-50962f2b1b15___JR_HL 9877 copy_180deg.JPG\u001b[m\n",
            "\t\u001b[31minputs/cherry_leaves/cherry-leaves/validation/healthy/6fd45eba-b725-4df2-95d0-910968d17afd___JR_HL 9449_flipTB.JPG\u001b[m\n",
            "\t\u001b[31minputs/cherry_leaves/cherry-leaves/validation/healthy/6fdf8890-145d-4390-9e9d-eb529a4abb3d___JR_HL 4252_180deg.JPG\u001b[m\n",
            "\t\u001b[31minputs/cherry_leaves/cherry-leaves/validation/healthy/71226c5a-bc1f-4257-9369-506e32147cea___JR_HL 4169_flipTB.JPG\u001b[m\n",
            "\t\u001b[31minputs/cherry_leaves/cherry-leaves/validation/healthy/73528ace-e81b-4d49-abea-1b9c395feba2___JR_HL 4184_flipTB.JPG\u001b[m\n",
            "\t\u001b[31minputs/cherry_leaves/cherry-leaves/validation/healthy/744ca065-3894-4cb9-83c2-33a6f46bbd39___JR_HL 4143.JPG\u001b[m\n",
            "\t\u001b[31minputs/cherry_leaves/cherry-leaves/validation/healthy/7570daf6-28e6-4aee-8583-209160f0cd5e___JR_HL 4139_flipTB.JPG\u001b[m\n",
            "\t\u001b[31minputs/cherry_leaves/cherry-leaves/validation/healthy/77294d28-48a7-46e9-b8c8-5a2cbfc0f927___JR_HL 4095_flipTB.JPG\u001b[m\n",
            "\t\u001b[31minputs/cherry_leaves/cherry-leaves/validation/healthy/77a60cfe-685b-43f7-954f-8f74494b1017___JR_HL 9566_180deg.JPG\u001b[m\n",
            "\t\u001b[31minputs/cherry_leaves/cherry-leaves/validation/healthy/77df2a22-77fe-4617-83c4-f37e1776e225___JR_HL 9665_180deg.JPG\u001b[m\n",
            "\t\u001b[31minputs/cherry_leaves/cherry-leaves/validation/healthy/791a7d36-49d2-4b61-8fc9-bfab404a9124___JR_HL 9456_180deg.JPG\u001b[m\n",
            "\t\u001b[31minputs/cherry_leaves/cherry-leaves/validation/healthy/792a1d2c-ec25-40b1-bb0e-1345c85574ff___JR_HL 9589.JPG\u001b[m\n",
            "\t\u001b[31minputs/cherry_leaves/cherry-leaves/validation/healthy/7d779a1c-5d0c-4a30-ba07-b2c456b11797___JR_HL 9770_180deg.JPG\u001b[m\n",
            "\t\u001b[31minputs/cherry_leaves/cherry-leaves/validation/healthy/7dbb28be-0a00-4261-b1e1-8d1bd88dfe0f___JR_HL 9696.JPG\u001b[m\n",
            "\t\u001b[31minputs/cherry_leaves/cherry-leaves/validation/healthy/7f127004-56f7-4f16-a34f-9d5cbaaa9f8e___JR_HL 4041_flipTB.JPG\u001b[m\n",
            "\t\u001b[31minputs/cherry_leaves/cherry-leaves/validation/healthy/801b35a7-86f6-4b0e-a5f0-dfc4d8031004___JR_HL 9790.JPG\u001b[m\n",
            "\t\u001b[31minputs/cherry_leaves/cherry-leaves/validation/healthy/8236091f-890d-4af4-995c-e4a259904d5d___JR_HL 9701_180deg.JPG\u001b[m\n",
            "\t\u001b[31minputs/cherry_leaves/cherry-leaves/validation/healthy/85cfbde6-c86e-487a-8a6f-c8d2db72d9af___JR_HL 9888.JPG\u001b[m\n",
            "\t\u001b[31minputs/cherry_leaves/cherry-leaves/validation/healthy/85cfbde6-c86e-487a-8a6f-c8d2db72d9af___JR_HL 9888_flipTB.JPG\u001b[m\n",
            "\t\u001b[31minputs/cherry_leaves/cherry-leaves/validation/healthy/8703335b-e747-4283-b57e-8467f17fa744___JR_HL 9585.JPG\u001b[m\n",
            "\t\u001b[31minputs/cherry_leaves/cherry-leaves/validation/healthy/871dddc4-1a16-4ad6-9990-301fed42974f___JR_HL 4223.JPG\u001b[m\n",
            "\t\u001b[31minputs/cherry_leaves/cherry-leaves/validation/healthy/88fd947e-a850-4e0c-9dff-8984478b04e1___JR_HL 3984.JPG\u001b[m\n",
            "\t\u001b[31minputs/cherry_leaves/cherry-leaves/validation/healthy/88fd947e-a850-4e0c-9dff-8984478b04e1___JR_HL 3984_180deg.JPG\u001b[m\n",
            "\t\u001b[31minputs/cherry_leaves/cherry-leaves/validation/healthy/8959bcbf-278b-4eef-b255-605e0e082cb5___JR_HL 4210_180deg.JPG\u001b[m\n",
            "\t\u001b[31minputs/cherry_leaves/cherry-leaves/validation/healthy/8c1abb7e-703e-4c23-9e3e-d2893b8abe3a___JR_HL 4048_180deg.JPG\u001b[m\n",
            "\t\u001b[31minputs/cherry_leaves/cherry-leaves/validation/healthy/8c564a28-4d4c-49b7-a28d-a5e41ff8e205___JR_HL 9531_180deg.JPG\u001b[m\n",
            "\t\u001b[31minputs/cherry_leaves/cherry-leaves/validation/healthy/90546341-6ac6-434c-8cb4-ec2e1a0e515e___JR_HL 9448_180deg.JPG\u001b[m\n",
            "\t\u001b[31minputs/cherry_leaves/cherry-leaves/validation/healthy/90546341-6ac6-434c-8cb4-ec2e1a0e515e___JR_HL 9448_flipTB.JPG\u001b[m\n",
            "\t\u001b[31minputs/cherry_leaves/cherry-leaves/validation/healthy/90f22e39-5ee0-4973-ae80-ef987d05990a___JR_HL 4085_flipTB.JPG\u001b[m\n",
            "\t\u001b[31minputs/cherry_leaves/cherry-leaves/validation/healthy/914024a5-989c-46b2-83bb-5fe06421eb8b___JR_HL 9524_180deg.JPG\u001b[m\n",
            "\t\u001b[31minputs/cherry_leaves/cherry-leaves/validation/healthy/9157434b-8dce-4726-9187-1911302312b9___JR_HL 4053_flipTB.JPG\u001b[m\n",
            "\t\u001b[31minputs/cherry_leaves/cherry-leaves/validation/healthy/91877ab2-d8bb-4743-815a-6e55e833b3b9___JR_HL 4310_180deg.JPG\u001b[m\n",
            "\t\u001b[31minputs/cherry_leaves/cherry-leaves/validation/healthy/921bd8b0-115a-4bc2-88a9-63955ab2e35a___JR_HL 9816_flipTB.JPG\u001b[m\n",
            "\t\u001b[31minputs/cherry_leaves/cherry-leaves/validation/healthy/92be7b5a-371b-4b99-970b-34f1b263552f___JR_HL 9469_flipTB.JPG\u001b[m\n",
            "\t\u001b[31minputs/cherry_leaves/cherry-leaves/validation/healthy/92da1286-a52e-4ceb-bb92-2a6eba988a14___JR_HL 4177_180deg.JPG\u001b[m\n",
            "\t\u001b[31minputs/cherry_leaves/cherry-leaves/validation/healthy/936e1c64-1bc1-47c7-9cca-49bedf2682d6___JR_HL 3947_180deg.JPG\u001b[m\n",
            "\t\u001b[31minputs/cherry_leaves/cherry-leaves/validation/healthy/95125eed-3181-4ecc-ac92-f20a98eca071___JR_HL 3992.JPG\u001b[m\n",
            "\t\u001b[31minputs/cherry_leaves/cherry-leaves/validation/healthy/9711cd2a-25f1-4e08-bb70-b5443d2ed94e___JR_HL 9432_flipTB.JPG\u001b[m\n",
            "\t\u001b[31minputs/cherry_leaves/cherry-leaves/validation/healthy/9af553ae-5150-4736-bfd9-82173b911272___JR_HL 9619_180deg.JPG\u001b[m\n",
            "\t\u001b[31minputs/cherry_leaves/cherry-leaves/validation/healthy/9af553ae-5150-4736-bfd9-82173b911272___JR_HL 9619_flipTB.JPG\u001b[m\n",
            "\t\u001b[31minputs/cherry_leaves/cherry-leaves/validation/healthy/9d9363f1-b9cc-4c44-8225-aa6734763c3c___JR_HL 9579_flipTB.JPG\u001b[m\n",
            "\t\u001b[31minputs/cherry_leaves/cherry-leaves/validation/healthy/9e159df4-2951-459d-850a-bd822b9faf9b___JR_HL 4023.JPG\u001b[m\n",
            "\t\u001b[31minputs/cherry_leaves/cherry-leaves/validation/healthy/a02b4505-3eca-4e10-bed7-4988f600ac27___JR_HL 9769_180deg.JPG\u001b[m\n",
            "\t\u001b[31minputs/cherry_leaves/cherry-leaves/validation/healthy/a0816ba7-dc4a-432a-85fc-79d2aa1b8f96___JR_HL 4047.JPG\u001b[m\n",
            "\t\u001b[31minputs/cherry_leaves/cherry-leaves/validation/healthy/a0b4d7a4-947b-4ca7-9984-88da24f41390___JR_HL 9468.JPG\u001b[m\n",
            "\t\u001b[31minputs/cherry_leaves/cherry-leaves/validation/healthy/a0b4d7a4-947b-4ca7-9984-88da24f41390___JR_HL 9468_180deg.JPG\u001b[m\n",
            "\t\u001b[31minputs/cherry_leaves/cherry-leaves/validation/healthy/a1aa7963-d10f-429f-8265-d4d4e5b97b9b___JR_HL 9689_180deg.JPG\u001b[m\n",
            "\t\u001b[31minputs/cherry_leaves/cherry-leaves/validation/healthy/a3a50495-2372-42b4-b57c-c3b80cfacfaa___JR_HL 4313.JPG\u001b[m\n",
            "\t\u001b[31minputs/cherry_leaves/cherry-leaves/validation/healthy/a3a50495-2372-42b4-b57c-c3b80cfacfaa___JR_HL 4313_flipTB.JPG\u001b[m\n",
            "\t\u001b[31minputs/cherry_leaves/cherry-leaves/validation/healthy/a46afcb8-ce3a-4583-aa94-ad5ea4c66ab0___JR_HL 4102_flipTB.JPG\u001b[m\n",
            "\t\u001b[31minputs/cherry_leaves/cherry-leaves/validation/healthy/a55d7cbf-498c-4392-b6a0-14f7f0f74a3b___JR_HL 9578_180deg.JPG\u001b[m\n",
            "\t\u001b[31minputs/cherry_leaves/cherry-leaves/validation/healthy/a5aafeac-4d2f-4bd2-835e-79506ec7e458___JR_HL 4228.JPG\u001b[m\n",
            "\t\u001b[31minputs/cherry_leaves/cherry-leaves/validation/healthy/a86c3594-fe38-4647-9642-0695ce9ec40e___JR_HL 9688_180deg.JPG\u001b[m\n",
            "\t\u001b[31minputs/cherry_leaves/cherry-leaves/validation/healthy/a88cb1e2-0b5b-43ea-9a20-c09951e0a67c___JR_HL 9620_flipTB.JPG\u001b[m\n",
            "\t\u001b[31minputs/cherry_leaves/cherry-leaves/validation/healthy/a97e7cd1-52ee-49fa-a352-f424d8ad6c8f___JR_HL 9529.JPG\u001b[m\n",
            "\t\u001b[31minputs/cherry_leaves/cherry-leaves/validation/healthy/a97e7cd1-52ee-49fa-a352-f424d8ad6c8f___JR_HL 9529_flipTB.JPG\u001b[m\n",
            "\t\u001b[31minputs/cherry_leaves/cherry-leaves/validation/healthy/af0a0059-222f-4991-94da-a4501a9d3c50___JR_HL 9533_180deg.JPG\u001b[m\n",
            "\t\u001b[31minputs/cherry_leaves/cherry-leaves/validation/healthy/af85c82e-b339-437d-a443-f13ee6194cb5___JR_HL 4321_flipTB.JPG\u001b[m\n",
            "\t\u001b[31minputs/cherry_leaves/cherry-leaves/validation/healthy/afc512c4-c782-4350-85d3-fa26046950a3___JR_HL 9764.JPG\u001b[m\n",
            "\t\u001b[31minputs/cherry_leaves/cherry-leaves/validation/healthy/afc512c4-c782-4350-85d3-fa26046950a3___JR_HL 9764_180deg.JPG\u001b[m\n",
            "\t\u001b[31minputs/cherry_leaves/cherry-leaves/validation/healthy/b0290c25-c7fe-4202-a827-ae79eb4f4ef8___JR_HL 3998.JPG\u001b[m\n",
            "\t\u001b[31minputs/cherry_leaves/cherry-leaves/validation/healthy/b101d58c-2db2-413a-b37e-cba6a8a1415a___JR_HL 4224.JPG\u001b[m\n",
            "\t\u001b[31minputs/cherry_leaves/cherry-leaves/validation/healthy/b101d58c-2db2-413a-b37e-cba6a8a1415a___JR_HL 4224_180deg.JPG\u001b[m\n",
            "\t\u001b[31minputs/cherry_leaves/cherry-leaves/validation/healthy/b180133a-d29f-46a0-a1a5-a56199f62091___JR_HL 4162_180deg.JPG\u001b[m\n",
            "\t\u001b[31minputs/cherry_leaves/cherry-leaves/validation/healthy/b1f2ebdb-4e50-4365-92e3-29dfaf7e759a___JR_HL 4011_flipTB.JPG\u001b[m\n",
            "\t\u001b[31minputs/cherry_leaves/cherry-leaves/validation/healthy/b570727c-3764-46cd-b128-d29353da1b9d___JR_HL 4024.JPG\u001b[m\n",
            "\t\u001b[31minputs/cherry_leaves/cherry-leaves/validation/healthy/b6366199-b01d-439a-a457-25901712cad2___JR_HL 9812.JPG\u001b[m\n",
            "\t\u001b[31minputs/cherry_leaves/cherry-leaves/validation/healthy/b699f89c-87a3-4793-a721-60040fc42c4d___JR_HL 9659_flipTB.JPG\u001b[m\n",
            "\t\u001b[31minputs/cherry_leaves/cherry-leaves/validation/healthy/b6cf71f9-4a4c-45c6-94cb-9d014c43bc45___JR_HL 4296_180deg.JPG\u001b[m\n",
            "\t\u001b[31minputs/cherry_leaves/cherry-leaves/validation/healthy/b7b1918d-d608-4aa0-9990-f0ff9a90b414___JR_HL 4144_180deg.JPG\u001b[m\n",
            "\t\u001b[31minputs/cherry_leaves/cherry-leaves/validation/healthy/b8b81fac-673a-4f90-849e-b1fa9cd255df___JR_HL 4060_flipTB.JPG\u001b[m\n",
            "\t\u001b[31minputs/cherry_leaves/cherry-leaves/validation/healthy/ba608f02-a6ab-4944-86a6-3ef5b2d4aa1b___JR_HL 9502.JPG\u001b[m\n",
            "\t\u001b[31minputs/cherry_leaves/cherry-leaves/validation/healthy/ba608f02-a6ab-4944-86a6-3ef5b2d4aa1b___JR_HL 9502_180deg.JPG\u001b[m\n",
            "\t\u001b[31minputs/cherry_leaves/cherry-leaves/validation/healthy/bbf21e80-e21f-4dcb-a3ae-de05529960ef___JR_HL 9526.JPG\u001b[m\n",
            "\t\u001b[31minputs/cherry_leaves/cherry-leaves/validation/healthy/c0975993-8fad-45eb-a080-77461fea87c6___JR_HL 9559_flipTB.JPG\u001b[m\n",
            "\t\u001b[31minputs/cherry_leaves/cherry-leaves/validation/healthy/c121389d-5aa7-4cb9-a76c-39b2278f9dc0___JR_HL 9839_flipTB.JPG\u001b[m\n",
            "\t\u001b[31minputs/cherry_leaves/cherry-leaves/validation/healthy/c36d1d7a-7e76-4be2-a637-e544f8210db8___JR_HL 9680_180deg.JPG\u001b[m\n",
            "\t\u001b[31minputs/cherry_leaves/cherry-leaves/validation/healthy/c376780a-87fa-4d3b-851c-ee98da3d6950___JR_HL 9430_180deg.JPG\u001b[m\n",
            "\t\u001b[31minputs/cherry_leaves/cherry-leaves/validation/healthy/c4a9900b-1227-4e73-b9b1-9e9ed037d6b3___JR_HL 4094.JPG\u001b[m\n",
            "\t\u001b[31minputs/cherry_leaves/cherry-leaves/validation/healthy/c4d080c7-e9be-4be6-a91c-290992c2cac0___JR_HL 9801_180deg.JPG\u001b[m\n",
            "\t\u001b[31minputs/cherry_leaves/cherry-leaves/validation/healthy/c655f45b-4c63-406c-8f6e-e3c4f9e85b06___JR_HL 9870_flipTB.JPG\u001b[m\n",
            "\t\u001b[31minputs/cherry_leaves/cherry-leaves/validation/healthy/c89bc3c2-97d5-4e38-a090-3ba121a17adf___JR_HL 4179_180deg.JPG\u001b[m\n",
            "\t\u001b[31minputs/cherry_leaves/cherry-leaves/validation/healthy/c9c77d66-5410-4974-be51-16a22f16a1e7___JR_HL 3995.JPG\u001b[m\n",
            "\t\u001b[31minputs/cherry_leaves/cherry-leaves/validation/healthy/cc04b27c-e092-4e11-92e6-44a9589ec04e___JR_HL 4183_180deg.JPG\u001b[m\n",
            "\t\u001b[31minputs/cherry_leaves/cherry-leaves/validation/healthy/cf616072-4062-498e-b524-a1705681351f___JR_HL 9868.JPG\u001b[m\n",
            "\t\u001b[31minputs/cherry_leaves/cherry-leaves/validation/healthy/d1a34701-e731-4002-ba7b-84da2ebf12ad___JR_HL 4148.JPG\u001b[m\n",
            "\t\u001b[31minputs/cherry_leaves/cherry-leaves/validation/healthy/d1a34701-e731-4002-ba7b-84da2ebf12ad___JR_HL 4148_180deg.JPG\u001b[m\n",
            "\t\u001b[31minputs/cherry_leaves/cherry-leaves/validation/healthy/d1c378ef-57e4-4ebc-b3f2-e34f6b2441d2___JR_HL 4098_180deg.JPG\u001b[m\n",
            "\t\u001b[31minputs/cherry_leaves/cherry-leaves/validation/healthy/d2407963-3cdb-44a8-afba-29cfd51ceec5___JR_HL 4316_flipTB.JPG\u001b[m\n",
            "\t\u001b[31minputs/cherry_leaves/cherry-leaves/validation/healthy/d259c188-0c17-4199-aac1-5399903f74a3___JR_HL 4100_flipTB.JPG\u001b[m\n",
            "\t\u001b[31minputs/cherry_leaves/cherry-leaves/validation/healthy/d2fad1d0-4bcc-4617-8be6-5d07a56e1483___JR_HL 9747_flipTB.JPG\u001b[m\n",
            "\t\u001b[31minputs/cherry_leaves/cherry-leaves/validation/healthy/d488e8a6-948b-4805-9852-1a1825890e04___JR_HL 9554_180deg.JPG\u001b[m\n",
            "\t\u001b[31minputs/cherry_leaves/cherry-leaves/validation/healthy/d52ec829-6e6c-41d4-9cdb-a8d7ea14f530___JR_HL 4038_flipTB.JPG\u001b[m\n",
            "\t\u001b[31minputs/cherry_leaves/cherry-leaves/validation/healthy/d5f88826-21b5-47ec-83bc-930de228ffc8___JR_HL 9808.JPG\u001b[m\n",
            "\t\u001b[31minputs/cherry_leaves/cherry-leaves/validation/healthy/d63ff958-ad62-4c9d-9712-6a99d1de1e2e___JR_HL 4090_flipTB.JPG\u001b[m\n",
            "\t\u001b[31minputs/cherry_leaves/cherry-leaves/validation/healthy/d949b740-17da-4264-90a2-561c41ca9d65___JR_HL 9712_180deg.JPG\u001b[m\n",
            "\t\u001b[31minputs/cherry_leaves/cherry-leaves/validation/healthy/d949b740-17da-4264-90a2-561c41ca9d65___JR_HL 9712_flipTB.JPG\u001b[m\n",
            "\t\u001b[31minputs/cherry_leaves/cherry-leaves/validation/healthy/d9ffa906-ca86-4a23-bf43-033c6270e05f___JR_HL 4280.JPG\u001b[m\n",
            "\t\u001b[31minputs/cherry_leaves/cherry-leaves/validation/healthy/d9ffa906-ca86-4a23-bf43-033c6270e05f___JR_HL 4280_180deg.JPG\u001b[m\n",
            "\t\u001b[31minputs/cherry_leaves/cherry-leaves/validation/healthy/da28d492-ed69-4c2f-8359-2242b7e7e3f5___JR_HL 9848.JPG\u001b[m\n",
            "\t\u001b[31minputs/cherry_leaves/cherry-leaves/validation/healthy/daaf49b5-413b-4dca-ab0e-ecd772d8b909___JR_HL 9454_180deg.JPG\u001b[m\n",
            "\t\u001b[31minputs/cherry_leaves/cherry-leaves/validation/healthy/db266952-0e00-4f77-932a-546a25524b63___JR_HL 9843_flipTB.JPG\u001b[m\n",
            "\t\u001b[31minputs/cherry_leaves/cherry-leaves/validation/healthy/db2c8b52-1f7d-4bb7-8cf1-81f241091122___JR_HL 9881.JPG\u001b[m\n",
            "\t\u001b[31minputs/cherry_leaves/cherry-leaves/validation/healthy/de0c82bd-2a79-47e0-8b46-e6ea9afe129c___JR_HL 9691_180deg.JPG\u001b[m\n",
            "\t\u001b[31minputs/cherry_leaves/cherry-leaves/validation/healthy/de350ce9-21b8-4b1f-a5ff-767eac8ba8f2___JR_HL 4136.JPG\u001b[m\n",
            "\t\u001b[31minputs/cherry_leaves/cherry-leaves/validation/healthy/de350ce9-21b8-4b1f-a5ff-767eac8ba8f2___JR_HL 4136_flipTB.JPG\u001b[m\n",
            "\t\u001b[31minputs/cherry_leaves/cherry-leaves/validation/healthy/dea36f42-614d-4f0e-a3c5-d1450a34f88d___JR_HL 4318_flipTB.JPG\u001b[m\n",
            "\t\u001b[31minputs/cherry_leaves/cherry-leaves/validation/healthy/defa124c-873c-4a35-92d1-28a2dc137957___JR_HL 9532_180deg.JPG\u001b[m\n",
            "\t\u001b[31minputs/cherry_leaves/cherry-leaves/validation/healthy/e1143f8b-b94a-4e87-8d2f-235bc9e82eed___JR_HL 9821_flipTB.JPG\u001b[m\n",
            "\t\u001b[31minputs/cherry_leaves/cherry-leaves/validation/healthy/e39b1acb-977d-4757-95c2-ed6efc5b099b___JR_HL 3926_flipTB.JPG\u001b[m\n",
            "\t\u001b[31minputs/cherry_leaves/cherry-leaves/validation/healthy/e3d7e13a-d565-4d9e-8a81-ff09e1f619ad___JR_HL 9863_180deg.JPG\u001b[m\n",
            "\t\u001b[31minputs/cherry_leaves/cherry-leaves/validation/healthy/e4a4adf6-5ad5-420f-bab7-64812af0ac2d___JR_HL 3977.JPG\u001b[m\n",
            "\t\u001b[31minputs/cherry_leaves/cherry-leaves/validation/healthy/e4a4adf6-5ad5-420f-bab7-64812af0ac2d___JR_HL 3977_180deg.JPG\u001b[m\n",
            "\t\u001b[31minputs/cherry_leaves/cherry-leaves/validation/healthy/e58b547e-5bad-4ee3-aadb-d8a7e06d3a41___JR_HL 9569_flipTB.JPG\u001b[m\n",
            "\t\u001b[31minputs/cherry_leaves/cherry-leaves/validation/healthy/e68b0372-4f11-4706-8473-9e99aec160ce___JR_HL 9434_flipTB.JPG\u001b[m\n",
            "\t\u001b[31minputs/cherry_leaves/cherry-leaves/validation/healthy/e8603072-d743-4b79-a882-3699649ffff4___JR_HL 9753_180deg.JPG\u001b[m\n",
            "\t\u001b[31minputs/cherry_leaves/cherry-leaves/validation/healthy/e8982035-5247-4ff7-838f-24a9455894af___JR_HL 4242_180deg.JPG\u001b[m\n",
            "\t\u001b[31minputs/cherry_leaves/cherry-leaves/validation/healthy/e8a50fe1-fe8c-41cf-976f-6c59b6413a26___JR_HL 9553.JPG\u001b[m\n",
            "\t\u001b[31minputs/cherry_leaves/cherry-leaves/validation/healthy/ea747458-cad6-409a-8de1-8fc2d5d83c25___JR_HL 9793.JPG\u001b[m\n",
            "\t\u001b[31minputs/cherry_leaves/cherry-leaves/validation/healthy/ea80c972-f1d3-43d5-86e1-8782988c6d02___JR_HL 9695_flipTB.JPG\u001b[m\n",
            "\t\u001b[31minputs/cherry_leaves/cherry-leaves/validation/healthy/eafefde7-3a21-4a76-bd73-1d20d6eee535___JR_HL 9628_180deg.JPG\u001b[m\n",
            "\t\u001b[31minputs/cherry_leaves/cherry-leaves/validation/healthy/ecbbb8dc-05c9-479d-9014-2278ad4df5fe___JR_HL 9666.JPG\u001b[m\n",
            "\t\u001b[31minputs/cherry_leaves/cherry-leaves/validation/healthy/ecf3ae61-8dea-41ee-838d-818507405409___JR_HL 9470_180deg.JPG\u001b[m\n",
            "\t\u001b[31minputs/cherry_leaves/cherry-leaves/validation/powdery_mildew/03132cd9-1649-4de0-aa41-de6eb60d4878___FREC_Pwd.M 0372_flipLR.JPG\u001b[m\n",
            "\t\u001b[31minputs/cherry_leaves/cherry-leaves/validation/powdery_mildew/0325a93a-4fa1-4eae-a6a9-fc6baa82ca7f___FREC_Pwd.M 0434_flipLR.JPG\u001b[m\n",
            "\t\u001b[31minputs/cherry_leaves/cherry-leaves/validation/powdery_mildew/04e83ad6-5456-4b00-a293-5537b708950c___FREC_Pwd.M 4928_flipLR.JPG\u001b[m\n",
            "\t\u001b[31minputs/cherry_leaves/cherry-leaves/validation/powdery_mildew/078c2573-e637-4aad-b806-abb59d784132___FREC_Pwd.M 4784_flipLR.JPG\u001b[m\n",
            "\t\u001b[31minputs/cherry_leaves/cherry-leaves/validation/powdery_mildew/085f167e-2fef-46e1-8518-ca4e555b59a3___FREC_Pwd.M 4488_flipLR.JPG\u001b[m\n",
            "\t\u001b[31minputs/cherry_leaves/cherry-leaves/validation/powdery_mildew/093d5f5b-f724-457e-b354-7f74b07cba64___FREC_Pwd.M 5078_flipLR.JPG\u001b[m\n",
            "\t\u001b[31minputs/cherry_leaves/cherry-leaves/validation/powdery_mildew/0ac12d2d-a98c-4e25-b715-94e7579a98f1___FREC_Pwd.M 4887.JPG\u001b[m\n",
            "\t\u001b[31minputs/cherry_leaves/cherry-leaves/validation/powdery_mildew/0b6b9fbc-9c62-4be9-bfc2-ff3126de6458___FREC_Pwd.M 0459_flipLR.JPG\u001b[m\n",
            "\t\u001b[31minputs/cherry_leaves/cherry-leaves/validation/powdery_mildew/0c477c6e-29a6-44a1-8c99-6f19f864f73e___FREC_Pwd.M 5112.JPG\u001b[m\n",
            "\t\u001b[31minputs/cherry_leaves/cherry-leaves/validation/powdery_mildew/0d20bb6d-798a-4c82-8aea-8d64bd1a086b___FREC_Pwd.M 4761_flipLR.JPG\u001b[m\n",
            "\t\u001b[31minputs/cherry_leaves/cherry-leaves/validation/powdery_mildew/0e95f40f-89aa-40b2-86a6-8e82b7d05bfc___FREC_Pwd.M 0297_flipLR.JPG\u001b[m\n",
            "\t\u001b[31minputs/cherry_leaves/cherry-leaves/validation/powdery_mildew/0fe7c76c-cc34-4b75-b254-45c62cbab52a___FREC_Pwd.M 4783_flipLR.JPG\u001b[m\n",
            "\t\u001b[31minputs/cherry_leaves/cherry-leaves/validation/powdery_mildew/10defdf7-7522-4d15-b65a-b6477e950b04___FREC_Pwd.M 4971_flipLR.JPG\u001b[m\n",
            "\t\u001b[31minputs/cherry_leaves/cherry-leaves/validation/powdery_mildew/11134918-12d8-465d-a7a3-20f0b3966979___FREC_Pwd.M 4957.JPG\u001b[m\n",
            "\t\u001b[31minputs/cherry_leaves/cherry-leaves/validation/powdery_mildew/112567fd-5046-4328-80f1-f33e01f76cbf___FREC_Pwd.M 5038_flipLR.JPG\u001b[m\n",
            "\t\u001b[31minputs/cherry_leaves/cherry-leaves/validation/powdery_mildew/11afdbd5-eecf-4f56-a1a7-a63ce9aa3a3a___FREC_Pwd.M 5032.JPG\u001b[m\n",
            "\t\u001b[31minputs/cherry_leaves/cherry-leaves/validation/powdery_mildew/11afdbd5-eecf-4f56-a1a7-a63ce9aa3a3a___FREC_Pwd.M 5032_flipLR.JPG\u001b[m\n",
            "\t\u001b[31minputs/cherry_leaves/cherry-leaves/validation/powdery_mildew/14a8011a-830d-4c51-a502-52e6873b0d7e___FREC_Pwd.M 4723_flipLR.JPG\u001b[m\n",
            "\t\u001b[31minputs/cherry_leaves/cherry-leaves/validation/powdery_mildew/167d6c02-d49c-4571-b9b8-6d77be09dfb4___FREC_Pwd.M 0256.JPG\u001b[m\n",
            "\t\u001b[31minputs/cherry_leaves/cherry-leaves/validation/powdery_mildew/17512756-a606-4ea5-9443-aae374a46e86___FREC_Pwd.M 0504_flipLR.JPG\u001b[m\n",
            "\t\u001b[31minputs/cherry_leaves/cherry-leaves/validation/powdery_mildew/1877b54d-3240-4f43-a441-fb3a50514b5b___FREC_Pwd.M 4876_flipLR.JPG\u001b[m\n",
            "\t\u001b[31minputs/cherry_leaves/cherry-leaves/validation/powdery_mildew/1a6892ee-0f34-475b-b11b-5fc26de6b6d6___FREC_Pwd.M 5041.JPG\u001b[m\n",
            "\t\u001b[31minputs/cherry_leaves/cherry-leaves/validation/powdery_mildew/1c129f29-63c1-4d17-8df9-191551142f0b___FREC_Pwd.M 4910.JPG\u001b[m\n",
            "\t\u001b[31minputs/cherry_leaves/cherry-leaves/validation/powdery_mildew/1d792544-0c6e-4d7c-b61f-a4a9e034e630___FREC_Pwd.M 0358.JPG\u001b[m\n",
            "\t\u001b[31minputs/cherry_leaves/cherry-leaves/validation/powdery_mildew/1ef6c65c-a1d5-48a0-8252-31cddc3eda45___FREC_Pwd.M 0581_flipLR.JPG\u001b[m\n",
            "\t\u001b[31minputs/cherry_leaves/cherry-leaves/validation/powdery_mildew/1f58631e-fd2c-4a0f-8cea-bc8a9feee0eb___FREC_Pwd.M 0285.JPG\u001b[m\n",
            "\t\u001b[31minputs/cherry_leaves/cherry-leaves/validation/powdery_mildew/20eb5eb7-f33c-4e22-bb64-41656c02f1ae___FREC_Pwd.M 4986_flipLR.JPG\u001b[m\n",
            "\t\u001b[31minputs/cherry_leaves/cherry-leaves/validation/powdery_mildew/21c25748-40c8-4d89-82fb-45c0607b2bd1___FREC_Pwd.M 4890_flipLR.JPG\u001b[m\n",
            "\t\u001b[31minputs/cherry_leaves/cherry-leaves/validation/powdery_mildew/22e426ba-5abc-4c1c-85fb-00a603b378f7___FREC_Pwd.M 0560.JPG\u001b[m\n",
            "\t\u001b[31minputs/cherry_leaves/cherry-leaves/validation/powdery_mildew/23572444-7b88-4f2d-8178-d825b8d3f939___FREC_Pwd.M 0591_flipLR.JPG\u001b[m\n",
            "\t\u001b[31minputs/cherry_leaves/cherry-leaves/validation/powdery_mildew/24933275-9337-474d-b6ce-c372b58dbc7f___FREC_Pwd.M 0430_flipLR.JPG\u001b[m\n",
            "\t\u001b[31minputs/cherry_leaves/cherry-leaves/validation/powdery_mildew/26f784f0-b392-4075-9865-055e845e9170___FREC_Pwd.M 4473_flipLR.JPG\u001b[m\n",
            "\t\u001b[31minputs/cherry_leaves/cherry-leaves/validation/powdery_mildew/29533f16-ecd8-4813-9aef-183c0caff693___FREC_Pwd.M 4855_flipLR.JPG\u001b[m\n",
            "\t\u001b[31minputs/cherry_leaves/cherry-leaves/validation/powdery_mildew/2a47f1fa-4127-4f76-b1d3-00651dc680f1___FREC_Pwd.M 4848_flipLR.JPG\u001b[m\n",
            "\t\u001b[31minputs/cherry_leaves/cherry-leaves/validation/powdery_mildew/2dcb0928-493c-48c4-ac4f-3606f35564b8___FREC_Pwd.M 5005.JPG\u001b[m\n",
            "\t\u001b[31minputs/cherry_leaves/cherry-leaves/validation/powdery_mildew/31a54a72-3f8a-4b00-b283-7b8b20d72234___FREC_Pwd.M 4685_flipLR.JPG\u001b[m\n",
            "\t\u001b[31minputs/cherry_leaves/cherry-leaves/validation/powdery_mildew/31e0b236-bd92-4020-976d-520cdff0e28b___FREC_Pwd.M 5066.JPG\u001b[m\n",
            "\t\u001b[31minputs/cherry_leaves/cherry-leaves/validation/powdery_mildew/327470f8-b708-4976-b2fa-873da3ef6b39___FREC_Pwd.M 0319.JPG\u001b[m\n",
            "\t\u001b[31minputs/cherry_leaves/cherry-leaves/validation/powdery_mildew/356ef788-2518-4519-8df0-c92c41cb8249___FREC_Pwd.M 5104.JPG\u001b[m\n",
            "\t\u001b[31minputs/cherry_leaves/cherry-leaves/validation/powdery_mildew/35b90fdd-38f4-44b5-ad59-16812595024e___FREC_Pwd.M 4575_flipLR.JPG\u001b[m\n",
            "\t\u001b[31minputs/cherry_leaves/cherry-leaves/validation/powdery_mildew/37d9fccc-2d35-48c0-be73-f56b5a1e7665___FREC_Pwd.M 0303_flipLR.JPG\u001b[m\n",
            "\t\u001b[31minputs/cherry_leaves/cherry-leaves/validation/powdery_mildew/3889d54c-d40e-4663-bef0-d2df478ee413___FREC_Pwd.M 0374.JPG\u001b[m\n",
            "\t\u001b[31minputs/cherry_leaves/cherry-leaves/validation/powdery_mildew/3928d15a-b841-4524-a5be-b34546c358f2___FREC_Pwd.M 0324.JPG\u001b[m\n",
            "\t\u001b[31minputs/cherry_leaves/cherry-leaves/validation/powdery_mildew/3b29c5d1-5a66-421c-974c-38c604b918ae___FREC_Pwd.M 5030_flipLR.JPG\u001b[m\n",
            "\t\u001b[31minputs/cherry_leaves/cherry-leaves/validation/powdery_mildew/405685ad-41e4-4bca-b1ca-f7464141c46e___FREC_Pwd.M 0321_flipLR.JPG\u001b[m\n",
            "\t\u001b[31minputs/cherry_leaves/cherry-leaves/validation/powdery_mildew/41113e0d-2d3c-4f71-bbf7-d9310ed23b5e___FREC_Pwd.M 4775.JPG\u001b[m\n",
            "\t\u001b[31minputs/cherry_leaves/cherry-leaves/validation/powdery_mildew/4288e46f-623e-4585-9740-1e916d1a13a7___FREC_Pwd.M 4734.JPG\u001b[m\n",
            "\t\u001b[31minputs/cherry_leaves/cherry-leaves/validation/powdery_mildew/486df68c-c24c-4ab0-87b0-6e79a8435ce8___FREC_Pwd.M 0399_flipLR.JPG\u001b[m\n",
            "\t\u001b[31minputs/cherry_leaves/cherry-leaves/validation/powdery_mildew/49008a5d-9ba2-4291-ad7a-93c8bc72b4b2___FREC_Pwd.M 0463.JPG\u001b[m\n",
            "\t\u001b[31minputs/cherry_leaves/cherry-leaves/validation/powdery_mildew/4b177f1c-adfe-4a47-8c95-f03d5ffac8f3___FREC_Pwd.M 4847_flipLR.JPG\u001b[m\n",
            "\t\u001b[31minputs/cherry_leaves/cherry-leaves/validation/powdery_mildew/4b2f2df6-06e4-46c2-9c45-268ddbea8477___FREC_Pwd.M 0375.JPG\u001b[m\n",
            "\t\u001b[31minputs/cherry_leaves/cherry-leaves/validation/powdery_mildew/4b402153-97b6-4d4b-bb3e-b287349d7d41___FREC_Pwd.M 5025_flipLR.JPG\u001b[m\n",
            "\t\u001b[31minputs/cherry_leaves/cherry-leaves/validation/powdery_mildew/4d2cc486-e10c-453c-a095-9b7eb48790a8___FREC_Pwd.M 0415_flipLR.JPG\u001b[m\n",
            "\t\u001b[31minputs/cherry_leaves/cherry-leaves/validation/powdery_mildew/4d53f660-e6ef-47b0-8f12-24a6f7e5ddbb___FREC_Pwd.M 0523.JPG\u001b[m\n",
            "\t\u001b[31minputs/cherry_leaves/cherry-leaves/validation/powdery_mildew/4ecaf512-0d48-40e2-ae00-3dda8914c1a3___FREC_Pwd.M 0310_flipLR.JPG\u001b[m\n",
            "\t\u001b[31minputs/cherry_leaves/cherry-leaves/validation/powdery_mildew/4f75ddb3-f360-4d18-9d1b-f3fe7ffc1798___FREC_Pwd.M 4595_flipLR.JPG\u001b[m\n",
            "\t\u001b[31minputs/cherry_leaves/cherry-leaves/validation/powdery_mildew/5012f73a-d4ae-42bc-b06f-6775343742f8___FREC_Pwd.M 0469_flipLR.JPG\u001b[m\n",
            "\t\u001b[31minputs/cherry_leaves/cherry-leaves/validation/powdery_mildew/525e0e62-573a-4a9c-9955-bd2f4ae39bad___FREC_Pwd.M 4531_flipLR.JPG\u001b[m\n",
            "\t\u001b[31minputs/cherry_leaves/cherry-leaves/validation/powdery_mildew/525ea422-bb9d-47fd-b3e5-cfabf3e989fd___FREC_Pwd.M 4704.JPG\u001b[m\n",
            "\t\u001b[31minputs/cherry_leaves/cherry-leaves/validation/powdery_mildew/55477ea0-03ae-4ddd-afa5-01b0a640533d___FREC_Pwd.M 0304.JPG\u001b[m\n",
            "\t\u001b[31minputs/cherry_leaves/cherry-leaves/validation/powdery_mildew/5588e2ce-bc1e-4ce0-8392-6bfa40d334d5___FREC_Pwd.M 4671.JPG\u001b[m\n",
            "\t\u001b[31minputs/cherry_leaves/cherry-leaves/validation/powdery_mildew/563b4d04-b28c-416c-8469-dc0ea1fdafd4___FREC_Pwd.M 5143_flipLR.JPG\u001b[m\n",
            "\t\u001b[31minputs/cherry_leaves/cherry-leaves/validation/powdery_mildew/56a9ffe5-ea20-41de-b40f-c6970f54fab4___FREC_Pwd.M 4837_flipLR.JPG\u001b[m\n",
            "\t\u001b[31minputs/cherry_leaves/cherry-leaves/validation/powdery_mildew/5aa2ca92-de44-41cc-97c1-3a622d885337___FREC_Pwd.M 4490.JPG\u001b[m\n",
            "\t\u001b[31minputs/cherry_leaves/cherry-leaves/validation/powdery_mildew/5b542577-0a56-46c3-a18e-f1c114eb6e18___FREC_Pwd.M 4680.JPG\u001b[m\n",
            "\t\u001b[31minputs/cherry_leaves/cherry-leaves/validation/powdery_mildew/5cdf0423-83a1-42ec-97f0-4c91a6130cb4___FREC_Pwd.M 4645_flipLR.JPG\u001b[m\n",
            "\t\u001b[31minputs/cherry_leaves/cherry-leaves/validation/powdery_mildew/5ec8805d-ee83-4bcc-a76f-e6bfbeed7a71___FREC_Pwd.M 5158.JPG\u001b[m\n",
            "\t\u001b[31minputs/cherry_leaves/cherry-leaves/validation/powdery_mildew/5f7971d7-eb71-4b09-ada7-5301ed9ce150___FREC_Pwd.M 4678_flipLR.JPG\u001b[m\n",
            "\t\u001b[31minputs/cherry_leaves/cherry-leaves/validation/powdery_mildew/61505a92-161b-4a79-aee7-eba09ca4e560___FREC_Pwd.M 4615_flipLR.JPG\u001b[m\n",
            "\t\u001b[31minputs/cherry_leaves/cherry-leaves/validation/powdery_mildew/61a751d7-e1fe-433a-b86e-00febef2bb7e___FREC_Pwd.M 4945.JPG\u001b[m\n",
            "\t\u001b[31minputs/cherry_leaves/cherry-leaves/validation/powdery_mildew/6269aa19-6cb1-41de-828d-e59361033b3f___FREC_Pwd.M 0565_flipLR.JPG\u001b[m\n",
            "\t\u001b[31minputs/cherry_leaves/cherry-leaves/validation/powdery_mildew/6521f6d7-05fd-4144-b2e3-a20f0a7e6f7d___FREC_Pwd.M 5010_flipLR.JPG\u001b[m\n",
            "\t\u001b[31minputs/cherry_leaves/cherry-leaves/validation/powdery_mildew/65972389-76f0-4b7a-ac4d-b2e9d6dc8d67___FREC_Pwd.M 4664_flipLR.JPG\u001b[m\n",
            "\t\u001b[31minputs/cherry_leaves/cherry-leaves/validation/powdery_mildew/693a442d-fa07-421e-b8f6-b5db6817b604___FREC_Pwd.M 0532.JPG\u001b[m\n",
            "\t\u001b[31minputs/cherry_leaves/cherry-leaves/validation/powdery_mildew/69ec43f8-9a3a-4c2a-aaa7-18375819931f___FREC_Pwd.M 0518.JPG\u001b[m\n",
            "\t\u001b[31minputs/cherry_leaves/cherry-leaves/validation/powdery_mildew/6c194f25-d1cb-48b1-908e-e6a66a0f6ed2___FREC_Pwd.M 5008.JPG\u001b[m\n",
            "\t\u001b[31minputs/cherry_leaves/cherry-leaves/validation/powdery_mildew/6c2861d5-bc13-4296-aa71-1225c3bad7df___FREC_Pwd.M 4804.JPG\u001b[m\n",
            "\t\u001b[31minputs/cherry_leaves/cherry-leaves/validation/powdery_mildew/6c2861d5-bc13-4296-aa71-1225c3bad7df___FREC_Pwd.M 4804_flipLR.JPG\u001b[m\n",
            "\t\u001b[31minputs/cherry_leaves/cherry-leaves/validation/powdery_mildew/6ca92452-78c5-422b-bec6-afe04e862a62___FREC_Pwd.M 0341.JPG\u001b[m\n",
            "\t\u001b[31minputs/cherry_leaves/cherry-leaves/validation/powdery_mildew/6d3cf9a5-37ab-41e6-b786-4ba6e245560a___FREC_Pwd.M 0521.JPG\u001b[m\n",
            "\t\u001b[31minputs/cherry_leaves/cherry-leaves/validation/powdery_mildew/6d4ccc3a-c410-4d67-8858-e411ad1c4486___FREC_Pwd.M 5007.JPG\u001b[m\n",
            "\t\u001b[31minputs/cherry_leaves/cherry-leaves/validation/powdery_mildew/6d4ccc3a-c410-4d67-8858-e411ad1c4486___FREC_Pwd.M 5007_flipLR.JPG\u001b[m\n",
            "\t\u001b[31minputs/cherry_leaves/cherry-leaves/validation/powdery_mildew/6f54b2ab-ab60-49a6-a203-bc273bbfc17e___FREC_Pwd.M 4733.JPG\u001b[m\n",
            "\t\u001b[31minputs/cherry_leaves/cherry-leaves/validation/powdery_mildew/7054a175-341f-47e7-b948-1db7dd713ff1___FREC_Pwd.M 4605.JPG\u001b[m\n",
            "\t\u001b[31minputs/cherry_leaves/cherry-leaves/validation/powdery_mildew/70e798a5-6773-4abd-86b6-f2e4d2fbb265___FREC_Pwd.M 0574_flipLR.JPG\u001b[m\n",
            "\t\u001b[31minputs/cherry_leaves/cherry-leaves/validation/powdery_mildew/71bcd3c5-95d6-4b6f-88dc-c8dcbf49e6ed___FREC_Pwd.M 4650_flipLR.JPG\u001b[m\n",
            "\t\u001b[31minputs/cherry_leaves/cherry-leaves/validation/powdery_mildew/769cf206-744b-4850-8c29-2ba3c9f3c0a1___FREC_Pwd.M 0495_flipLR.JPG\u001b[m\n",
            "\t\u001b[31minputs/cherry_leaves/cherry-leaves/validation/powdery_mildew/7862888d-6bad-46c1-82a4-f824860ce1b1___FREC_Pwd.M 0533.JPG\u001b[m\n",
            "\t\u001b[31minputs/cherry_leaves/cherry-leaves/validation/powdery_mildew/7899bce2-cd7e-4f46-b636-a7b350d2c9cb___FREC_Pwd.M 4585.JPG\u001b[m\n",
            "\t\u001b[31minputs/cherry_leaves/cherry-leaves/validation/powdery_mildew/78a912be-4a06-43c3-ac79-876b1a0f7c9f___FREC_Pwd.M 5072_flipLR.JPG\u001b[m\n",
            "\t\u001b[31minputs/cherry_leaves/cherry-leaves/validation/powdery_mildew/7e4fa114-22d5-45b5-8ebf-5981ede12875___FREC_Pwd.M 5045_flipLR.JPG\u001b[m\n",
            "\t\u001b[31minputs/cherry_leaves/cherry-leaves/validation/powdery_mildew/7fe8279e-ac07-4b37-823d-35c2d81e7d3c___FREC_Pwd.M 4478_flipLR.JPG\u001b[m\n",
            "\t\u001b[31minputs/cherry_leaves/cherry-leaves/validation/powdery_mildew/81cd32df-f7ac-4ffa-bdc2-0a64b9c13792___FREC_Pwd.M 4505.JPG\u001b[m\n",
            "\t\u001b[31minputs/cherry_leaves/cherry-leaves/validation/powdery_mildew/835aa390-f0a2-490f-9d55-ddd320dbd528___FREC_Pwd.M 0452.JPG\u001b[m\n",
            "\t\u001b[31minputs/cherry_leaves/cherry-leaves/validation/powdery_mildew/84476972-818a-486a-bb2f-a685bc9dac24___FREC_Pwd.M 0407.JPG\u001b[m\n",
            "\t\u001b[31minputs/cherry_leaves/cherry-leaves/validation/powdery_mildew/84c6b4a2-fbab-4315-bd1a-c154c2435ee5___FREC_Pwd.M 4474_flipLR.JPG\u001b[m\n",
            "\t\u001b[31minputs/cherry_leaves/cherry-leaves/validation/powdery_mildew/87458990-3ac3-4cc8-bee6-d4135cb92086___FREC_Pwd.M 0561_flipLR.JPG\u001b[m\n",
            "\t\u001b[31minputs/cherry_leaves/cherry-leaves/validation/powdery_mildew/879dacc2-8446-40dc-818e-a6a025c95673___FREC_Pwd.M 4617_flipLR.JPG\u001b[m\n",
            "\t\u001b[31minputs/cherry_leaves/cherry-leaves/validation/powdery_mildew/87ef0359-61bf-4b11-8ae1-7e46e6e90750___FREC_Pwd.M 0535.JPG\u001b[m\n",
            "\t\u001b[31minputs/cherry_leaves/cherry-leaves/validation/powdery_mildew/8a3e2835-651b-4e81-8f39-60ac46db2962___FREC_Pwd.M 4897.JPG\u001b[m\n",
            "\t\u001b[31minputs/cherry_leaves/cherry-leaves/validation/powdery_mildew/8ad6e23a-7ad5-47a7-a2e3-55655ef64ccd___FREC_Pwd.M 4461.JPG\u001b[m\n",
            "\t\u001b[31minputs/cherry_leaves/cherry-leaves/validation/powdery_mildew/8c59b0dd-1ea9-4c7f-a008-de5cafcbb91d___FREC_Pwd.M 4570_flipLR.JPG\u001b[m\n",
            "\t\u001b[31minputs/cherry_leaves/cherry-leaves/validation/powdery_mildew/8cee5b79-cc5f-4be4-8900-588ec384b4b3___FREC_Pwd.M 4771_flipLR.JPG\u001b[m\n",
            "\t\u001b[31minputs/cherry_leaves/cherry-leaves/validation/powdery_mildew/8efb390e-1477-4de8-90cc-829adfc3e46c___FREC_Pwd.M 4987.JPG\u001b[m\n",
            "\t\u001b[31minputs/cherry_leaves/cherry-leaves/validation/powdery_mildew/902ca277-0bba-4a6d-a685-c5b1aa8fa4ec___FREC_Pwd.M 0448.JPG\u001b[m\n",
            "\t\u001b[31minputs/cherry_leaves/cherry-leaves/validation/powdery_mildew/930823eb-ada1-49cf-873b-49574680c1f5___FREC_Pwd.M 4601.JPG\u001b[m\n",
            "\t\u001b[31minputs/cherry_leaves/cherry-leaves/validation/powdery_mildew/935d5fc7-11d0-4739-98a0-2aa0224ee62d___FREC_Pwd.M 4955.JPG\u001b[m\n",
            "\t\u001b[31minputs/cherry_leaves/cherry-leaves/validation/powdery_mildew/9573e36f-a55b-4011-87bb-dadd511b8f7d___FREC_Pwd.M 4639.JPG\u001b[m\n",
            "\t\u001b[31minputs/cherry_leaves/cherry-leaves/validation/powdery_mildew/95dbe9f1-ea94-4b3b-9ae4-5ee670226eee___FREC_Pwd.M 4829.JPG\u001b[m\n",
            "\t\u001b[31minputs/cherry_leaves/cherry-leaves/validation/powdery_mildew/9888b4cb-17f3-4aa4-9f8e-39ddd67d3110___FREC_Pwd.M 4940.JPG\u001b[m\n",
            "\t\u001b[31minputs/cherry_leaves/cherry-leaves/validation/powdery_mildew/9a190630-f11a-4e5b-9495-3c4535bb4144___FREC_Pwd.M 0367_flipLR.JPG\u001b[m\n",
            "\t\u001b[31minputs/cherry_leaves/cherry-leaves/validation/powdery_mildew/9af3c619-59ed-4037-8106-26af5fadc388___FREC_Pwd.M 5011.JPG\u001b[m\n",
            "\t\u001b[31minputs/cherry_leaves/cherry-leaves/validation/powdery_mildew/9e2c02c8-8f21-4ddc-98e3-a653a4660db5___FREC_Pwd.M 5076_flipLR.JPG\u001b[m\n",
            "\t\u001b[31minputs/cherry_leaves/cherry-leaves/validation/powdery_mildew/9e7ff0c0-2ae6-4cbc-a205-11c639530046___FREC_Pwd.M 5116.JPG\u001b[m\n",
            "\t\u001b[31minputs/cherry_leaves/cherry-leaves/validation/powdery_mildew/9e7ff0c0-2ae6-4cbc-a205-11c639530046___FREC_Pwd.M 5116_flipLR.JPG\u001b[m\n",
            "\t\u001b[31minputs/cherry_leaves/cherry-leaves/validation/powdery_mildew/a00c665f-2c4b-42b1-9e36-a77a129c79da___FREC_Pwd.M 0301.JPG\u001b[m\n",
            "\t\u001b[31minputs/cherry_leaves/cherry-leaves/validation/powdery_mildew/a00c665f-2c4b-42b1-9e36-a77a129c79da___FREC_Pwd.M 0301_flipLR.JPG\u001b[m\n",
            "\t\u001b[31minputs/cherry_leaves/cherry-leaves/validation/powdery_mildew/a1b8deb6-ef70-4d87-8fea-188a2d84b240___FREC_Pwd.M 5069_flipLR.JPG\u001b[m\n",
            "\t\u001b[31minputs/cherry_leaves/cherry-leaves/validation/powdery_mildew/a1d9a59f-ea5f-47c7-8305-75cffd13a86c___FREC_Pwd.M 4892.JPG\u001b[m\n",
            "\t\u001b[31minputs/cherry_leaves/cherry-leaves/validation/powdery_mildew/a2916797-9058-4c29-a6af-bec8c708efab___FREC_Pwd.M 4597.JPG\u001b[m\n",
            "\t\u001b[31minputs/cherry_leaves/cherry-leaves/validation/powdery_mildew/a726864c-cd52-4dde-818b-7b79b6ce2f0e___FREC_Pwd.M 4915.JPG\u001b[m\n",
            "\t\u001b[31minputs/cherry_leaves/cherry-leaves/validation/powdery_mildew/a76ebe42-b9c1-4848-8b89-b62ef6e1a91c___FREC_Pwd.M 5115.JPG\u001b[m\n",
            "\t\u001b[31minputs/cherry_leaves/cherry-leaves/validation/powdery_mildew/abf1a32b-a125-44f8-aadc-79b2d5d3b4a2___FREC_Pwd.M 5127_flipLR.JPG\u001b[m\n",
            "\t\u001b[31minputs/cherry_leaves/cherry-leaves/validation/powdery_mildew/ac3e6824-a60e-4c8f-a844-4e97abc983a7___FREC_Pwd.M 4801_flipLR.JPG\u001b[m\n",
            "\t\u001b[31minputs/cherry_leaves/cherry-leaves/validation/powdery_mildew/ac6dfdbf-88d8-41f3-ae2c-ac264c1be2f5___FREC_Pwd.M 5083_flipLR.JPG\u001b[m\n",
            "\t\u001b[31minputs/cherry_leaves/cherry-leaves/validation/powdery_mildew/b136af29-b428-4b17-b9c8-b56d8fadb559___FREC_Pwd.M 0378.JPG\u001b[m\n",
            "\t\u001b[31minputs/cherry_leaves/cherry-leaves/validation/powdery_mildew/b22853ce-86ca-4a0c-9a16-ce82e0817513___FREC_Pwd.M 4942.JPG\u001b[m\n",
            "\t\u001b[31minputs/cherry_leaves/cherry-leaves/validation/powdery_mildew/b5e589a6-b808-4d42-8e8b-f41d554f29e2___FREC_Pwd.M 4694.JPG\u001b[m\n",
            "\t\u001b[31minputs/cherry_leaves/cherry-leaves/validation/powdery_mildew/b60cc28f-7b33-4b48-a8d6-504a11773e22___FREC_Pwd.M 0548.JPG\u001b[m\n",
            "\t\u001b[31minputs/cherry_leaves/cherry-leaves/validation/powdery_mildew/b67c84bb-04cb-41f3-bb91-0f7f32fc5f1e___FREC_Pwd.M 5035_flipLR.JPG\u001b[m\n",
            "\t\u001b[31minputs/cherry_leaves/cherry-leaves/validation/powdery_mildew/b7da6789-7b7f-4b46-bc80-8d134a870fff___FREC_Pwd.M 4866_flipLR.JPG\u001b[m\n",
            "\t\u001b[31minputs/cherry_leaves/cherry-leaves/validation/powdery_mildew/b97fc191-9b3b-4c4c-b857-eca7767c033a___FREC_Pwd.M 4816.JPG\u001b[m\n",
            "\t\u001b[31minputs/cherry_leaves/cherry-leaves/validation/powdery_mildew/b97fc191-9b3b-4c4c-b857-eca7767c033a___FREC_Pwd.M 4816_flipLR.JPG\u001b[m\n",
            "\t\u001b[31minputs/cherry_leaves/cherry-leaves/validation/powdery_mildew/bb998de5-3d79-46c7-ad23-2dffc9a8037d___FREC_Pwd.M 4826.JPG\u001b[m\n",
            "\t\u001b[31minputs/cherry_leaves/cherry-leaves/validation/powdery_mildew/bc3b4287-ce7a-4ca1-bfa8-4812832fa00f___FREC_Pwd.M 0412.JPG\u001b[m\n",
            "\t\u001b[31minputs/cherry_leaves/cherry-leaves/validation/powdery_mildew/bec20378-8230-4b53-8dc4-942bc878a592___FREC_Pwd.M 4495_flipLR.JPG\u001b[m\n",
            "\t\u001b[31minputs/cherry_leaves/cherry-leaves/validation/powdery_mildew/bf2142d8-3f04-4a04-96b4-d94aea138081___FREC_Pwd.M 4504_flipLR.JPG\u001b[m\n",
            "\t\u001b[31minputs/cherry_leaves/cherry-leaves/validation/powdery_mildew/bf88ee41-8b66-4915-b799-a0894ae02ad8___FREC_Pwd.M 4968_flipLR.JPG\u001b[m\n",
            "\t\u001b[31minputs/cherry_leaves/cherry-leaves/validation/powdery_mildew/c097e7ca-2488-497c-94be-4646e950bc54___FREC_Pwd.M 4513_flipLR.JPG\u001b[m\n",
            "\t\u001b[31minputs/cherry_leaves/cherry-leaves/validation/powdery_mildew/c10fbf4c-baa3-4242-956a-a6262f6b1bf3___FREC_Pwd.M 5037_flipLR.JPG\u001b[m\n",
            "\t\u001b[31minputs/cherry_leaves/cherry-leaves/validation/powdery_mildew/c2e9925a-9896-47a0-a969-3ce336a3ae05___FREC_Pwd.M 4874_flipLR.JPG\u001b[m\n",
            "\t\u001b[31minputs/cherry_leaves/cherry-leaves/validation/powdery_mildew/c33d7542-45be-47a0-a9cb-93980b16ba1e___FREC_Pwd.M 0347_flipLR.JPG\u001b[m\n",
            "\t\u001b[31minputs/cherry_leaves/cherry-leaves/validation/powdery_mildew/c343369f-d705-4274-a55a-7fdefed948f7___FREC_Pwd.M 0386.JPG\u001b[m\n",
            "\t\u001b[31minputs/cherry_leaves/cherry-leaves/validation/powdery_mildew/c3e1ea3d-8fb8-4ebe-8b3c-20bdf02a8038___FREC_Pwd.M 5125_flipLR.JPG\u001b[m\n",
            "\t\u001b[31minputs/cherry_leaves/cherry-leaves/validation/powdery_mildew/c47ee85f-2032-4c39-ab3b-3c12e0ef10d6___FREC_Pwd.M 4596_flipLR.JPG\u001b[m\n",
            "\t\u001b[31minputs/cherry_leaves/cherry-leaves/validation/powdery_mildew/c7cb523b-78cc-4c1b-baaf-8de4bb43aa0b___FREC_Pwd.M 4946.JPG\u001b[m\n",
            "\t\u001b[31minputs/cherry_leaves/cherry-leaves/validation/powdery_mildew/c82e8bfd-a4d6-448f-9c6c-1da54df1e12f___FREC_Pwd.M 4547.JPG\u001b[m\n",
            "\t\u001b[31minputs/cherry_leaves/cherry-leaves/validation/powdery_mildew/c82e8bfd-a4d6-448f-9c6c-1da54df1e12f___FREC_Pwd.M 4547_flipLR.JPG\u001b[m\n",
            "\t\u001b[31minputs/cherry_leaves/cherry-leaves/validation/powdery_mildew/cd6f8dee-5c38-4e3c-946d-2d79a517d76e___FREC_Pwd.M 0284_flipLR.JPG\u001b[m\n",
            "\t\u001b[31minputs/cherry_leaves/cherry-leaves/validation/powdery_mildew/cf125685-f590-41e7-9b04-836d2222b263___FREC_Pwd.M 4656_flipLR.JPG\u001b[m\n",
            "\t\u001b[31minputs/cherry_leaves/cherry-leaves/validation/powdery_mildew/d0f63be7-d2c4-4041-819f-9167015d1fed___FREC_Pwd.M 0486.JPG\u001b[m\n",
            "\t\u001b[31minputs/cherry_leaves/cherry-leaves/validation/powdery_mildew/d297097e-4fbb-4133-b8d8-eb3a2d9acfc2___FREC_Pwd.M 4609_flipLR.JPG\u001b[m\n",
            "\t\u001b[31minputs/cherry_leaves/cherry-leaves/validation/powdery_mildew/d42add39-cfc9-4603-948e-fb70a8fb0a12___FREC_Pwd.M 4823_flipLR.JPG\u001b[m\n",
            "\t\u001b[31minputs/cherry_leaves/cherry-leaves/validation/powdery_mildew/d45b03fe-d4cc-470c-bb27-e8ced9b6468f___FREC_Pwd.M 5081.JPG\u001b[m\n",
            "\t\u001b[31minputs/cherry_leaves/cherry-leaves/validation/powdery_mildew/d891bc6f-2597-40fd-b55a-aee7fe1e4e6e___FREC_Pwd.M 4523.JPG\u001b[m\n",
            "\t\u001b[31minputs/cherry_leaves/cherry-leaves/validation/powdery_mildew/d8972cd7-999e-44c5-ac22-5ef2d595cd83___FREC_Pwd.M 4658_flipLR.JPG\u001b[m\n",
            "\t\u001b[31minputs/cherry_leaves/cherry-leaves/validation/powdery_mildew/d93c6cb4-f143-46b1-96db-bb12e8bd6c0b___FREC_Pwd.M 4964_flipLR.JPG\u001b[m\n",
            "\t\u001b[31minputs/cherry_leaves/cherry-leaves/validation/powdery_mildew/da2dd4af-37c1-4951-8fd3-e869cd3007b9___FREC_Pwd.M 4976_flipLR.JPG\u001b[m\n",
            "\t\u001b[31minputs/cherry_leaves/cherry-leaves/validation/powdery_mildew/da90c057-c7da-48f1-b709-c53ac530e44f___FREC_Pwd.M 4768.JPG\u001b[m\n",
            "\t\u001b[31minputs/cherry_leaves/cherry-leaves/validation/powdery_mildew/dbf6a6fd-5606-4584-bd11-659a86eac60b___FREC_Pwd.M 4707_flipLR.JPG\u001b[m\n",
            "\t\u001b[31minputs/cherry_leaves/cherry-leaves/validation/powdery_mildew/de3c4897-eda8-4974-971d-4d88cbc5f893___FREC_Pwd.M 4935_flipLR.JPG\u001b[m\n",
            "\t\u001b[31minputs/cherry_leaves/cherry-leaves/validation/powdery_mildew/de8ef18c-2d11-47e0-8fa1-85f5f0177277___FREC_Pwd.M 0473.JPG\u001b[m\n",
            "\t\u001b[31minputs/cherry_leaves/cherry-leaves/validation/powdery_mildew/dea9ce8a-30b3-47cd-bb96-29e648896c8f___FREC_Pwd.M 4947_flipLR.JPG\u001b[m\n",
            "\t\u001b[31minputs/cherry_leaves/cherry-leaves/validation/powdery_mildew/e1c9896e-a3a6-401a-b3fd-325b8052365b___FREC_Pwd.M 0376.JPG\u001b[m\n",
            "\t\u001b[31minputs/cherry_leaves/cherry-leaves/validation/powdery_mildew/e1ea1451-0d15-4b27-93c0-9d20fd15d396___FREC_Pwd.M 0400.JPG\u001b[m\n",
            "\t\u001b[31minputs/cherry_leaves/cherry-leaves/validation/powdery_mildew/e2a982d2-166f-4e9c-a869-50f52dce5315___FREC_Pwd.M 4973_flipLR.JPG\u001b[m\n",
            "\t\u001b[31minputs/cherry_leaves/cherry-leaves/validation/powdery_mildew/e2d9d3c3-0472-4509-ae44-1ac52e4ed23a___FREC_Pwd.M 4888.JPG\u001b[m\n",
            "\t\u001b[31minputs/cherry_leaves/cherry-leaves/validation/powdery_mildew/e5914945-129f-4862-836e-0866309dc6b1___FREC_Pwd.M 4989.JPG\u001b[m\n",
            "\t\u001b[31minputs/cherry_leaves/cherry-leaves/validation/powdery_mildew/e83b2526-f0fb-4faf-88d5-c9f8e43d69d1___FREC_Pwd.M 4929.JPG\u001b[m\n",
            "\t\u001b[31minputs/cherry_leaves/cherry-leaves/validation/powdery_mildew/ea9ddb0e-bde0-4972-b202-8554fb62e348___FREC_Pwd.M 4806.JPG\u001b[m\n",
            "\t\u001b[31minputs/cherry_leaves/cherry-leaves/validation/powdery_mildew/ea9ddb0e-bde0-4972-b202-8554fb62e348___FREC_Pwd.M 4806_flipLR.JPG\u001b[m\n",
            "\t\u001b[31minputs/cherry_leaves/cherry-leaves/validation/powdery_mildew/eaa2a350-ce36-4b52-b259-d71d43ee2dda___FREC_Pwd.M 0353.JPG\u001b[m\n",
            "\t\u001b[31minputs/cherry_leaves/cherry-leaves/validation/powdery_mildew/ebd3dcc5-9ac0-49c8-b8cd-03f4869f9ce2___FREC_Pwd.M 4695.JPG\u001b[m\n",
            "\t\u001b[31minputs/cherry_leaves/cherry-leaves/validation/powdery_mildew/ee6035b6-8ac1-49db-8ea5-079ccea4790d___FREC_Pwd.M 4590.JPG\u001b[m\n",
            "\t\u001b[31minputs/cherry_leaves/cherry-leaves/validation/powdery_mildew/ee6035b6-8ac1-49db-8ea5-079ccea4790d___FREC_Pwd.M 4590_flipLR.JPG\u001b[m\n",
            "\t\u001b[31minputs/cherry_leaves/cherry-leaves/validation/powdery_mildew/f0318151-9783-43f4-a1f1-d8ec05e565df___FREC_Pwd.M 0315_flipLR.JPG\u001b[m\n",
            "\t\u001b[31minputs/cherry_leaves/cherry-leaves/validation/powdery_mildew/f0bd1b72-eaaa-4a37-b84f-ff62bb1214f4___FREC_Pwd.M 4540_flipLR.JPG\u001b[m\n",
            "\t\u001b[31minputs/cherry_leaves/cherry-leaves/validation/powdery_mildew/f3f8c47e-5a42-4c5b-9ba7-7522caa6ceb1___FREC_Pwd.M 0356.JPG\u001b[m\n",
            "\t\u001b[31minputs/cherry_leaves/cherry-leaves/validation/powdery_mildew/f5984d40-8f9d-4947-999e-7e146441e9c9___FREC_Pwd.M 4703_flipLR.JPG\u001b[m\n",
            "\t\u001b[31minputs/cherry_leaves/cherry-leaves/validation/powdery_mildew/f78507be-2f2a-456e-bf8b-4fb02409a4d8___FREC_Pwd.M 5071_flipLR.JPG\u001b[m\n",
            "\t\u001b[31minputs/cherry_leaves/cherry-leaves/validation/powdery_mildew/f7f22a1d-718d-4b6d-ac7a-e0121d97d55e___FREC_Pwd.M 4533_flipLR.JPG\u001b[m\n",
            "\t\u001b[31minputs/cherry_leaves/cherry-leaves/validation/powdery_mildew/f8541ff1-4f29-4c2a-8ee6-8ac486706f6c___FREC_Pwd.M 4535.JPG\u001b[m\n",
            "\t\u001b[31minputs/cherry_leaves/cherry-leaves/validation/powdery_mildew/fc3407ee-984f-4091-b4a9-0402ade2ecb7___FREC_Pwd.M 0422.JPG\u001b[m\n",
            "\t\u001b[31minputs/cherry_leaves/cherry-leaves/validation/powdery_mildew/fc970b2a-101f-46d8-ba74-72fc03d0c85c___FREC_Pwd.M 4634_flipLR.JPG\u001b[m\n",
            "\t\u001b[31minputs/cherry_leaves/cherry-leaves/validation/powdery_mildew/fd437fb9-f319-4f40-9142-b8800bccd21e___FREC_Pwd.M 5142.JPG\u001b[m\n",
            "\t\u001b[31minputs/cherry_leaves/cherry-leaves/validation/powdery_mildew/fded10e6-0668-43d4-be77-e091cafc25fd___FREC_Pwd.M 0538.JPG\u001b[m\n",
            "\t\u001b[31minputs/cherry_leaves/cherry-leaves/validation/powdery_mildew/fe410980-15d4-472d-b8e6-4fece7d302ee___FREC_Pwd.M 4949_flipLR.JPG\u001b[m\n",
            "\t\u001b[31minputs/cherry_leaves/cherry-leaves/validation/powdery_mildew/fee69dd9-eeb1-4cf2-b249-17482605f1f7___FREC_Pwd.M 4689.JPG\u001b[m\n",
            "\t\u001b[31minputs/cherry_leaves/cherry-leaves/validation/powdery_mildew/ff59e364-f269-4a12-ac5a-be4f1e05dbe3___FREC_Pwd.M 4579.JPG\u001b[m\n",
            "\t\u001b[31mjupyter_notebooks/Modelling and Evaluation.ipynb\u001b[m\n",
            "\t\u001b[31moutputs/v1/cherry_leaves_model.h5\u001b[m\n",
            "\t\u001b[31moutputs/v1/class_indices.pkl\u001b[m\n",
            "\t\u001b[31moutputs/v1/evaluation.pkl\u001b[m\n",
            "\t\u001b[31moutputs/v1/labels_distribution.png\u001b[m\n",
            "\t\u001b[31moutputs/v1/model_training_acc.png\u001b[m\n",
            "\t\u001b[31moutputs/v1/model_training_losses.png\u001b[m\n",
            "\n",
            "no changes added to commit (use \"git add\" and/or \"git commit -a\")\n"
          ]
        }
      ],
      "source": [
        "!git status"
      ]
    },
    {
      "cell_type": "markdown",
      "metadata": {},
      "source": [
        "* Git add"
      ]
    },
    {
      "cell_type": "code",
      "execution_count": 34,
      "metadata": {},
      "outputs": [],
      "source": [
        "!git add ."
      ]
    },
    {
      "cell_type": "markdown",
      "metadata": {},
      "source": [
        "* Git commit"
      ]
    },
    {
      "cell_type": "code",
      "execution_count": null,
      "metadata": {},
      "outputs": [],
      "source": [
        "!git commit -am \" Model and Evaluate cherry leaves data\""
      ]
    }
  ],
  "metadata": {
    "accelerator": "GPU",
    "colab": {
      "name": "Data Practitioner Jupyter Notebook.ipynb",
      "provenance": [],
      "toc_visible": true
    },
    "kernelspec": {
      "display_name": "Python 3",
      "language": "python",
      "name": "python3"
    },
    "language_info": {
      "codemirror_mode": {
        "name": "ipython",
        "version": 3
      },
      "file_extension": ".py",
      "mimetype": "text/x-python",
      "name": "python",
      "nbconvert_exporter": "python",
      "pygments_lexer": "ipython3",
      "version": "3.12.2"
    },
    "orig_nbformat": 2
  },
  "nbformat": 4,
  "nbformat_minor": 2
}
